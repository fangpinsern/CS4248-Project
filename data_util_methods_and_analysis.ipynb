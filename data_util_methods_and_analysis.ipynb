{
  "nbformat": 4,
  "nbformat_minor": 0,
  "metadata": {
    "colab": {
      "name": "data_util_methods_and_analysis.ipynb",
      "provenance": [],
      "collapsed_sections": [
        "CEph5TAAoieN",
        "tWDwOT3ArW_H",
        "xpG3Ql2vr9G_",
        "TllVCkfAsfRX"
      ]
    },
    "kernelspec": {
      "name": "python3",
      "display_name": "Python 3"
    },
    "language_info": {
      "name": "python"
    }
  },
  "cells": [
    {
      "cell_type": "markdown",
      "metadata": {
        "id": "Fh8dps_9AYIn"
      },
      "source": [
        "This notebook is the data analysis and derivation of the general text preprocessing techniques used in [CS4248-Project](https://github.com/fangpinsern/CS4248-Project). Detailed explanations for this portion can be found in Section III-A and Section V-A of the [project report](https://github.com/fangpinsern/CS4248-Project/blob/master/CS4248_Group_Report.pdf). \n",
        "\n",
        "This notebook can be run independently from other code files in the project. Follow the instructions in the code below to obtain the files necessary for running this notebook.\n",
        "\n",
        "Author: @wenmogu"
      ]
    },
    {
      "cell_type": "markdown",
      "metadata": {
        "id": "RYFmr5YxtzNN"
      },
      "source": [
        "# Run the following if you wish to run this file on Google Golab"
      ]
    },
    {
      "cell_type": "code",
      "metadata": {
        "colab": {
          "base_uri": "https://localhost:8080/"
        },
        "id": "6oMtQTPzvtRp",
        "outputId": "73db636d-bca2-477e-f358-65484066fba0"
      },
      "source": [
        "from google.colab import drive\n",
        "drive.mount('/content/gdrive/')"
      ],
      "execution_count": null,
      "outputs": [
        {
          "output_type": "stream",
          "text": [
            "Mounted at /content/gdrive/\n"
          ],
          "name": "stdout"
        }
      ]
    },
    {
      "cell_type": "code",
      "metadata": {
        "id": "rT5cPkhBGmE6"
      },
      "source": [
        "# change the working_dir value to your working directory\n",
        "working_dir = '/content/gdrive/My Drive/NLP Group Project 2/'\n",
        "# someone else's working_dir:\n",
        "# working_dir = ..."
      ],
      "execution_count": null,
      "outputs": []
    },
    {
      "cell_type": "code",
      "metadata": {
        "id": "uR7h_uO_vtRt"
      },
      "source": [
        "import sys\n",
        "sys.path.append(working_dir)"
      ],
      "execution_count": null,
      "outputs": []
    },
    {
      "cell_type": "markdown",
      "metadata": {
        "id": "b-f0TqgMlwsA"
      },
      "source": [
        "# Imports"
      ]
    },
    {
      "cell_type": "code",
      "metadata": {
        "colab": {
          "base_uri": "https://localhost:8080/"
        },
        "id": "vftfX6sZgruH",
        "outputId": "5271361e-d413-451a-b52b-a2892c00906f"
      },
      "source": [
        "import os\n",
        "\n",
        "import numpy as np \n",
        "import pandas as pd \n",
        "import re\n",
        "from sklearn.feature_extraction.text import CountVectorizer, TfidfVectorizer\n",
        "import nltk\n",
        "import pickle\n",
        "\n",
        "import matplotlib.pyplot as plt\n",
        "\n",
        "from sklearn.feature_extraction.text import ENGLISH_STOP_WORDS\n",
        "from nltk.corpus import stopwords\n",
        "from nltk.stem import WordNetLemmatizer\n",
        "from nltk.corpus import wordnet as wn\n",
        "import csv\n",
        "\n",
        "nltk.download('stopwords')\n",
        "nltk.download('punkt')\n",
        "nltk.download('averaged_perceptron_tagger')\n",
        "nltk.download('wordnet')\n",
        "nltk.download('universal_tagset')"
      ],
      "execution_count": null,
      "outputs": [
        {
          "output_type": "stream",
          "text": [
            "[nltk_data] Downloading package stopwords to /root/nltk_data...\n",
            "[nltk_data]   Unzipping corpora/stopwords.zip.\n",
            "[nltk_data] Downloading package punkt to /root/nltk_data...\n",
            "[nltk_data]   Unzipping tokenizers/punkt.zip.\n",
            "[nltk_data] Downloading package averaged_perceptron_tagger to\n",
            "[nltk_data]     /root/nltk_data...\n",
            "[nltk_data]   Unzipping taggers/averaged_perceptron_tagger.zip.\n",
            "[nltk_data] Downloading package wordnet to /root/nltk_data...\n",
            "[nltk_data]   Unzipping corpora/wordnet.zip.\n",
            "[nltk_data] Downloading package universal_tagset to /root/nltk_data...\n",
            "[nltk_data]   Unzipping taggers/universal_tagset.zip.\n"
          ],
          "name": "stdout"
        },
        {
          "output_type": "execute_result",
          "data": {
            "text/plain": [
              "True"
            ]
          },
          "metadata": {
            "tags": []
          },
          "execution_count": 4
        }
      ]
    },
    {
      "cell_type": "markdown",
      "metadata": {
        "id": "F9lgAk82088f"
      },
      "source": [
        "Uncomment and run the line below if you wish to run the section where we train mitten model to obtain glove vectors for bigram tokens"
      ]
    },
    {
      "cell_type": "code",
      "metadata": {
        "id": "_U5gIWUg_aPm"
      },
      "source": [
        "# pip install -U mittens"
      ],
      "execution_count": null,
      "outputs": []
    },
    {
      "cell_type": "markdown",
      "metadata": {
        "id": "7tk7BwhVn1yr"
      },
      "source": [
        "# Constants and Paths"
      ]
    },
    {
      "cell_type": "code",
      "metadata": {
        "id": "PeoD4DCGBMmL"
      },
      "source": [
        "JSON_FILE = os.path.join(working_dir, 'News_Category_Dataset_v2.json')\n",
        "# download from: https://drive.google.com/file/d/1xF5vGE-nhZBDA_9CwIiSmAFiI2AN_vUo/view?usp=sharing\n",
        "CATEGORY_SUBSET = ['CRIME', 'RELIGION', 'TECH', 'MONEY', 'FOOD & DRINK', 'SPORTS', 'TRAVEL', 'WOMEN', 'STYLE', 'ENTERTAINMENT']\n",
        "\n",
        "TRAIN_TEST_SPLIT_DATASET = os.path.join(working_dir, 'train_test_split_dataset.csv')\n",
        "# download from: https://drive.google.com/file/d/1h7WzzH9Q0xzCey1szS_w29soYGV-O31L/view?usp=sharing\n",
        "# it can also be generated by running train_test_split()\n",
        "\n",
        "BIGRAM_TRIGRAM_VOCAB = os.path.join(working_dir, \"bigram_trigram_vocab_PMI.csv\")\n",
        "# download from: https://github.com/fangpinsern/CS4248-Project/blob/master/proj/vocab/bigram_trigram_vocab_PMI.csv\n",
        "\n",
        "GLOVE_50D_TXT = os.path.join(working_dir, \"glove.6B.50d.txt\")\n",
        "# download from: https://drive.google.com/file/d/1b5Gfz8RZJUemguigVrLfhXfuCZ96kW1c/view?usp=sharing\n",
        "\n",
        "BIGRAM_VOCAB_EMBEDDINGS = os.path.join(working_dir, \"mitten_bigram_dict_50d_515_10000.pkl\")\n",
        "# download from: https://github.com/fangpinsern/CS4248-Project/blob/master/proj/vocab/mitten_bigram_dict_50d_515_10000.pkl"
      ],
      "execution_count": null,
      "outputs": []
    },
    {
      "cell_type": "markdown",
      "metadata": {
        "id": "QZuuIgrqn7Ki"
      },
      "source": [
        "# Utility Functions"
      ]
    },
    {
      "cell_type": "markdown",
      "metadata": {
        "id": "gkNnWkk67V3C"
      },
      "source": [
        "## Get dataset"
      ]
    },
    {
      "cell_type": "code",
      "metadata": {
        "id": "kw8jxbKwt6an"
      },
      "source": [
        "def get_dataset():\n",
        "    a = pd.read_json(JSON_FILE, lines=True)\n",
        "    a = a.drop(a[a['headline']==''].index.values)\n",
        "    a = a[a['category'].isin(CATEGORY_SUBSET)]\n",
        "    return a[['headline', 'category']]"
      ],
      "execution_count": null,
      "outputs": []
    },
    {
      "cell_type": "code",
      "metadata": {
        "id": "j-rmyYsFwEPs"
      },
      "source": [
        "def train_test_split(percent_train=0.7, percent_dev=0.1, percent_test=0.2):\n",
        "    if os.path.exists(TRAIN_TEST_SPLIT_DATASET):\n",
        "      data = pd.read_csv(TRAIN_TEST_SPLIT_DATASET)\n",
        "      return data\n",
        "\n",
        "    data = get_dataset()\n",
        "    l = len(data)\n",
        "    train_num = int(l*0.7)\n",
        "    dev_num = int(l*0.1)\n",
        "    rnd_ind = np.arange(l)\n",
        "    np.random.shuffle(rnd_ind)\n",
        "    train_ind = rnd_ind[:train_num]\n",
        "    dev_ind = rnd_ind[train_num:train_num+dev_num]\n",
        "    test_ind = rnd_ind[train_num+dev_num:]\n",
        "    data = data.reset_index()\n",
        "    data['ind'] = data.index\n",
        "\n",
        "    def change_phase(ind):\n",
        "      if ind in train_ind:\n",
        "        return 'train'\n",
        "      elif ind in dev_ind:\n",
        "        return 'dev'\n",
        "      else:\n",
        "        return 'test'\n",
        "\n",
        "    data['phase'] = data['ind'].apply(change_phase)\n",
        "    data = data.drop(columns=['ind'])\n",
        "\n",
        "    data.to_csv(TRAIN_TEST_SPLIT_DATASET, index=False)\n",
        "\n",
        "    return data"
      ],
      "execution_count": null,
      "outputs": []
    },
    {
      "cell_type": "code",
      "metadata": {
        "id": "PrhtSYNcWoIJ"
      },
      "source": [
        "def balanced_train_test_split(percent_train=0.7, percent_dev=0.1, percent_test=0.2, count=2000):\n",
        "    def balance_train_data(train_data, count):\n",
        "      ret = None\n",
        "      for cat in CATEGORY_SUBSET:\n",
        "        data_of_cat = train_data[train_data['category']==cat]\n",
        "        data_of_cat = data_of_cat.sample(count, replace=True)\n",
        "        if ret is None:\n",
        "          ret = data_of_cat\n",
        "        else:\n",
        "          ret = pd.concat([ret, data_of_cat], axis=0)\n",
        "      return ret\n",
        "      \n",
        "    if os.path.exists(TRAIN_TEST_SPLIT_DATASET):\n",
        "      data = pd.read_csv(TRAIN_TEST_SPLIT_DATASET)\n",
        "      train_data = data[data['phase']=='train']\n",
        "      other_data = data[data['phase']!='train']\n",
        "      train_data = balance_train_data(train_data, count)\n",
        "      data = pd.concat([train_data, other_data], axis=0)\n",
        "      return data\n",
        "\n",
        "    data = get_dataset()\n",
        "    l = len(data)\n",
        "    train_num = int(l*0.7)\n",
        "    dev_num = int(l*0.1)\n",
        "    rnd_ind = np.arange(l)\n",
        "    np.random.shuffle(rnd_ind)\n",
        "    train_ind = rnd_ind[:train_num]\n",
        "    dev_ind = rnd_ind[train_num:train_num+dev_num]\n",
        "    test_ind = rnd_ind[train_num+dev_num:]\n",
        "    data = data.reset_index()\n",
        "    data['ind'] = data.index\n",
        "\n",
        "    def change_phase(ind):\n",
        "      if ind in train_ind:\n",
        "        return 'train'\n",
        "      elif ind in dev_ind:\n",
        "        return 'dev'\n",
        "      else:\n",
        "        return 'test'\n",
        "\n",
        "    data['phase'] = data['ind'].apply(change_phase)\n",
        "    data = data.drop(columns=['ind'])\n",
        "\n",
        "    data.to_csv(TRAIN_TEST_SPLIT_DATASET, index=False)\n",
        "\n",
        "    train_data = data[data['phase']=='train']\n",
        "    test_data = data[data['phase']=='test']\n",
        "    dev_data = data[data['phase']=='dev']\n",
        "    train_data = balance_train_data(train_data, count)\n",
        "    test_data = balance_train_data(test_data, count / 10)\n",
        "    data = pd.concat([train_data, dev_data, test_data], axis=0)\n",
        "\n",
        "    return data"
      ],
      "execution_count": null,
      "outputs": []
    },
    {
      "cell_type": "markdown",
      "metadata": {
        "id": "V-897L_hRzfd"
      },
      "source": [
        "## Get Frequent N-Grams For Each Category and Show Relative Frequency"
      ]
    },
    {
      "cell_type": "code",
      "metadata": {
        "id": "BHq0aa-Q32ja"
      },
      "source": [
        "def get_frequent_ngrams_for_categories(dataset, ngram_range, tokenizer=None, v=None, n=20, remove_stopwords=False):\n",
        "    \n",
        "    def get_top_n_ngrams(corpus):\n",
        "        if remove_stopwords:\n",
        "            vec = CountVectorizer(ngram_range=ngram_range, tokenizer=tokenizer, vocabulary=v, stop_words='english').fit(corpus)\n",
        "        else:\n",
        "            vec = CountVectorizer(ngram_range=ngram_range, tokenizer=tokenizer, vocabulary=v).fit(corpus)\n",
        "        bag_of_words = vec.transform(corpus)\n",
        "        sum_words = bag_of_words.sum(axis=0) \n",
        "        words_freq = [(word, sum_words[0, idx]) for word, idx in vec.vocabulary_.items()]\n",
        "        words_freq =sorted(words_freq, key = lambda x: x[1], reverse=True)\n",
        "        return words_freq[:n]\n",
        "\n",
        "    vocab = {}\n",
        "    for i in range(len(CATEGORY_SUBSET)):\n",
        "        cat = CATEGORY_SUBSET[i]\n",
        "        common_words = get_top_n_ngrams(dataset[dataset['category']==cat]['headline'])\n",
        "        for word, freq in common_words:\n",
        "            r_freq = freq / len(dataset[dataset['category']==cat]['headline'])\n",
        "            if word not in vocab:\n",
        "                vocab[word] = [r_freq if j == i else 0 for j in range(len(CATEGORY_SUBSET))]\n",
        "            else:\n",
        "                vocab[word][i] = r_freq\n",
        "    df = pd.DataFrame(vocab)\n",
        "    df.index = CATEGORY_SUBSET\n",
        "    df = df.T\n",
        "    df = df.sort_values(by=CATEGORY_SUBSET)\n",
        "    return df"
      ],
      "execution_count": null,
      "outputs": []
    },
    {
      "cell_type": "markdown",
      "metadata": {
        "id": "CEph5TAAoieN"
      },
      "source": [
        "## Calculate Pointwise Mutual Information (PMI) and PMIScore"
      ]
    },
    {
      "cell_type": "code",
      "metadata": {
        "id": "HxPBIWHmsCZA"
      },
      "source": [
        "# P(word, c) / [P(word) * P(c)] \n",
        "\n",
        "# P(word) = document_count_word / len(dataset)\n",
        "# P(c) = document_count_c / / len(dataset)\n",
        "\n",
        "# P(word, c) = document_count_of_word_within_c / len(dataset)\n",
        "\n",
        "def get_PMI_of_vocab(dataset, v=None, ngram_range=(1,1), tokenizer=None, n=None):\n",
        "    def get_document_freq(corpus):\n",
        "        vec = TfidfVectorizer(tokenizer=tokenizer, smooth_idf=False, vocabulary=v, ngram_range=ngram_range).fit(corpus)\n",
        "        document_freq = (len(corpus)/(np.exp(vec.idf_-1)))\n",
        "        words_document_freq = [(word, document_freq[idx]) for word, idx in vec.vocabulary_.items()]\n",
        "        words_document_freq =sorted(words_document_freq, key = lambda x: x[1], reverse=True)\n",
        "        if n is None:\n",
        "            return words_document_freq\n",
        "        return words_document_freq[:n]\n",
        "\n",
        "    vocab = {}\n",
        "    for i in range(len(CATEGORY_SUBSET)):\n",
        "        cat = CATEGORY_SUBSET[i]\n",
        "        words_document_freq = get_document_freq(dataset[dataset['category']==cat]['headline'])\n",
        "        for word, d_freq in words_document_freq:\n",
        "            if word not in vocab:\n",
        "                vocab[word] = [d_freq if j == i else 0 for j in range(len(CATEGORY_SUBSET))]\n",
        "            else:\n",
        "                vocab[word][i] = d_freq\n",
        "\n",
        "    df = pd.DataFrame(vocab)\n",
        "    df.index = CATEGORY_SUBSET\n",
        "    df = df.T\n",
        "\n",
        "    p_word = (np.sum(df.to_numpy(), axis=1) / len(dataset)).reshape((len(df), 1))\n",
        "    p_cat = np.array([ len(dataset[dataset['category']==cat]) / len(dataset) for cat in CATEGORY_SUBSET]).reshape((1, len(CATEGORY_SUBSET)))\n",
        "\n",
        "    word_d_count_in_cat = df.to_numpy()\n",
        "    p_word_cat = word_d_count_in_cat / len(dataset)\n",
        "\n",
        "    PMI = ( p_word_cat / p_word ) / p_cat\n",
        "\n",
        "    pmi_df = pd.DataFrame(PMI, columns=df.columns, index=df.index)\n",
        "\n",
        "    return pmi_df\n",
        "    \n",
        "\n",
        "def get_PMIScore_of_word(PMI_vector):\n",
        "    # print(PMI_vector)\n",
        "    n = len(PMI_vector)\n",
        "\n",
        "    # def get_diff(num, v):\n",
        "    #     return np.sum([abs(i - num) for i in v])\n",
        "    def get_multiplier():\n",
        "        num_negative = np.sum([1 if i < 0 else 0 for i in PMI_vector])\n",
        "        num_nan = np.sum([1 if i == 0 else 0 for i in PMI_vector])\n",
        "        if num_negative == n:\n",
        "            return 0\n",
        "        else:\n",
        "            return num_nan + 1\n",
        "    \n",
        "    # temp = list(PMI_vector) + list(PMI_vector)\n",
        "    # diffs = [get_diff(temp[i], temp[i+1:i+n]) for i in range(n)]\n",
        "    # # print(diffs)\n",
        "    # return np.sum(diffs) # * get_multiplier()\n",
        "    mean_v = [i for i in PMI_vector if i != 0]\n",
        "    mean = np.sum(mean_v) / len(mean_v)\n",
        "\n",
        "    return mean * get_multiplier()\n",
        "\n",
        "def get_PMIScore(dataset, v=None, ngram_range=(1,1), tokenizer=None, n=None):\n",
        "    PMI = get_PMI_of_vocab(dataset, tokenizer=tokenizer, ngram_range=ngram_range, v=v, n=n)\n",
        "    PMIScore =  np.apply_along_axis(get_PMIScore_of_word, 1, PMI.to_numpy())\n",
        "    PMI['PMIScore'] = PMIScore\n",
        "    PMI = PMI.sort_values(by='PMIScore', ascending=False)\n",
        "    return PMI"
      ],
      "execution_count": null,
      "outputs": []
    },
    {
      "cell_type": "markdown",
      "metadata": {
        "id": "1lJPSbETrMcH"
      },
      "source": [
        "# Preliminary Analysis"
      ]
    },
    {
      "cell_type": "markdown",
      "metadata": {
        "id": "mo5SyOpFrTK_"
      },
      "source": [
        "## Data Distribution and Examples"
      ]
    },
    {
      "cell_type": "code",
      "metadata": {
        "id": "-h8xpa6qsNBI"
      },
      "source": [
        "dataset = get_dataset()"
      ],
      "execution_count": null,
      "outputs": []
    },
    {
      "cell_type": "code",
      "metadata": {
        "colab": {
          "base_uri": "https://localhost:8080/",
          "height": 370
        },
        "id": "N-LqoXDz0wzR",
        "outputId": "6e7583ed-86fb-4df7-be67-9113e009275c"
      },
      "source": [
        "dataset.groupby(['category'])['headline'].count().plot.bar()"
      ],
      "execution_count": null,
      "outputs": [
        {
          "output_type": "execute_result",
          "data": {
            "text/plain": [
              "<matplotlib.axes._subplots.AxesSubplot at 0x7f5c26786f90>"
            ]
          },
          "metadata": {
            "tags": []
          },
          "execution_count": 13
        },
        {
          "output_type": "display_data",
          "data": {
            "image/png": "[encoded data removed]",
            "text/plain": [
              "<Figure size 432x288 with 1 Axes>"
            ]
          },
          "metadata": {
            "tags": [],
            "needs_background": "light"
          }
        }
      ]
    },
    {
      "cell_type": "code",
      "metadata": {
        "colab": {
          "base_uri": "https://localhost:8080/",
          "height": 356
        },
        "id": "Z2Dfi5qV06mo",
        "outputId": "e6db8347-d7f3-4f28-e3c0-83f68b432c21"
      },
      "source": [
        "dataset['length'] = dataset['headline'].apply(lambda x: len(x.split(' ')))\n",
        "dataset.groupby(['length'])['headline'].count().plot.bar()\n",
        "print(f\"max headline length: {dataset['length'].max()}  min headline length: {dataset['length'].min()}\")\n",
        "\n",
        "print(f\"longest title: {dataset['headline'].iloc[dataset['length'].argmax()]}\")\n",
        "print(f\"shorted title: {dataset['headline'].iloc[dataset['length'].argmin()]}\")\n",
        "\n",
        "dataset = dataset.drop(['length'], axis=1)"
      ],
      "execution_count": null,
      "outputs": [
        {
          "output_type": "stream",
          "text": [
            "max headline length: 44  min headline length: 1\n",
            "longest title: Chats with Esperanza Spalding, Michelle Phillips, Lee Greenwood, Ian Thomas and Young Gun Silver Fox's Shawn Lee, Plus Joey Alexander, Elayna, Ultan Conlon, M Ross Perkins, Morgan's Road, Deerheart, Dave McGraw & Mandy Fer, Unconscious Disturbance, I The Mighty, and The Junior League Exclusives\n",
            "shorted title: #WhyWeMarched\n"
          ],
          "name": "stdout"
        },
        {
          "output_type": "display_data",
          "data": {
            "image/png": "[encoded data removed]",
            "text/plain": [
              "<Figure size 432x288 with 1 Axes>"
            ]
          },
          "metadata": {
            "tags": [],
            "needs_background": "light"
          }
        }
      ]
    },
    {
      "cell_type": "code",
      "metadata": {
        "colab": {
          "base_uri": "https://localhost:8080/"
        },
        "id": "t7i6BHqHrziu",
        "outputId": "709e13e4-e8b6-4027-eec3-39c355914364"
      },
      "source": [
        "for cat in CATEGORY_SUBSET:\n",
        "    rnd_ind = np.arange(1000)\n",
        "    np.random.shuffle(rnd_ind)\n",
        "    rnd_ind = rnd_ind[:10]\n",
        "    for i in rnd_ind:\n",
        "        print(cat, dataset[dataset['category']==cat]['headline'].iloc[i])"
      ],
      "execution_count": null,
      "outputs": [
        {
          "output_type": "stream",
          "text": [
            "CRIME After Lawsuit, City Agrees To Stop Forcing Women To Pay Fee For Not Pressing Charges Against Abusers\n",
            "CRIME Montreal Gearing Up To Sentence Huge Numbers Of Innocent Dogs To Death\n",
            "CRIME Videos Capture Moment Gunman Opens Fire At Istanbul Nightclub\n",
            "CRIME Shooting At Connecticut House Party Wounds 13\n",
            "CRIME Bagged Heart Mysteriously Appears In Ohio Field, Stumping Police\n",
            "CRIME Beloved Bipedal Bear Named Pedals Believed Killed By Hunter\n",
            "CRIME Woman Alleges Rapper Young Lo Raped Her While She Was Trapped In Chris Brown's Home\n",
            "CRIME Taxi Driver With Knife In His Head Walks Into Hospital\n",
            "CRIME Georgia Cops Find Beheaded Voodoo Doll Outside HQ\n",
            "CRIME New York's Metropolitan Opera Cancels Show After Powder Sprinkled Into Orchestra Pit\n",
            "RELIGION Composting Religion\n",
            "RELIGION To Trump's Christian Supporters: How Much Do You Really Have In Common With Him?\n",
            "RELIGION Pixar Animator Reveals The Magic Ingredient That Adds Soul To Stories\n",
            "RELIGION Stephen Fry Reportedly Faces Blasphemy Probe After Calling God A 'Maniac'\n",
            "RELIGION Protesting Priests Urge Pope To End 'Thousands Of Years Of Misogyny'\n",
            "RELIGION What Jesus Might Say If He Tweeted Like Donald Trump\n",
            "RELIGION Pope Francis Meets With Fidel Castro In Cuba\n",
            "RELIGION A Period... And A Comma\n",
            "RELIGION Southern Baptist Leader Resigns Over 'Morally Inappropriate Relationship'\n",
            "RELIGION 16 Tweets That Capture Why Some Christians Feel Betrayed After The Election\n",
            "TECH Privacy Activists Rally To Apple's Defense Over FBI Data Demand\n",
            "TECH China's New Big Brother Law Is A Clone Of The West's Bad Ideas\n",
            "TECH You Can Hire A Pokémon Go Trainer For $20 An Hour Because The World Is Good\n",
            "TECH It Finally Happened: iPhones Are Falling Out Of Favor\n",
            "TECH How To Avoid Online Charity Scams This Holiday Season\n",
            "TECH Twitter Plans To Start Making Money Off People Who Don't Even Have Accounts\n",
            "TECH Judge Denies Government's Request To Unlock iPhone In Drug Case\n",
            "TECH Facebook Will Allow 900 Million People To Keep Messages Secret\n",
            "TECH A 17-Year-Old Made Messaging Easier For Those Who Are Deaf. And He Wasn't Even Trying To\n",
            "TECH Sherry Turkle On The Power Of Talking (Face To Face)\n",
            "MONEY 15 Things to Know, to Do and to Watch for as 2013 Comes to a Close\n",
            "MONEY Getting A Divorce Saved My Finances\n",
            "MONEY Ask the Readers: Should I Buy a New House?\n",
            "MONEY Human Poop Coffee, 'Kopi Luwak Style,' For Sale On Craigslist\n",
            "MONEY Sweet Dreams: Best Credit Cards for Hotel Rewards\n",
            "MONEY How to Find the Perfect Mortgage for You\n",
            "MONEY Jim Holt Doesn't Have To Pay Back His Unemployment Benefits, Ruling Says\n",
            "MONEY Local Banks In San Joaquin Valley, California See Residents Favor Local Over Big Banks\n",
            "MONEY Fitness Jobs Grow With America's Expanding Waistline\n",
            "MONEY Houses Of Worship Accept Plastic, Too\n",
            "FOOD & DRINK Lizard Soup and 7 Other Cold Remedies From Around the World\n",
            "FOOD & DRINK 10  Spring Juices To Make Right Now\n",
            "FOOD & DRINK Winter Wonderful Hot Chocolate Cheesecake\n",
            "FOOD & DRINK Trash Fish: Guess Who's Coming to Dinner (VIDEO)\n",
            "FOOD & DRINK 12 Meatless Soups That Will Actually Fill You Up\n",
            "FOOD & DRINK Move Over Chicken Noodle, Garlic Soup Is Soothing Colds\n",
            "FOOD & DRINK Restaurants That Still Make You Wear a Jacket\n",
            "FOOD & DRINK Casu Marzu (aka Maggot Cheese)\n",
            "FOOD & DRINK Super Grains: What's The New Quinoa?\n",
            "FOOD & DRINK 6 Gluten-free Beers That Don't Suck\n",
            "SPORTS Adam Rippon Says He Wanted 'Xanax And A Quick Drink' On The Ice\n",
            "SPORTS Joe McKnight Dead At 28\n",
            "SPORTS Triple H \"Not Happy\" With NXT! 205 Live Trouble Backstage In WWE! | WrestleTalk News Jan. 2017\n",
            "SPORTS Colin Kaepernick On Death Threats: Killing Me Would Only Prove My Point\n",
            "SPORTS Buzzer-Beater Gives Notre Dame Win Over Mississippi State In 2018 National Championship\n",
            "SPORTS Shaun White Makes History With Gold Medal Win In Halfpipe\n",
            "SPORTS Black Americans Support Colin Kaepernick. White People? Not So Much\n",
            "SPORTS MLB Players Yordano Ventura, Andy Marte Die In Separate Car Crashes\n",
            "SPORTS Nike Just Came Out With Its First Sports Hijab\n",
            "SPORTS Ryan Lochte Doesn't Know What Yom Kippur Is Because He's Ryan Lochte\n",
            "TRAVEL Travelers, Head To The Doghouse!\n",
            "TRAVEL France's Foreign Minister Wants The French To Be Polite To Tourists\n",
            "TRAVEL Where To Eat A Day's Worth Of Meals In Florence\n",
            "TRAVEL 21 Travel Photos That'll Re-Ignite Your Sense Of Wanderlust\n",
            "TRAVEL Video Shows Dizzying First Test Ride Aboard Six Flags' 'Joker' 4D Coaster\n",
            "TRAVEL Cheap Spring Break Spots Because You Probably Haven't Booked Yet\n",
            "TRAVEL Here's What Airport Customs REALLY Does With Your Contraband Food\n",
            "TRAVEL Doug The Pug's Adorable Travel Photos Are Making Hearts Explode\n",
            "TRAVEL 12 Multipurpose Travel Essentials You Need For Your Next Adventure\n",
            "TRAVEL JetBlue Offering $64 Flights In Extended Summer Flash Sale\n",
            "WOMEN Would You Rather Be A Victim Or A Warrior?\n",
            "WOMEN Model Turns To Twitter To Be First Trans Woman Of Color To Walk For Victoria's Secret\n",
            "WOMEN The Brawny Man Is The Brawny Woman For Women's History Month\n",
            "WOMEN Kirsten Gillibrand Thinks Betsy DeVos Is Making An 'Enormous Mistake'\n",
            "WOMEN Reminder To Progressives: Abortion Is An Economic Issue\n",
            "WOMEN Megyn Kelly And Suzanne Somers Joked About Marital Rape On Morning Show\n",
            "WOMEN 9 Things Every Type B Person Wishes You Knew\n",
            "WOMEN Don’t Forget Why Moira Donegan Started The ‘S**tty Media Men’ List In The First Place\n",
            "WOMEN Wonder Woman Inspires Crazy Sword-In-The-Dress Memes\n",
            "WOMEN Southwest's Tammie Jo Shults Joins The Legacy of Badass Female Pilots\n",
            "STYLE Helen Mirren's SAG Awards Dress Is Absolutely Regal\n",
            "STYLE We Can Say With Certainty That These Are The Cutest Photos Of Princess Charlotte\n",
            "STYLE These Sparkly Geode Lips Are About To Rock Your World\n",
            "STYLE Selena Gomez Made 6 Outfit Changes In One Day And We're Exhausted Just Looking At Her\n",
            "STYLE Prince Harry And Meghan Markle Announce Their Wedding Date\n",
            "STYLE Lorde Dressed Like A Moth On 'Saturday Night Live'\n",
            "STYLE Celebrities Are Loving Forever21 On Our Cheap Celeb Finds List\n",
            "STYLE Why I’m Building My Political Wardrobe\n",
            "STYLE Curvy Model Who's Had A 'Roller Coaster Relationship' With Her Belly Rolls Now Embraces Them In The Punniest Way\n",
            "STYLE Rebel Wilson 'Crushed' Court Dress Along With Her Court Case\n",
            "ENTERTAINMENT 'Weird Al' Yankovic Just Made History In The Weirdest Way Possible\n",
            "ENTERTAINMENT This Is Where The Word 'Meme' Comes From, And It's Not The Internet\n",
            "ENTERTAINMENT And Just Like That, Gaming And Mainstream Entertainment Are As One\n",
            "ENTERTAINMENT Jim Carrey Stuns Jeff Daniels By Crashing His Interview On 'Conan'\n",
            "ENTERTAINMENT 'Fantastic Beasts: The Crimes Of Grindelwald' Heads To Hogwarts In First Trailer\n",
            "ENTERTAINMENT Now Boba Fett Is Getting His Own 'Star Wars' Movie\n",
            "ENTERTAINMENT Prince Died Of An ‘Exceedingly High’ Amount Of Fentanyl, Report Says\n",
            "ENTERTAINMENT We Finally Know Jessica Williams' 'Fantastic Beasts' Character\n",
            "ENTERTAINMENT The No. 2 Question In 'Westworld' Finally Has An Answer\n",
            "ENTERTAINMENT 'Roseanne' Reboot Snags More Viewers Than 1997 Season Finale\n"
          ],
          "name": "stdout"
        }
      ]
    },
    {
      "cell_type": "markdown",
      "metadata": {
        "id": "tWDwOT3ArW_H"
      },
      "source": [
        "## Frequent Unigrams, Bigrams, Trigrams for each category"
      ]
    },
    {
      "cell_type": "code",
      "metadata": {
        "colab": {
          "base_uri": "https://localhost:8080/"
        },
        "id": "5vz8X3bhBSQv",
        "outputId": "b680a5cb-05c3-48b1-e8ab-c7029f2cb6ea"
      },
      "source": [
        "frequent_unigrams = get_frequent_ngrams_for_categories(dataset, (1,1))\n",
        "print(frequent_unigrams.to_string())"
      ],
      "execution_count": null,
      "outputs": [
        {
          "output_type": "stream",
          "text": [
            "               CRIME  RELIGION      TECH     MONEY  FOOD & DRINK    SPORTS    TRAVEL     WOMEN     STYLE  ENTERTAINMENT\n",
            "trump       0.000000  0.000000  0.000000  0.000000      0.000000  0.000000  0.000000  0.000000  0.000000       0.044588\n",
            "her         0.000000  0.000000  0.000000  0.000000      0.000000  0.000000  0.000000  0.000000  0.000000       0.055113\n",
            "beauty      0.000000  0.000000  0.000000  0.000000      0.000000  0.000000  0.000000  0.000000  0.053682       0.000000\n",
            "fashion     0.000000  0.000000  0.000000  0.000000      0.000000  0.000000  0.000000  0.000000  0.081189       0.000000\n",
            "my          0.000000  0.000000  0.000000  0.000000      0.000000  0.000000  0.000000  0.058166  0.000000       0.000000\n",
            "about       0.000000  0.000000  0.000000  0.000000      0.000000  0.000000  0.000000  0.074785  0.000000       0.049695\n",
            "women       0.000000  0.000000  0.000000  0.000000      0.000000  0.000000  0.000000  0.238395  0.000000       0.000000\n",
            "most        0.000000  0.000000  0.000000  0.000000      0.000000  0.000000  0.036209  0.000000  0.000000       0.000000\n",
            "10          0.000000  0.000000  0.000000  0.000000      0.000000  0.000000  0.052190  0.000000  0.000000       0.000000\n",
            "travel      0.000000  0.000000  0.000000  0.000000      0.000000  0.000000  0.095985  0.000000  0.000000       0.000000\n",
            "player      0.000000  0.000000  0.000000  0.000000      0.000000  0.036241  0.000000  0.000000  0.000000       0.000000\n",
            "his         0.000000  0.000000  0.000000  0.000000      0.000000  0.038493  0.000000  0.000000  0.000000       0.036866\n",
            "football    0.000000  0.000000  0.000000  0.000000      0.000000  0.039926  0.000000  0.000000  0.000000       0.000000\n",
            "world       0.000000  0.000000  0.000000  0.000000      0.000000  0.041360  0.068676  0.000000  0.000000       0.000000\n",
            "game        0.000000  0.000000  0.000000  0.000000      0.000000  0.051597  0.000000  0.000000  0.000000       0.000000\n",
            "nfl         0.000000  0.000000  0.000000  0.000000      0.000000  0.070639  0.000000  0.000000  0.000000       0.000000\n",
            "that        0.000000  0.000000  0.000000  0.000000      0.044330  0.000000  0.000000  0.000000  0.066105       0.000000\n",
            "video       0.000000  0.000000  0.000000  0.000000      0.045615  0.056716  0.000000  0.000000  0.000000       0.000000\n",
            "make        0.000000  0.000000  0.000000  0.000000      0.056055  0.000000  0.000000  0.000000  0.000000       0.000000\n",
            "day         0.000000  0.000000  0.000000  0.000000      0.058304  0.000000  0.000000  0.000000  0.000000       0.000000\n",
            "recipe      0.000000  0.000000  0.000000  0.000000      0.071956  0.000000  0.000000  0.000000  0.000000       0.000000\n",
            "food        0.000000  0.000000  0.000000  0.000000      0.079505  0.000000  0.000000  0.000000  0.000000       0.000000\n",
            "best        0.000000  0.000000  0.000000  0.000000      0.079666  0.000000  0.061293  0.000000  0.059894       0.000000\n",
            "photos      0.000000  0.000000  0.000000  0.000000      0.116126  0.000000  0.172752  0.000000  0.000000       0.000000\n",
            "recipes     0.000000  0.000000  0.000000  0.000000      0.121266  0.000000  0.000000  0.000000  0.000000       0.000000\n",
            "why         0.000000  0.000000  0.000000  0.037493      0.000000  0.000000  0.000000  0.069628  0.000000       0.000000\n",
            "more        0.000000  0.000000  0.000000  0.041008      0.000000  0.000000  0.000000  0.000000  0.000000       0.000000\n",
            "financial   0.000000  0.000000  0.000000  0.054482      0.000000  0.000000  0.000000  0.000000  0.000000       0.000000\n",
            "tax         0.000000  0.000000  0.000000  0.073814      0.000000  0.000000  0.000000  0.000000  0.000000       0.000000\n",
            "credit      0.000000  0.000000  0.000000  0.075571      0.000000  0.000000  0.000000  0.000000  0.000000       0.000000\n",
            "money       0.000000  0.000000  0.000000  0.077329      0.000000  0.000000  0.000000  0.000000  0.000000       0.000000\n",
            "how         0.000000  0.000000  0.000000  0.080258      0.074526  0.000000  0.040053  0.055874  0.058563       0.000000\n",
            "watch       0.000000  0.000000  0.045629  0.000000      0.000000  0.000000  0.000000  0.000000  0.000000       0.000000\n",
            "it          0.000000  0.000000  0.046110  0.000000      0.000000  0.000000  0.000000  0.061891  0.000000       0.036866\n",
            "week        0.000000  0.000000  0.050432  0.000000      0.000000  0.000000  0.000000  0.000000  0.059894       0.000000\n",
            "iphone      0.000000  0.000000  0.064841  0.000000      0.000000  0.000000  0.000000  0.000000  0.000000       0.000000\n",
            "your        0.000000  0.000000  0.077329  0.121851      0.067941  0.000000  0.060686  0.000000  0.091837       0.000000\n",
            "google      0.000000  0.000000  0.079251  0.000000      0.000000  0.000000  0.000000  0.000000  0.000000       0.000000\n",
            "new         0.000000  0.000000  0.086936  0.000000      0.000000  0.000000  0.048852  0.000000  0.062555       0.068003\n",
            "you         0.000000  0.000000  0.092699  0.121851      0.097816  0.000000  0.085668  0.074212  0.115350       0.048263\n",
            "facebook    0.000000  0.000000  0.096542  0.000000      0.000000  0.000000  0.000000  0.000000  0.000000       0.000000\n",
            "apple       0.000000  0.000000  0.116715  0.000000      0.000000  0.000000  0.000000  0.000000  0.000000       0.000000\n",
            "are         0.000000  0.039530  0.000000  0.045694      0.000000  0.000000  0.000000  0.055587  0.000000       0.000000\n",
            "from        0.000000  0.041487  0.000000  0.000000      0.000000  0.037879  0.000000  0.069914  0.000000       0.037178\n",
            "what        0.000000  0.042661  0.000000  0.045108      0.000000  0.000000  0.000000  0.061032  0.000000       0.000000\n",
            "this        0.000000  0.044227  0.060519  0.000000      0.000000  0.045455  0.000000  0.085387  0.127773       0.038735\n",
            "muslim      0.000000  0.046184  0.000000  0.000000      0.000000  0.000000  0.000000  0.000000  0.000000       0.000000\n",
            "daily       0.000000  0.050881  0.000000  0.000000      0.000000  0.000000  0.000000  0.000000  0.000000       0.000000\n",
            "church      0.000000  0.052055  0.000000  0.000000      0.000000  0.000000  0.000000  0.000000  0.000000       0.000000\n",
            "meditation  0.000000  0.052055  0.000000  0.000000      0.000000  0.000000  0.000000  0.000000  0.000000       0.000000\n",
            "francis     0.000000  0.061448  0.000000  0.000000      0.000000  0.000000  0.000000  0.000000  0.000000       0.000000\n",
            "is          0.000000  0.089237  0.117675  0.064441      0.047061  0.085176  0.061495  0.113467  0.167258       0.125109\n",
            "pope        0.000000  0.104892  0.000000  0.000000      0.000000  0.000000  0.000000  0.000000  0.000000       0.000000\n",
            "woman       0.048164  0.000000  0.000000  0.000000      0.000000  0.000000  0.000000  0.061318  0.000000       0.000000\n",
            "by          0.048752  0.000000  0.000000  0.000000      0.000000  0.000000  0.000000  0.000000  0.000000       0.000000\n",
            "suspect     0.049339  0.000000  0.000000  0.000000      0.000000  0.000000  0.000000  0.000000  0.000000       0.000000\n",
            "killed      0.050808  0.000000  0.000000  0.000000      0.000000  0.000000  0.000000  0.000000  0.000000       0.000000\n",
            "year        0.052276  0.000000  0.000000  0.000000      0.000000  0.000000  0.000000  0.000000  0.000000       0.000000\n",
            "who         0.052276  0.000000  0.000000  0.000000      0.000000  0.000000  0.000000  0.000000  0.000000       0.000000\n",
            "cops        0.054626  0.000000  0.000000  0.000000      0.000000  0.000000  0.000000  0.000000  0.000000       0.000000\n",
            "and         0.063436  0.150294  0.100865  0.083773      0.125763  0.088043  0.100941  0.111748  0.129104       0.162349\n",
            "shooting    0.076358  0.000000  0.000000  0.000000      0.000000  0.000000  0.000000  0.000000  0.000000       0.000000\n",
            "at          0.078120  0.043444  0.000000  0.000000      0.000000  0.068387  0.037423  0.000000  0.066548       0.077531\n",
            "with        0.084288  0.055577  0.060999  0.039250      0.070190  0.064701  0.043491  0.000000  0.062999       0.096587\n",
            "the         0.086931  0.344814  0.299232  0.229643      0.343881  0.296478  0.389906  0.376791  0.403283       0.359011\n",
            "on          0.091336  0.073190  0.086455  0.082015      0.000000  0.077600  0.077981  0.089971  0.087844       0.109852\n",
            "after       0.117474  0.000000  0.000000  0.000000      0.000000  0.057125  0.000000  0.000000  0.000000       0.036119\n",
            "man         0.123642  0.000000  0.000000  0.000000      0.000000  0.000000  0.000000  0.000000  0.000000       0.000000\n",
            "for         0.125991  0.115068  0.107109  0.159930      0.106168  0.119779  0.106807  0.108596  0.120231       0.109478\n",
            "police      0.133921  0.000000  0.000000  0.000000      0.000000  0.000000  0.000000  0.000000  0.000000       0.000000\n",
            "to          0.190308  0.221135  0.269452  0.315173      0.206874  0.223997  0.244159  0.277650  0.216504       0.199278\n",
            "of          0.208223  0.230920  0.159462  0.129467      0.120784  0.132269  0.135228  0.161605  0.132209       0.168327\n",
            "in          0.314831  0.153033  0.146974  0.128881      0.089945  0.153563  0.212704  0.131232  0.124224       0.168265\n"
          ],
          "name": "stdout"
        }
      ]
    },
    {
      "cell_type": "code",
      "metadata": {
        "colab": {
          "base_uri": "https://localhost:8080/"
        },
        "id": "yTu7hoFfCgpn",
        "outputId": "cd1140e3-75e5-4134-f7cb-4c082b66a06a"
      },
      "source": [
        "frequent_bigrams = get_frequent_ngrams_for_categories(dataset, (2,2))\n",
        "print(frequent_bigrams.to_string())"
      ],
      "execution_count": null,
      "outputs": [
        {
          "output_type": "stream",
          "text": [
            "                         CRIME  RELIGION      TECH     MONEY  FOOD & DRINK    SPORTS    TRAVEL     WOMEN     STYLE  ENTERTAINMENT\n",
            "dead at               0.000000  0.000000  0.000000  0.000000      0.000000  0.000000  0.000000  0.000000  0.000000       0.008096\n",
            "in new                0.000000  0.000000  0.000000  0.000000      0.000000  0.000000  0.000000  0.000000  0.000000       0.008781\n",
            "kanye west            0.000000  0.000000  0.000000  0.000000      0.000000  0.000000  0.000000  0.000000  0.000000       0.009403\n",
            "star wars             0.000000  0.000000  0.000000  0.000000      0.000000  0.000000  0.000000  0.000000  0.000000       0.011957\n",
            "kim kardashian        0.000000  0.000000  0.000000  0.000000      0.000000  0.000000  0.000000  0.000000  0.000000       0.012081\n",
            "of thrones            0.000000  0.000000  0.000000  0.000000      0.000000  0.000000  0.000000  0.000000  0.000000       0.013949\n",
            "game of               0.000000  0.000000  0.000000  0.000000      0.000000  0.000000  0.000000  0.000000  0.000000       0.014572\n",
            "box office            0.000000  0.000000  0.000000  0.000000      0.000000  0.000000  0.000000  0.000000  0.000000       0.015755\n",
            "taylor swift          0.000000  0.000000  0.000000  0.000000      0.000000  0.000000  0.000000  0.000000  0.000000       0.018682\n",
            "best dressed          0.000000  0.000000  0.000000  0.000000      0.000000  0.000000  0.000000  0.000000  0.012422       0.000000\n",
            "on this               0.000000  0.000000  0.000000  0.000000      0.000000  0.000000  0.000000  0.000000  0.012422       0.000000\n",
            "kendall jenner        0.000000  0.000000  0.000000  0.000000      0.000000  0.000000  0.000000  0.000000  0.013310       0.000000\n",
            "all the               0.000000  0.000000  0.000000  0.000000      0.000000  0.000000  0.000000  0.000000  0.014197       0.000000\n",
            "this is               0.000000  0.000000  0.000000  0.000000      0.000000  0.000000  0.000000  0.000000  0.017746       0.000000\n",
            "fashion week          0.000000  0.000000  0.000000  0.000000      0.000000  0.000000  0.000000  0.000000  0.024845       0.000000\n",
            "red carpet            0.000000  0.000000  0.000000  0.000000      0.000000  0.000000  0.000000  0.000000  0.025288       0.000000\n",
            "women march           0.000000  0.000000  0.000000  0.000000      0.000000  0.000000  0.000000  0.010888  0.000000       0.000000\n",
            "the women             0.000000  0.000000  0.000000  0.000000      0.000000  0.000000  0.000000  0.012607  0.000000       0.000000\n",
            "women in              0.000000  0.000000  0.000000  0.000000      0.000000  0.000000  0.000000  0.012894  0.000000       0.000000\n",
            "hillary clinton       0.000000  0.000000  0.000000  0.000000      0.000000  0.000000  0.000000  0.013754  0.000000       0.000000\n",
            "need to               0.000000  0.000000  0.000000  0.000000      0.000000  0.000000  0.000000  0.014327  0.000000       0.000000\n",
            "for women             0.000000  0.000000  0.000000  0.000000      0.000000  0.000000  0.000000  0.015186  0.000000       0.000000\n",
            "sexual assault        0.000000  0.000000  0.000000  0.000000      0.000000  0.000000  0.000000  0.019484  0.000000       0.000000\n",
            "20 funniest           0.000000  0.000000  0.000000  0.000000      0.000000  0.000000  0.000000  0.022923  0.000000       0.000000\n",
            "the 20                0.000000  0.000000  0.000000  0.000000      0.000000  0.000000  0.000000  0.023782  0.000000       0.000000\n",
            "funniest tweets       0.000000  0.000000  0.000000  0.000000      0.000000  0.000000  0.000000  0.033811  0.000000       0.000000\n",
            "women this            0.000000  0.000000  0.000000  0.000000      0.000000  0.000000  0.000000  0.033811  0.000000       0.000000\n",
            "tweets from           0.000000  0.000000  0.000000  0.000000      0.000000  0.000000  0.000000  0.034097  0.000000       0.000000\n",
            "from women            0.000000  0.000000  0.000000  0.000000      0.000000  0.000000  0.000000  0.035244  0.000000       0.000000\n",
            "to do                 0.000000  0.000000  0.000000  0.000000      0.000000  0.000000  0.008698  0.000000  0.000000       0.000000\n",
            "the looney            0.000000  0.000000  0.000000  0.000000      0.000000  0.000000  0.008901  0.000000  0.000000       0.000000\n",
            "looney front          0.000000  0.000000  0.000000  0.000000      0.000000  0.000000  0.009002  0.000000  0.000000       0.000000\n",
            "places to             0.000000  0.000000  0.000000  0.000000      0.000000  0.000000  0.009507  0.000000  0.000000       0.000000\n",
            "you can               0.000000  0.000000  0.000000  0.000000      0.000000  0.000000  0.009811  0.000000  0.015084       0.000000\n",
            "guide to              0.000000  0.000000  0.000000  0.000000      0.000000  0.000000  0.009912  0.000000  0.000000       0.000000\n",
            "to visit              0.000000  0.000000  0.000000  0.000000      0.000000  0.000000  0.011126  0.000000  0.000000       0.000000\n",
            "the nba               0.000000  0.000000  0.000000  0.000000      0.000000  0.007781  0.000000  0.000000  0.000000       0.000000\n",
            "high school           0.000000  0.000000  0.000000  0.000000      0.000000  0.008190  0.000000  0.000000  0.000000       0.000000\n",
            "winter olympics       0.000000  0.000000  0.000000  0.000000      0.000000  0.008395  0.000000  0.000000  0.000000       0.000000\n",
            "tom brady             0.000000  0.000000  0.000000  0.000000      0.000000  0.009009  0.000000  0.000000  0.000000       0.000000\n",
            "world series          0.000000  0.000000  0.000000  0.000000      0.000000  0.009623  0.000000  0.000000  0.000000       0.000000\n",
            "lebron james          0.000000  0.000000  0.000000  0.000000      0.000000  0.014128  0.000000  0.000000  0.000000       0.000000\n",
            "the nfl               0.000000  0.000000  0.000000  0.000000      0.000000  0.014333  0.000000  0.000000  0.000000       0.000000\n",
            "world cup             0.000000  0.000000  0.000000  0.000000      0.000000  0.017404  0.000000  0.000000  0.000000       0.000000\n",
            "super bowl            0.000000  0.000000  0.000000  0.000000      0.000000  0.024570  0.000000  0.000000  0.000000       0.000000\n",
            "and more              0.000000  0.000000  0.000000  0.000000      0.009476  0.000000  0.000000  0.000000  0.000000       0.000000\n",
            "to cook               0.000000  0.000000  0.000000  0.000000      0.010119  0.000000  0.000000  0.000000  0.000000       0.000000\n",
            "ice cream             0.000000  0.000000  0.000000  0.000000      0.010279  0.000000  0.000000  0.000000  0.000000       0.000000\n",
            "the most              0.000000  0.000000  0.000000  0.000000      0.010601  0.000000  0.013958  0.000000  0.015972       0.000000\n",
            "taste test            0.000000  0.000000  0.000000  0.000000      0.012849  0.000000  0.000000  0.000000  0.000000       0.000000\n",
            "huffpost tastemakers  0.000000  0.000000  0.000000  0.000000      0.012849  0.000000  0.000000  0.000000  0.000000       0.000000\n",
            "to eat                0.000000  0.000000  0.000000  0.000000      0.013010  0.000000  0.000000  0.000000  0.000000       0.000000\n",
            "recipes that          0.000000  0.000000  0.000000  0.000000      0.015098  0.000000  0.000000  0.000000  0.000000       0.000000\n",
            "recipes photos        0.000000  0.000000  0.000000  0.000000      0.015098  0.000000  0.000000  0.000000  0.000000       0.000000\n",
            "recipes for           0.000000  0.000000  0.000000  0.000000      0.017025  0.000000  0.000000  0.000000  0.000000       0.000000\n",
            "recipe of             0.000000  0.000000  0.000000  0.000000      0.030517  0.000000  0.000000  0.000000  0.000000       0.000000\n",
            "the day               0.000000  0.000000  0.000000  0.000000      0.030838  0.000000  0.000000  0.000000  0.000000       0.000000\n",
            "to make               0.000000  0.000000  0.000000  0.000000      0.033569  0.000000  0.000000  0.000000  0.000000       0.000000\n",
            "you re                0.000000  0.000000  0.000000  0.008787      0.000000  0.000000  0.000000  0.000000  0.000000       0.000000\n",
            "the best              0.000000  0.000000  0.000000  0.008787      0.051558  0.000000  0.025690  0.000000  0.032831       0.008096\n",
            "to buy                0.000000  0.000000  0.000000  0.009373      0.000000  0.000000  0.000000  0.000000  0.000000       0.000000\n",
            "you should            0.000000  0.000000  0.000000  0.009959      0.000000  0.000000  0.000000  0.000000  0.000000       0.000000\n",
            "credit score          0.000000  0.000000  0.000000  0.011131      0.000000  0.000000  0.000000  0.000000  0.000000       0.000000\n",
            "health care           0.000000  0.000000  0.000000  0.011131      0.000000  0.000000  0.000000  0.000000  0.000000       0.000000\n",
            "credit cards          0.000000  0.000000  0.000000  0.012302      0.000000  0.000000  0.000000  0.000000  0.000000       0.000000\n",
            "to pay                0.000000  0.000000  0.000000  0.012888      0.000000  0.000000  0.000000  0.000000  0.000000       0.000000\n",
            "to get                0.000000  0.000000  0.000000  0.013474      0.000000  0.000000  0.000000  0.000000  0.000000       0.000000\n",
            "to save               0.000000  0.000000  0.000000  0.013474      0.000000  0.000000  0.000000  0.000000  0.000000       0.000000\n",
            "to know               0.000000  0.000000  0.000000  0.014060      0.000000  0.000000  0.000000  0.000000  0.000000       0.000000\n",
            "to avoid              0.000000  0.000000  0.000000  0.014646      0.000000  0.000000  0.000000  0.000000  0.000000       0.000000\n",
            "black friday          0.000000  0.000000  0.000000  0.015231      0.000000  0.000000  0.000000  0.000000  0.000000       0.000000\n",
            "your credit           0.000000  0.000000  0.000000  0.016403      0.000000  0.000000  0.000000  0.000000  0.000000       0.000000\n",
            "credit card           0.000000  0.000000  0.000000  0.018746      0.000000  0.000000  0.000000  0.000000  0.000000       0.000000\n",
            "ways to               0.000000  0.000000  0.000000  0.026362      0.019274  0.000000  0.012744  0.000000  0.012422       0.000000\n",
            "the new               0.000000  0.000000  0.009606  0.000000      0.000000  0.000000  0.000000  0.000000  0.000000       0.000000\n",
            "wants to              0.000000  0.000000  0.009606  0.000000      0.000000  0.000000  0.000000  0.000000  0.000000       0.000000\n",
            "social media          0.000000  0.000000  0.010567  0.000000      0.000000  0.000000  0.000000  0.000000  0.000000       0.000000\n",
            "the future            0.000000  0.000000  0.010567  0.000000      0.000000  0.000000  0.000000  0.000000  0.000000       0.000000\n",
            "silicon valley        0.000000  0.000000  0.011527  0.000000      0.000000  0.000000  0.000000  0.000000  0.000000       0.000000\n",
            "how to                0.000000  0.000000  0.014890  0.051552      0.061998  0.000000  0.027511  0.013181  0.033274       0.000000\n",
            "in apple              0.000000  0.000000  0.017291  0.000000      0.000000  0.000000  0.000000  0.000000  0.000000       0.000000\n",
            "this week             0.000000  0.000000  0.017771  0.000000      0.000000  0.000000  0.000000  0.033524  0.028838       0.000000\n",
            "apple rumors          0.000000  0.000000  0.018252  0.000000      0.000000  0.000000  0.000000  0.000000  0.000000       0.000000\n",
            "week in               0.000000  0.000000  0.020653  0.000000      0.000000  0.000000  0.000000  0.000000  0.000000       0.000000\n",
            "top youtube           0.000000  0.000000  0.024496  0.000000      0.000000  0.000000  0.000000  0.000000  0.000000       0.000000\n",
            "youtube videos        0.000000  0.000000  0.024496  0.000000      0.000000  0.000000  0.000000  0.000000  0.000000       0.000000\n",
            "videos of             0.000000  0.000000  0.024496  0.000000      0.000000  0.000000  0.000000  0.000000  0.000000       0.000000\n",
            "the top               0.000000  0.000000  0.026417  0.000000      0.000000  0.000000  0.000000  0.000000  0.000000       0.000000\n",
            "watch the             0.000000  0.000000  0.027378  0.000000      0.000000  0.000000  0.000000  0.000000  0.000000       0.000000\n",
            "the week              0.000000  0.000000  0.028818  0.000000      0.000000  0.000000  0.000000  0.000000  0.000000       0.000000\n",
            "sex abuse             0.000000  0.005871  0.000000  0.000000      0.000000  0.000000  0.000000  0.000000  0.000000       0.000000\n",
            "faith in              0.000000  0.006262  0.000000  0.000000      0.000000  0.000000  0.000000  0.000000  0.000000       0.000000\n",
            "donald trump          0.000000  0.006262  0.000000  0.000000      0.000000  0.000000  0.000000  0.000000  0.000000       0.022419\n",
            "from the              0.000000  0.006262  0.000000  0.000000      0.000000  0.000000  0.000000  0.000000  0.013310       0.000000\n",
            "around the            0.000000  0.006262  0.000000  0.000000      0.000000  0.000000  0.018105  0.000000  0.000000       0.000000\n",
            "of faith              0.000000  0.007045  0.000000  0.000000      0.000000  0.000000  0.000000  0.000000  0.000000       0.000000\n",
            "the church            0.000000  0.008611  0.000000  0.000000      0.000000  0.000000  0.000000  0.000000  0.000000       0.000000\n",
            "at the                0.000000  0.008611  0.000000  0.000000      0.000000  0.007985  0.000000  0.000000  0.030169       0.020115\n",
            "for the               0.000000  0.009002  0.000000  0.008787      0.013010  0.012490  0.011631  0.000000  0.013310       0.011085\n",
            "is the                0.000000  0.009785  0.000000  0.000000      0.000000  0.010033  0.011126  0.000000  0.019077       0.009839\n",
            "the pope              0.000000  0.010568  0.000000  0.000000      0.000000  0.000000  0.000000  0.000000  0.000000       0.000000\n",
            "on the                0.000000  0.012133  0.000000  0.000000      0.000000  0.009623  0.021543  0.012894  0.014197       0.015755\n",
            "to be                 0.000000  0.012133  0.009606  0.000000      0.000000  0.000000  0.000000  0.018338  0.000000       0.009154\n",
            "to the                0.000000  0.014090  0.000000  0.000000      0.000000  0.009623  0.010418  0.012321  0.000000       0.011521\n",
            "the world             0.000000  0.015264  0.009126  0.000000      0.010922  0.009623  0.050976  0.000000  0.000000       0.000000\n",
            "of the                0.000000  0.018787  0.046110  0.009959      0.043527  0.020885  0.028017  0.020917  0.019965       0.022855\n",
            "and the               0.000000  0.023092  0.000000  0.000000      0.000000  0.007781  0.000000  0.000000  0.000000       0.009902\n",
            "daily meditation      0.000000  0.049706  0.000000  0.000000      0.000000  0.000000  0.000000  0.000000  0.000000       0.000000\n",
            "pope francis          0.000000  0.059883  0.000000  0.000000      0.000000  0.000000  0.000000  0.000000  0.000000       0.000000\n",
            "shooting at           0.008811  0.000000  0.000000  0.000000      0.000000  0.000000  0.000000  0.000000  0.000000       0.000000\n",
            "arrested in           0.008811  0.000000  0.000000  0.000000      0.000000  0.000000  0.000000  0.000000  0.000000       0.000000\n",
            "old girl              0.008811  0.000000  0.000000  0.000000      0.000000  0.000000  0.000000  0.000000  0.000000       0.000000\n",
            "dies after            0.009104  0.000000  0.000000  0.000000      0.000000  0.000000  0.000000  0.000000  0.000000       0.000000\n",
            "who killed            0.009398  0.000000  0.000000  0.000000      0.000000  0.000000  0.000000  0.000000  0.000000       0.000000\n",
            "man accused           0.009398  0.000000  0.000000  0.000000      0.000000  0.000000  0.000000  0.000000  0.000000       0.000000\n",
            "dead in               0.009692  0.000000  0.000000  0.000000      0.000000  0.000000  0.000000  0.000000  0.000000       0.000000\n",
            "to death              0.009985  0.000000  0.000000  0.000000      0.000000  0.000000  0.000000  0.000000  0.000000       0.000000\n",
            "video shows           0.010279  0.000000  0.000000  0.000000      0.000000  0.000000  0.000000  0.000000  0.000000       0.000000\n",
            "suspect in            0.010279  0.000000  0.000000  0.000000      0.000000  0.000000  0.000000  0.000000  0.000000       0.000000\n",
            "found in              0.010279  0.000000  0.000000  0.000000      0.000000  0.000000  0.000000  0.000000  0.000000       0.000000\n",
            "in the                0.010866  0.027006  0.013929  0.011716      0.020559  0.015766  0.037322  0.019771  0.013310       0.021858\n",
            "police officer        0.012628  0.000000  0.000000  0.000000      0.000000  0.000000  0.000000  0.000000  0.000000       0.000000\n",
            "arrested for          0.012922  0.000000  0.000000  0.000000      0.000000  0.000000  0.000000  0.000000  0.000000       0.000000\n",
            "man who               0.014097  0.000000  0.000000  0.000000      0.000000  0.000000  0.000000  0.000000  0.000000       0.000000\n",
            "new york              0.014391  0.000000  0.000000  0.000000      0.000000  0.009419  0.009811  0.000000  0.000000       0.000000\n",
            "charged with          0.015272  0.000000  0.000000  0.000000      0.000000  0.000000  0.000000  0.000000  0.000000       0.000000\n",
            "police say            0.018502  0.000000  0.000000  0.000000      0.000000  0.000000  0.000000  0.000000  0.000000       0.000000\n",
            "accused of            0.036417  0.000000  0.000000  0.000000      0.000000  0.000000  0.000000  0.000000  0.000000       0.000000\n",
            "year old              0.042584  0.000000  0.000000  0.000000      0.000000  0.008804  0.000000  0.000000  0.000000       0.000000\n"
          ],
          "name": "stdout"
        }
      ]
    },
    {
      "cell_type": "code",
      "metadata": {
        "colab": {
          "base_uri": "https://localhost:8080/"
        },
        "id": "pUaFgMRyCy_y",
        "outputId": "95856cf5-47be-4184-ad7e-28a073ee8d06"
      },
      "source": [
        "frequent_trigrams = get_frequent_ngrams_for_categories(dataset, (3,3))\n",
        "print(frequent_trigrams.to_string())"
      ],
      "execution_count": null,
      "outputs": [
        {
          "output_type": "stream",
          "text": [
            "                             CRIME  RELIGION      TECH     MONEY  FOOD & DRINK    SPORTS    TRAVEL     WOMEN     STYLE  ENTERTAINMENT\n",
            "for the first             0.000000  0.000000  0.000000  0.000000      0.000000  0.000000  0.000000  0.000000  0.000000       0.001868\n",
            "taylor swift and          0.000000  0.000000  0.000000  0.000000      0.000000  0.000000  0.000000  0.000000  0.000000       0.001931\n",
            "and more the              0.000000  0.000000  0.000000  0.000000      0.000000  0.000000  0.000000  0.000000  0.000000       0.001931\n",
            "the first time            0.000000  0.000000  0.000000  0.000000      0.000000  0.000000  0.000000  0.000000  0.000000       0.002117\n",
            "the golden globes         0.000000  0.000000  0.000000  0.000000      0.000000  0.000000  0.000000  0.000000  0.000000       0.002117\n",
            "first look at             0.000000  0.000000  0.000000  0.000000      0.000000  0.000000  0.000000  0.000000  0.000000       0.002491\n",
            "at the box                0.000000  0.000000  0.000000  0.000000      0.000000  0.000000  0.000000  0.000000  0.000000       0.002740\n",
            "more the week             0.000000  0.000000  0.000000  0.000000      0.000000  0.000000  0.000000  0.000000  0.000000       0.002740\n",
            "week in ouch              0.000000  0.000000  0.000000  0.000000      0.000000  0.000000  0.000000  0.000000  0.000000       0.002802\n",
            "saturday night live       0.000000  0.000000  0.000000  0.000000      0.000000  0.000000  0.000000  0.000000  0.000000       0.003051\n",
            "the walking dead          0.000000  0.000000  0.000000  0.000000      0.000000  0.000000  0.000000  0.000000  0.000000       0.003051\n",
            "american horror story     0.000000  0.000000  0.000000  0.000000      0.000000  0.000000  0.000000  0.000000  0.000000       0.003674\n",
            "opens up about            0.000000  0.000000  0.000000  0.000000      0.000000  0.000000  0.000000  0.000000  0.000000       0.003799\n",
            "the box office            0.000000  0.000000  0.000000  0.000000      0.000000  0.000000  0.000000  0.000000  0.000000       0.004110\n",
            "weekend box office        0.000000  0.000000  0.000000  0.000000      0.000000  0.000000  0.000000  0.000000  0.000000       0.004671\n",
            "game of thrones           0.000000  0.000000  0.000000  0.000000      0.000000  0.000000  0.000000  0.000000  0.000000       0.013949\n",
            "looks from the            0.000000  0.000000  0.000000  0.000000      0.000000  0.000000  0.000000  0.000000  0.004437       0.000000\n",
            "11 things we              0.000000  0.000000  0.000000  0.000000      0.000000  0.000000  0.000000  0.000000  0.004437       0.000000\n",
            "things we re              0.000000  0.000000  0.000000  0.000000      0.000000  0.000000  0.000000  0.000000  0.004437       0.000000\n",
            "with this week            0.000000  0.000000  0.000000  0.000000      0.000000  0.000000  0.000000  0.000000  0.004437       0.000000\n",
            "we re obsessed            0.000000  0.000000  0.000000  0.000000      0.000000  0.000000  0.000000  0.000000  0.004880       0.000000\n",
            "re obsessed with          0.000000  0.000000  0.000000  0.000000      0.000000  0.000000  0.000000  0.000000  0.004880       0.000000\n",
            "obsessed with this        0.000000  0.000000  0.000000  0.000000      0.000000  0.000000  0.000000  0.000000  0.004880       0.000000\n",
            "week best beauty          0.000000  0.000000  0.000000  0.000000      0.000000  0.000000  0.000000  0.000000  0.004880       0.000000\n",
            "our cheap celeb           0.000000  0.000000  0.000000  0.000000      0.000000  0.000000  0.000000  0.000000  0.005324       0.000000\n",
            "best beauty list          0.000000  0.000000  0.000000  0.000000      0.000000  0.000000  0.000000  0.000000  0.006211       0.000000\n",
            "celeb finds list          0.000000  0.000000  0.000000  0.000000      0.000000  0.000000  0.000000  0.000000  0.007098       0.000000\n",
            "the red carpet            0.000000  0.000000  0.000000  0.000000      0.000000  0.000000  0.000000  0.000000  0.008429       0.000000\n",
            "cheap celeb finds         0.000000  0.000000  0.000000  0.000000      0.000000  0.000000  0.000000  0.000000  0.008429       0.000000\n",
            "new york fashion          0.000000  0.000000  0.000000  0.000000      0.000000  0.000000  0.000000  0.000000  0.008873       0.000000\n",
            "york fashion week         0.000000  0.000000  0.000000  0.000000      0.000000  0.000000  0.000000  0.000000  0.008873       0.000000\n",
            "best dressed list         0.000000  0.000000  0.000000  0.000000      0.000000  0.000000  0.000000  0.000000  0.009317       0.000000\n",
            "this week best            0.000000  0.000000  0.000000  0.000000      0.000000  0.000000  0.000000  0.000000  0.009317       0.000000\n",
            "on this week              0.000000  0.000000  0.000000  0.000000      0.000000  0.000000  0.000000  0.000000  0.011979       0.000000\n",
            "the problem with          0.000000  0.000000  0.000000  0.000000      0.000000  0.000000  0.000000  0.002292  0.000000       0.000000\n",
            "women need to             0.000000  0.000000  0.000000  0.000000      0.000000  0.000000  0.000000  0.002292  0.000000       0.000000\n",
            "for women in              0.000000  0.000000  0.000000  0.000000      0.000000  0.000000  0.000000  0.002865  0.000000       0.000000\n",
            "this is what              0.000000  0.000000  0.000000  0.000000      0.000000  0.000000  0.000000  0.002865  0.000000       0.000000\n",
            "why we need               0.000000  0.000000  0.000000  0.000000      0.000000  0.000000  0.000000  0.002865  0.000000       0.000000\n",
            "we need to                0.000000  0.000000  0.000000  0.000000      0.000000  0.000000  0.000000  0.003725  0.000000       0.000000\n",
            "of sexual assault         0.000000  0.000000  0.000000  0.000000      0.000000  0.000000  0.000000  0.004011  0.000000       0.000000\n",
            "international women day   0.000000  0.000000  0.000000  0.000000      0.000000  0.000000  0.000000  0.004011  0.000000       0.000000\n",
            "the women march           0.000000  0.000000  0.000000  0.000000      0.000000  0.000000  0.000000  0.006304  0.000000       0.000000\n",
            "the funniest tweets       0.000000  0.000000  0.000000  0.000000      0.000000  0.000000  0.000000  0.009456  0.000000       0.000000\n",
            "the 20 funniest           0.000000  0.000000  0.000000  0.000000      0.000000  0.000000  0.000000  0.022923  0.000000       0.000000\n",
            "20 funniest tweets        0.000000  0.000000  0.000000  0.000000      0.000000  0.000000  0.000000  0.022923  0.000000       0.000000\n",
            "from women this           0.000000  0.000000  0.000000  0.000000      0.000000  0.000000  0.000000  0.033524  0.000000       0.000000\n",
            "women this week           0.000000  0.000000  0.000000  0.000000      0.000000  0.000000  0.000000  0.033524  0.000000       0.000000\n",
            "funniest tweets from      0.000000  0.000000  0.000000  0.000000      0.000000  0.000000  0.000000  0.033811  0.000000       0.000000\n",
            "tweets from women         0.000000  0.000000  0.000000  0.000000      0.000000  0.000000  0.000000  0.034097  0.000000       0.000000\n",
            "according to tripadvisor  0.000000  0.000000  0.000000  0.000000      0.000000  0.000000  0.002326  0.000000  0.000000       0.000000\n",
            "what to do                0.000000  0.000000  0.000000  0.000000      0.000000  0.000000  0.002326  0.000000  0.000000       0.000000\n",
            "will make you             0.000000  0.000000  0.000000  0.000000      0.000000  0.000000  0.002326  0.000000  0.000000       0.002180\n",
            "reasons to visit          0.000000  0.000000  0.000000  0.000000      0.000000  0.000000  0.003237  0.000000  0.000000       0.000000\n",
            "the world best            0.000000  0.000000  0.000000  0.000000      0.000000  0.000000  0.003338  0.000000  0.000000       0.000000\n",
            "best places to            0.000000  0.000000  0.000000  0.000000      0.000000  0.000000  0.003338  0.000000  0.000000       0.000000\n",
            "to do in                  0.000000  0.000000  0.000000  0.000000      0.000000  0.000000  0.004046  0.000000  0.000000       0.000000\n",
            "things to do              0.000000  0.000000  0.000000  0.000000      0.000000  0.000000  0.004349  0.000000  0.000000       0.000000\n",
            "of the world              0.000000  0.000000  0.000000  0.000000      0.000000  0.000000  0.004551  0.000000  0.000000       0.000000\n",
            "the world most            0.000000  0.000000  0.000000  0.000000      0.000000  0.000000  0.004855  0.000000  0.000000       0.000000\n",
            "looney front part         0.000000  0.000000  0.000000  0.000000      0.000000  0.000000  0.005866  0.000000  0.000000       0.000000\n",
            "the world photos          0.000000  0.000000  0.000000  0.000000      0.000000  0.000000  0.005866  0.000000  0.000000       0.000000\n",
            "your weekly travel        0.000000  0.000000  0.000000  0.000000      0.000000  0.000000  0.006574  0.000000  0.000000       0.000000\n",
            "weekly travel zen         0.000000  0.000000  0.000000  0.000000      0.000000  0.000000  0.006574  0.000000  0.000000       0.000000\n",
            "on the looney             0.000000  0.000000  0.000000  0.000000      0.000000  0.000000  0.008698  0.000000  0.000000       0.000000\n",
            "in the world              0.000000  0.000000  0.000000  0.000000      0.000000  0.000000  0.008901  0.000000  0.000000       0.000000\n",
            "the looney front          0.000000  0.000000  0.000000  0.000000      0.000000  0.000000  0.008901  0.000000  0.000000       0.000000\n",
            "the world series          0.000000  0.000000  0.000000  0.000000      0.000000  0.002048  0.000000  0.000000  0.000000       0.000000\n",
            "the nba finals            0.000000  0.000000  0.000000  0.000000      0.000000  0.002048  0.000000  0.000000  0.000000       0.000000\n",
            "super bowl ad             0.000000  0.000000  0.000000  0.000000      0.000000  0.002048  0.000000  0.000000  0.000000       0.000000\n",
            "of the year               0.000000  0.000000  0.000000  0.000000      0.000000  0.002048  0.000000  0.000000  0.000000       0.001931\n",
            "the national anthem       0.000000  0.000000  0.000000  0.000000      0.000000  0.002252  0.000000  0.000000  0.000000       0.000000\n",
            "the world cup             0.000000  0.000000  0.000000  0.000000      0.000000  0.002252  0.000000  0.000000  0.000000       0.000000\n",
            "at winter olympics        0.000000  0.000000  0.000000  0.000000      0.000000  0.002457  0.000000  0.000000  0.000000       0.000000\n",
            "golden state warriors     0.000000  0.000000  0.000000  0.000000      0.000000  0.002457  0.000000  0.000000  0.000000       0.000000\n",
            "super bowl 50             0.000000  0.000000  0.000000  0.000000      0.000000  0.002457  0.000000  0.000000  0.000000       0.000000\n",
            "for first time            0.000000  0.000000  0.000000  0.000000      0.000000  0.002662  0.000000  0.000000  0.000000       0.000000\n",
            "daily fantasy sports      0.000000  0.000000  0.000000  0.000000      0.000000  0.002662  0.000000  0.000000  0.000000       0.000000\n",
            "all star game             0.000000  0.000000  0.000000  0.000000      0.000000  0.002867  0.000000  0.000000  0.000000       0.000000\n",
            "in ncaa tournament        0.000000  0.000000  0.000000  0.000000      0.000000  0.003276  0.000000  0.000000  0.000000       0.000000\n",
            "sport and society         0.000000  0.000000  0.000000  0.000000      0.000000  0.003481  0.000000  0.000000  0.000000       0.000000\n",
            "and society for           0.000000  0.000000  0.000000  0.000000      0.000000  0.003481  0.000000  0.000000  0.000000       0.000000\n",
            "society for arete         0.000000  0.000000  0.000000  0.000000      0.000000  0.003481  0.000000  0.000000  0.000000       0.000000\n",
            "high school football      0.000000  0.000000  0.000000  0.000000      0.000000  0.003481  0.000000  0.000000  0.000000       0.000000\n",
            "hall of fame              0.000000  0.000000  0.000000  0.000000      0.000000  0.003686  0.000000  0.000000  0.000000       0.000000\n",
            "the super bowl            0.000000  0.000000  0.000000  0.000000      0.000000  0.006143  0.000000  0.000000  0.000000       0.000000\n",
            "didn know about           0.000000  0.000000  0.000000  0.000000      0.002730  0.000000  0.000000  0.000000  0.000000       0.000000\n",
            "ll ever need              0.000000  0.000000  0.000000  0.000000      0.002891  0.000000  0.000000  0.000000  0.000000       0.000000\n",
            "to make the               0.000000  0.000000  0.000000  0.000000      0.002891  0.000000  0.000000  0.000000  0.000000       0.000000\n",
            "in the life               0.000000  0.000000  0.000000  0.000000      0.002891  0.000000  0.000000  0.000000  0.000000       0.000000\n",
            "things you didn           0.000000  0.000000  0.000000  0.000000      0.003052  0.000000  0.000000  0.000000  0.000000       0.000000\n",
            "the life of               0.000000  0.000000  0.000000  0.000000      0.003052  0.000000  0.000000  0.000000  0.000000       0.000000\n",
            "recipes that ll           0.000000  0.000000  0.000000  0.000000      0.003212  0.000000  0.000000  0.000000  0.000000       0.000000\n",
            "you didn know             0.000000  0.000000  0.000000  0.000000      0.003534  0.000000  0.000000  0.000000  0.000000       0.001931\n",
            "and more photos           0.000000  0.000000  0.000000  0.000000      0.004176  0.000000  0.000000  0.000000  0.000000       0.000000\n",
            "our taste test            0.000000  0.000000  0.000000  0.000000      0.004337  0.000000  0.000000  0.000000  0.000000       0.000000\n",
            "taste test results        0.000000  0.000000  0.000000  0.000000      0.004337  0.000000  0.000000  0.000000  0.000000       0.000000\n",
            "you ll ever               0.000000  0.000000  0.000000  0.000000      0.004658  0.000000  0.000000  0.000000  0.000000       0.000000\n",
            "how to cook               0.000000  0.000000  0.000000  0.000000      0.005140  0.000000  0.000000  0.000000  0.000000       0.000000\n",
            "cooking off the           0.000000  0.000000  0.000000  0.000000      0.007710  0.000000  0.000000  0.000000  0.000000       0.000000\n",
            "off the cuff              0.000000  0.000000  0.000000  0.000000      0.007710  0.000000  0.000000  0.000000  0.000000       0.000000\n",
            "how to make               0.000000  0.000000  0.000000  0.000000      0.022968  0.000000  0.000000  0.000000  0.000000       0.000000\n",
            "recipe of the             0.000000  0.000000  0.000000  0.000000      0.030517  0.000000  0.000000  0.000000  0.000000       0.000000\n",
            "of the day                0.000000  0.000000  0.000000  0.000000      0.030678  0.000000  0.000000  0.000000  0.000000       0.000000\n",
            "won tell you              0.000000  0.000000  0.000000  0.003515      0.000000  0.000000  0.000000  0.000000  0.000000       0.000000\n",
            "credit cards for          0.000000  0.000000  0.000000  0.004101      0.000000  0.000000  0.000000  0.000000  0.000000       0.000000\n",
            "want you to               0.000000  0.000000  0.000000  0.004101      0.000000  0.000000  0.000000  0.000000  0.000000       0.000000\n",
            "your credit score         0.000000  0.000000  0.000000  0.004687      0.000000  0.000000  0.000000  0.000000  0.000000       0.000000\n",
            "why you should            0.000000  0.000000  0.000000  0.004687      0.000000  0.000000  0.000000  0.000000  0.000000       0.000000\n",
            "and how to                0.000000  0.000000  0.000000  0.004687      0.000000  0.000000  0.000000  0.000000  0.000000       0.000000\n",
            "ways to save              0.000000  0.000000  0.000000  0.004687      0.000000  0.000000  0.000000  0.000000  0.000000       0.000000\n",
            "you to know               0.000000  0.000000  0.000000  0.004687      0.000000  0.000000  0.000000  0.000000  0.000000       0.000000\n",
            "need to know              0.000000  0.000000  0.000000  0.004687      0.000000  0.000000  0.000000  0.000000  0.000000       0.000000\n",
            "bank of america           0.000000  0.000000  0.000000  0.004687      0.000000  0.000000  0.000000  0.000000  0.000000       0.000000\n",
            "ethical investor wall     0.000000  0.000000  0.000000  0.004687      0.000000  0.000000  0.000000  0.000000  0.000000       0.000000\n",
            "investor wall street      0.000000  0.000000  0.000000  0.004687      0.000000  0.000000  0.000000  0.000000  0.000000       0.000000\n",
            "wall street ripoff        0.000000  0.000000  0.000000  0.004687      0.000000  0.000000  0.000000  0.000000  0.000000       0.000000\n",
            "to save on                0.000000  0.000000  0.000000  0.005272      0.000000  0.000000  0.000000  0.000000  0.000000       0.000000\n",
            "the ethical investor      0.000000  0.000000  0.000000  0.005272      0.000000  0.000000  0.000000  0.000000  0.000000       0.000000\n",
            "health care reform        0.000000  0.000000  0.000000  0.005858      0.000000  0.000000  0.000000  0.000000  0.000000       0.000000\n",
            "how to get                0.000000  0.000000  0.000000  0.005858      0.000000  0.000000  0.000000  0.000000  0.004880       0.000000\n",
            "how to save               0.000000  0.000000  0.000000  0.006444      0.000000  0.000000  0.000000  0.000000  0.000000       0.000000\n",
            "how to avoid              0.000000  0.000000  0.000000  0.008787      0.000000  0.000000  0.000000  0.000000  0.000000       0.000000\n",
            "of the future             0.000000  0.000000  0.002882  0.000000      0.000000  0.000000  0.000000  0.000000  0.000000       0.000000\n",
            "best vines of             0.000000  0.000000  0.003362  0.000000      0.000000  0.000000  0.000000  0.000000  0.000000       0.000000\n",
            "vines of the              0.000000  0.000000  0.003362  0.000000      0.000000  0.000000  0.000000  0.000000  0.000000       0.000000\n",
            "the content brief         0.000000  0.000000  0.003362  0.000000      0.000000  0.000000  0.000000  0.000000  0.000000       0.000000\n",
            "60 seconds of             0.000000  0.000000  0.003362  0.000000      0.000000  0.000000  0.000000  0.000000  0.000000       0.000000\n",
            "seconds of social         0.000000  0.000000  0.003362  0.000000      0.000000  0.000000  0.000000  0.000000  0.000000       0.000000\n",
            "self driving cars         0.000000  0.000000  0.004323  0.000000      0.000000  0.000000  0.000000  0.000000  0.000000       0.000000\n",
            "of social media           0.000000  0.000000  0.004323  0.000000      0.000000  0.000000  0.000000  0.000000  0.000000       0.000000\n",
            "the week in               0.000000  0.000000  0.004323  0.000000      0.000000  0.000000  0.000000  0.000000  0.000000       0.002740\n",
            "you need to               0.000000  0.000000  0.004323  0.005272      0.006264  0.002048  0.003439  0.002865  0.007098       0.000000\n",
            "week in apple             0.000000  0.000000  0.016811  0.000000      0.000000  0.000000  0.000000  0.000000  0.000000       0.000000\n",
            "in apple rumors           0.000000  0.000000  0.016811  0.000000      0.000000  0.000000  0.000000  0.000000  0.000000       0.000000\n",
            "watch the top             0.000000  0.000000  0.024496  0.000000      0.000000  0.000000  0.000000  0.000000  0.000000       0.000000\n",
            "the top youtube           0.000000  0.000000  0.024496  0.000000      0.000000  0.000000  0.000000  0.000000  0.000000       0.000000\n",
            "top youtube videos        0.000000  0.000000  0.024496  0.000000      0.000000  0.000000  0.000000  0.000000  0.000000       0.000000\n",
            "youtube videos of         0.000000  0.000000  0.024496  0.000000      0.000000  0.000000  0.000000  0.000000  0.000000       0.000000\n",
            "videos of the             0.000000  0.000000  0.024496  0.000000      0.000000  0.000000  0.000000  0.000000  0.000000       0.000000\n",
            "of the week               0.000000  0.000000  0.027858  0.000000      0.000000  0.000000  0.000000  0.000000  0.000000       0.000000\n",
            "to pope francis           0.000000  0.002348  0.000000  0.000000      0.000000  0.000000  0.000000  0.000000  0.000000       0.000000\n",
            "the united states         0.000000  0.002348  0.000000  0.000000      0.000000  0.000000  0.000000  0.000000  0.000000       0.000000\n",
            "the catholic church       0.000000  0.002348  0.000000  0.000000      0.000000  0.000000  0.000000  0.000000  0.000000       0.000000\n",
            "the future of             0.000000  0.002348  0.005764  0.000000      0.000000  0.000000  0.000000  0.000000  0.000000       0.000000\n",
            "the power of              0.000000  0.002740  0.000000  0.000000      0.000000  0.000000  0.000000  0.002865  0.000000       0.000000\n",
            "an open letter            0.000000  0.002740  0.000000  0.000000      0.000000  0.000000  0.000000  0.003438  0.000000       0.000000\n",
            "people of faith           0.000000  0.003131  0.000000  0.000000      0.000000  0.000000  0.000000  0.000000  0.000000       0.000000\n",
            "daily meditation the      0.000000  0.003131  0.000000  0.000000      0.000000  0.000000  0.000000  0.000000  0.000000       0.000000\n",
            "all together podcast      0.000000  0.003131  0.000000  0.000000      0.000000  0.000000  0.000000  0.000000  0.000000       0.000000\n",
            "ramadan reflection day    0.000000  0.003523  0.000000  0.000000      0.000000  0.000000  0.000000  0.000000  0.000000       0.000000\n",
            "week in pictures          0.000000  0.003914  0.000000  0.000000      0.000000  0.000000  0.000000  0.000000  0.000000       0.000000\n",
            "in pictures faith         0.000000  0.003914  0.000000  0.000000      0.000000  0.000000  0.000000  0.000000  0.000000       0.000000\n",
            "pictures faith in         0.000000  0.003914  0.000000  0.000000      0.000000  0.000000  0.000000  0.000000  0.000000       0.000000\n",
            "faith in practice         0.000000  0.003914  0.000000  0.000000      0.000000  0.000000  0.000000  0.000000  0.000000       0.000000\n",
            "in practice around        0.000000  0.003914  0.000000  0.000000      0.000000  0.000000  0.000000  0.000000  0.000000       0.000000\n",
            "practice around the       0.000000  0.003914  0.000000  0.000000      0.000000  0.000000  0.000000  0.000000  0.000000       0.000000\n",
            "open letter to            0.000000  0.003914  0.000000  0.000000      0.000000  0.000000  0.000000  0.003725  0.000000       0.000000\n",
            "this week in              0.000000  0.003914  0.016330  0.000000      0.000000  0.000000  0.000000  0.000000  0.000000       0.000000\n",
            "around the world          0.000000  0.006262  0.000000  0.000000      0.004658  0.000000  0.017093  0.000000  0.000000       0.000000\n",
            "15 year old               0.002349  0.000000  0.000000  0.000000      0.000000  0.000000  0.000000  0.000000  0.000000       0.000000\n",
            "in shooting at            0.002349  0.000000  0.000000  0.000000      0.000000  0.000000  0.000000  0.000000  0.000000       0.000000\n",
            "year old son              0.002349  0.000000  0.000000  0.000000      0.000000  0.000000  0.000000  0.000000  0.000000       0.000000\n",
            "in death of               0.002643  0.000000  0.000000  0.000000      0.000000  0.000000  0.000000  0.000000  0.000000       0.000000\n",
            "man charged with          0.002643  0.000000  0.000000  0.000000      0.000000  0.000000  0.000000  0.000000  0.000000       0.000000\n",
            "found dead in             0.002643  0.000000  0.000000  0.000000      0.000000  0.000000  0.000000  0.000000  0.000000       0.000000\n",
            "shot in the               0.002643  0.000000  0.000000  0.000000      0.000000  0.000000  0.000000  0.000000  0.000000       0.000000\n",
            "unarmed black man         0.002937  0.000000  0.000000  0.000000      0.000000  0.000000  0.000000  0.000000  0.000000       0.000000\n",
            "caught on video           0.003524  0.000000  0.000000  0.000000      0.000000  0.000000  0.000000  0.000000  0.000000       0.000000\n",
            "years in prison           0.003524  0.000000  0.000000  0.000000      0.000000  0.000000  0.000000  0.000000  0.000000       0.000000\n",
            "in prison for             0.003524  0.000000  0.000000  0.000000      0.000000  0.000000  0.000000  0.000000  0.000000       0.000000\n",
            "shot and killed           0.003524  0.000000  0.000000  0.000000      0.000000  0.000000  0.000000  0.000000  0.000000       0.000000\n",
            "in new york               0.003818  0.000000  0.000000  0.000000      0.000000  0.000000  0.000000  0.000000  0.000000       0.000000\n",
            "pleads guilty to          0.004112  0.000000  0.000000  0.000000      0.000000  0.000000  0.000000  0.000000  0.000000       0.000000\n",
            "arrested for allegedly    0.004112  0.000000  0.000000  0.000000      0.000000  0.000000  0.000000  0.000000  0.000000       0.000000\n",
            "accused of killing        0.004112  0.000000  0.000000  0.000000      0.000000  0.000000  0.000000  0.000000  0.000000       0.000000\n",
            "year old boy              0.005286  0.000000  0.000000  0.000000      0.000000  0.000000  0.000000  0.000000  0.000000       0.000000\n",
            "new york city             0.005580  0.001957  0.000000  0.000000      0.000000  0.000000  0.003540  0.000000  0.000000       0.000000\n",
            "year old girl             0.008811  0.000000  0.000000  0.000000      0.000000  0.000000  0.000000  0.000000  0.000000       0.000000\n",
            "man accused of            0.009104  0.000000  0.000000  0.000000      0.000000  0.000000  0.000000  0.000000  0.000000       0.000000\n"
          ],
          "name": "stdout"
        }
      ]
    },
    {
      "cell_type": "markdown",
      "metadata": {
        "id": "q-UIAGg0rxv_"
      },
      "source": [
        "# Feature Engineering"
      ]
    },
    {
      "cell_type": "markdown",
      "metadata": {
        "id": "FcmD1iyqr4Ys"
      },
      "source": [
        "## Keep Stopwords?"
      ]
    },
    {
      "cell_type": "code",
      "metadata": {
        "id": "R0QiGgx4mDh-"
      },
      "source": [
        "STOPWORDS = stopwords.words(\"english\")\n",
        "ENGLISH_STOP_WORDS = set( stopwords.words('english') ).union( set(ENGLISH_STOP_WORDS) )"
      ],
      "execution_count": null,
      "outputs": []
    },
    {
      "cell_type": "code",
      "metadata": {
        "id": "4xYpeP8AsTWK"
      },
      "source": [
        "PMI_stopwords = get_PMIScore(dataset, v=ENGLISH_STOP_WORDS)\n",
        "PMI_stopwords = PMI_stopwords.fillna(-1)\n",
        "PMI_stopwords = PMI_stopwords[PMI_stopwords['PMIScore'] > -1]"
      ],
      "execution_count": null,
      "outputs": []
    },
    {
      "cell_type": "code",
      "metadata": {
        "colab": {
          "base_uri": "https://localhost:8080/"
        },
        "id": "88J8ye-vXp_e",
        "outputId": "475b9811-c831-4680-af76-b9d4160a9896"
      },
      "source": [
        "print(PMI_stopwords.to_string())"
      ],
      "execution_count": null,
      "outputs": [
        {
          "output_type": "stream",
          "text": [
            "                 CRIME   RELIGION       TECH     MONEY  FOOD & DRINK    SPORTS    TRAVEL      WOMEN      STYLE  ENTERTAINMENT    PMIScore\n",
            "meanwhile     0.000000   0.000000  25.239193  0.000000      0.000000  0.000000  0.000000   0.000000   0.000000       0.000000  252.391931\n",
            "hereby        0.000000   0.000000   0.000000  0.000000      0.000000  0.000000  0.000000  15.056734   0.000000       0.000000  150.567335\n",
            "nevertheless  0.000000   0.000000   0.000000  0.000000      0.000000  0.000000  0.000000  15.056734   0.000000       0.000000  150.567335\n",
            "fifteen       0.000000   0.000000   0.000000  0.000000      8.440090  0.000000  0.000000   0.000000   0.000000       0.000000   84.400899\n",
            "sometime      0.000000   0.000000   0.000000  0.000000      8.440090  0.000000  0.000000   0.000000   0.000000       0.000000   84.400899\n",
            "whenever      0.000000   0.000000   0.000000  0.000000      8.440090  0.000000  0.000000   0.000000   0.000000       0.000000   84.400899\n",
            "etc           0.000000   0.000000   0.000000  0.000000      8.440090  0.000000  0.000000   0.000000   0.000000       0.000000   84.400899\n",
            "hers          0.000000   0.000000   0.000000  0.000000      0.000000  5.379607  0.000000   7.528367   0.000000       0.000000   58.085881\n",
            "shan          0.000000   0.000000   0.000000  0.000000      0.000000  0.000000  5.314858   0.000000   0.000000       0.000000   53.148579\n",
            "amongst       0.000000   0.000000   0.000000  0.000000      0.000000  0.000000  5.314858   0.000000   0.000000       0.000000   53.148579\n",
            "anyhow        0.000000   0.000000   0.000000  0.000000      0.000000  0.000000  5.314858   0.000000   0.000000       0.000000   53.148579\n",
            "twelve        0.000000   0.000000   0.000000  0.000000      0.000000  0.000000  5.314858   0.000000   0.000000       0.000000   53.148579\n",
            "ours          0.000000   0.000000   0.000000  0.000000      0.000000  0.000000  5.314858   0.000000   0.000000       0.000000   53.148579\n",
            "whither       0.000000   0.000000   0.000000  0.000000      0.000000  0.000000  5.314858   0.000000   0.000000       0.000000   53.148579\n",
            "whom          0.000000   0.000000   8.413064  0.000000      0.000000  0.000000  0.000000   0.000000   0.000000       2.181592   47.675952\n",
            "nor           7.716300   0.000000   0.000000  0.000000      0.000000  0.000000  2.657429   0.000000   0.000000       0.000000   46.681778\n",
            "whoever       5.144200   0.000000   0.000000  0.000000      0.000000  3.586405  0.000000   0.000000   7.771074       0.000000   44.004475\n",
            "elsewhere     0.000000  10.283366   0.000000  0.000000      0.000000  0.000000  1.771619   0.000000   0.000000       0.545398   33.601022\n",
            "inc           0.000000   0.000000   0.000000  0.000000      0.000000  0.000000  0.000000   0.000000   0.000000       3.272388   32.723876\n",
            "indeed        0.000000   0.000000   0.000000  0.000000      0.000000  0.000000  0.000000   0.000000   0.000000       3.272388   32.723876\n",
            "hundred       0.000000   0.000000   0.000000  0.000000      0.000000  0.000000  0.000000   0.000000   0.000000       3.272388   32.723876\n",
            "yourselves    0.000000   0.000000   0.000000  0.000000      0.000000  0.000000  0.000000   0.000000   0.000000       3.272388   32.723876\n",
            "whereas       0.000000   0.000000   0.000000  0.000000      0.000000  0.000000  0.000000   0.000000   0.000000       3.272388   32.723876\n",
            "thus          0.000000   0.000000   0.000000  0.000000      0.000000  5.379607  0.000000   0.000000   0.000000       1.636194   31.571103\n",
            "thick         0.000000   0.000000   0.000000  0.000000      2.813363  0.000000  3.543239   0.000000   0.000000       0.000000   28.604709\n",
            "formerly      3.858150   0.000000   0.000000  0.000000      0.000000  0.000000  0.000000   0.000000   0.000000       2.454291   28.405982\n",
            "besides       0.000000   0.000000   0.000000  0.000000      0.844009  0.000000  1.328714   0.000000  12.822272       0.327239   26.813909\n",
            "though        0.000000   0.000000   0.000000  6.156766      0.000000  0.000000  3.188915   0.000000   0.000000       0.654478   26.667089\n",
            "seemed        0.000000   0.000000   0.000000  0.000000      2.110022  5.379607  0.000000   0.000000   0.000000       0.818097   22.153937\n",
            "ourselves     0.000000   5.876209   0.000000  0.000000      1.205727  0.000000  0.000000   4.301924   0.000000       0.934968   21.557949\n",
            "ma            5.144200   0.000000   0.000000  0.000000      0.000000  0.000000  1.771619   0.000000   0.000000       1.090796   21.350973\n",
            "twenty        0.000000   4.113346   0.000000  6.156766      0.000000  0.000000  1.062972   0.000000   4.662644       0.654478   19.980247\n",
            "whatever      0.000000   0.000000   0.000000  0.000000      4.220045  0.000000  0.000000   2.509456   3.885537       0.545398   19.530762\n",
            "forty         0.000000   0.000000   0.000000  0.000000      0.000000  0.000000  2.657429   0.000000   0.000000       1.636194   19.321302\n",
            "detail        0.000000   0.000000   0.000000  0.000000      0.000000  1.344902  0.000000   0.000000   0.000000       2.863339   18.937084\n",
            "either        1.929075   0.000000   0.000000  0.000000      1.055011  2.689803  0.000000   3.764183   5.828305       0.000000   18.319654\n",
            "hadn          0.000000   0.000000   0.000000  0.000000      0.000000  0.000000  1.771619   0.000000   0.000000       2.181592   17.789450\n",
            "myself        0.000000   2.682617   1.097356  0.000000      0.000000  0.000000  0.000000   9.164968   1.013618       0.569111   17.433205\n",
            "towards       0.000000   5.141683   0.000000  0.000000      0.000000  0.000000  1.993072   1.882092   0.000000       0.818097   17.211151\n",
            "beside        0.000000   0.000000   0.000000  0.000000      0.000000  0.000000  1.328714   0.000000   0.000000       2.454291   17.023523\n",
            "yours         0.000000   0.000000   0.000000  0.000000      1.688018  0.000000  2.657429   3.011347   2.331322       0.000000   16.954203\n",
            "weren         1.929075   0.000000   0.000000  0.000000      0.000000  2.689803  0.000000   3.764183   0.000000       1.227145   16.817862\n",
            "thin          0.000000   0.000000   0.000000  0.000000      1.688018  1.075921  1.062972   3.011347   6.993966       0.000000   16.598669\n",
            "nowhere       2.572100   0.000000   0.000000  0.000000      0.000000  5.379607  0.885810   0.000000   0.000000       0.545398   16.420100\n",
            "per           0.000000   0.000000   1.682613  8.209022      1.688018  0.000000  1.062972   0.000000   0.000000       0.872637   16.218313\n",
            "wherever      2.572100   3.427789   0.000000  0.000000      0.000000  0.000000  2.657429   0.000000   0.000000       0.545398   16.104752\n",
            "except        0.000000   0.000000   0.000000  0.000000      0.000000  0.000000  2.277796   2.150962   0.000000       1.402452   15.549893\n",
            "mill          1.402964   0.000000   0.000000  0.000000      0.000000  1.956221  0.000000   0.000000   0.000000       2.379918   15.304273\n",
            "thru          0.000000   0.000000   0.000000  0.000000      2.813363  0.000000  1.771619   0.000000   0.000000       1.090796   15.135409\n",
            "hasn          2.204657   0.000000   0.000000  0.000000      0.000000  0.768515  0.000000   0.000000   0.000000       2.571162   14.784891\n",
            "somewhere     0.000000   0.000000   0.000000  0.000000      1.688018  0.000000  3.188915   0.000000   0.000000       0.654478   14.750427\n",
            "bottom        0.000000   0.000000   0.000000  3.078383      2.532027  0.000000  1.594457   0.000000   0.000000       0.981716   14.326522\n",
            "throughout    1.286050   3.427789   0.000000  0.000000      0.000000  0.000000  1.328714   5.018911   0.000000       0.545398   13.928235\n",
            "empty         0.000000   1.713894   0.000000  5.130639      0.703341  0.000000  2.214524   0.000000   0.000000       0.818097   12.696594\n",
            "otherwise     0.000000   0.000000   4.206532  0.000000      0.000000  1.793202  0.885810   2.509456   0.000000       1.090796   12.582955\n",
            "further       0.000000   2.056673   2.523919  0.000000      0.000000  1.075921  0.000000   3.011347   4.662644       0.981716   11.926851\n",
            "below         2.374246   0.000000   0.000000  7.103961      0.000000  0.827632  0.817670   0.000000   1.793325       1.006888   11.603102\n",
            "mostly        1.929075   0.000000   0.000000  0.000000      3.165034  0.000000  0.664357   0.000000   2.914153       0.818097   11.388858\n",
            "herself       3.273582   0.000000   0.764824  0.000000      0.000000  0.000000  0.000000   0.912529   2.119384       1.983265   10.864301\n",
            "somehow       0.000000   1.142596   0.000000  0.000000      0.000000  1.195468  0.295270   0.000000   3.885537       1.999792   10.222396\n",
            "none          0.000000   0.000000   0.000000  0.000000      0.000000  1.195468  0.590540   1.672970   0.000000       2.181592    9.870998\n",
            "cannot        0.000000   3.164113   1.941476  0.000000      1.298475  0.827632  0.000000   3.474631   0.000000       1.006888    9.761013\n",
            "describe      1.286050   3.427789   0.000000  0.000000      0.000000  3.586405  0.885810   0.000000   1.942768       0.545398    9.728516\n",
            "perhaps       0.000000   2.938105   0.000000  0.000000      0.000000  1.537031  0.759265   2.150962   3.330460       0.934968    9.708992\n",
            "couldn        0.000000   0.000000   0.000000  0.000000      0.000000  1.793202  0.147635   3.764183   0.647589       1.727093    9.695644\n",
            "amount        3.561369   0.000000   3.882953  0.000000      0.649238  0.827632  0.000000   1.158210   0.000000       1.258611    9.448344\n",
            "within        1.815600   1.209808   0.000000  0.000000      0.000000  1.265790  2.188471   0.000000   0.000000       0.962467    8.930562\n",
            "interest      6.709826   0.894206   2.194712  4.015282      0.366960  0.000000  0.231081   0.000000   0.000000       0.711389    8.641975\n",
            "mine          1.028840   0.000000   1.682613  0.000000      2.813363  0.000000  1.417295   3.011347   0.000000       0.218159    8.476348\n",
            "whose         3.858150   2.056673   0.000000  0.000000      0.000000  1.613882  1.062972   0.752837   0.000000       0.818097    8.468842\n",
            "fill          0.000000   0.000000   0.000000  0.000000      1.947713  0.827632  0.408835   0.000000   1.793325       1.762055    8.087472\n",
            "eleven        4.629780   0.000000   0.000000  0.000000      0.844009  1.075921  0.531486   1.505673   0.000000       0.981716    7.973821\n",
            "several       8.122421   0.000000   0.000000  1.620202      0.000000  0.566274  0.839188   0.792460   1.227012       0.344462    7.721153\n",
            "eight         0.593562   1.582056   0.000000  3.551981      0.000000  0.413816  1.839759   0.000000   0.000000       1.258611    7.699819\n",
            "neither       1.929075   0.000000   3.154899  0.000000      0.000000  1.344902  1.328714   1.882092   2.914153       0.409048    7.407362\n",
            "anywhere      1.102329   1.469052   0.000000  0.000000      1.205727  0.768515  3.037062   1.075481   0.000000       0.000000    7.215138\n",
            "above         1.402964   1.869703   0.000000  1.399265      0.000000  0.489055  2.899013   0.000000   0.000000       0.594980    7.212483\n",
            "upon          2.204657   0.000000   0.000000  2.198845      1.205727  0.768515  0.379633   0.000000   0.000000       1.636194    6.994643\n",
            "ain           0.000000   0.000000   2.294472  0.000000      1.534562  0.978110  0.483169   1.368794   0.000000       1.487449    6.788797\n",
            "cry           0.440931   1.762863   0.000000  0.000000      0.241145  1.229624  0.000000   2.581154   0.000000       1.869936    6.771378\n",
            "fifty         0.000000   1.082460   0.000000  0.810101      0.222108  0.000000  0.419594   3.566068   0.000000       1.894540    6.662392\n",
            "seems         0.000000   0.000000   1.941476  0.000000      0.973857  2.069080  0.204418   1.158210   0.000000       1.636194    6.652695\n",
            "often         0.000000   3.085010   2.523919  4.617575      0.844009  0.000000  0.531486   4.517020   1.165661       0.163619    6.543112\n",
            "themselves    0.000000   0.894206   0.000000  1.338427      0.733921  0.935584  0.462162   5.237125   0.000000       0.995944    6.055639\n",
            "itself        0.000000   0.791028   2.912215  0.000000      0.324619  2.482895  1.226506   0.000000   1.793325       0.881027    5.949494\n",
            "seem          0.000000   2.285192   0.000000  0.000000      0.937788  1.195468  0.590540   1.672970   2.590358       1.090796    5.921778\n",
            "done          0.335491   1.788411   0.000000  0.000000      0.000000  1.403376  0.231081   2.618562   2.027237       1.493916    5.656042\n",
            "whether       2.374246   1.582056   0.000000  0.000000      0.000000  0.413816  0.613253   2.316421   0.896662       1.384472    5.474815\n",
            "others        3.000783   1.713894   4.206532  1.710213      0.000000  1.793202  0.442905   0.000000   0.647589       0.727197    5.340869\n",
            "nine          0.701482   0.000000   0.000000  2.798530      0.767281  1.467166  1.691091   0.684397   0.000000       0.892469    5.144238\n",
            "anyway        0.000000   0.663443   0.000000  0.000000      4.356175  0.347071  0.342894   0.971402   1.504079       0.738926    5.099423\n",
            "via           0.000000   1.082460   2.656757  0.000000      0.888431  0.566274  2.237835   0.792460   0.000000       0.688924    5.093223\n",
            "sometimes     0.812242   2.164919   0.000000  0.000000      0.444215  0.566274  1.118917   2.377379   0.000000       1.205616    4.965465\n",
            "am            0.000000   3.164113   0.000000  0.473597      0.389543  0.331053  0.817670   4.169557   0.358665       1.006888    4.016657\n",
            "due           0.440931   0.000000   1.442240  5.277228      0.241145  0.307406  0.911118   0.430192   0.000000       1.589445    3.989890\n",
            "himself       5.906303   0.253910   0.000000  0.380047      0.104199  2.390936  0.000000   0.185886   0.287818       1.090796    3.974961\n",
            "con           0.302600   0.000000   0.989772  0.000000      0.165492  0.000000  0.104213   0.295230   0.000000       2.887401    3.953923\n",
            "among         1.224809   0.000000   0.801244  2.443161      0.401909  3.415623  0.674903   0.477992   0.000000       0.934968    3.890479\n",
            "rather        0.000000   0.856947   1.051633  3.847979      0.351670  0.448301  1.328714   1.254728   0.000000       1.227145    3.887669\n",
            "nobody        1.286050   0.000000   2.103266  0.000000      0.703341  0.896601  0.664357   2.509456   0.971384       1.090796    3.834469\n",
            "please        0.237425   1.265645   0.000000  0.000000      0.519390  0.496579  0.572369   2.548063   2.510655       1.409644    3.584913\n",
            "becomes       0.000000   1.175242   1.081680  0.439769      0.000000  3.227764  0.835192   0.645289   0.999138       1.121961    3.572263\n",
            "haven         0.571578   0.761731   0.934785  1.140142      0.000000  0.000000  1.771619   1.115314   1.726905       1.211995    3.462776\n",
            "whole         0.000000   0.000000   0.721120  0.439769      2.170309  0.768515  0.683339   0.645289   2.664368       1.121961    3.455501\n",
            "ten           0.321512   2.142368   0.000000  1.282660      0.703341  0.672451  2.546703   0.627364   0.000000       0.545398    3.315674\n",
            "toward        0.000000   4.471029   3.292069  1.338427      0.733921  0.935584  0.231081   1.963922   1.013618       0.711389    3.264675\n",
            "both          2.489129   1.326886   0.000000  1.986054      1.089044  1.388286  0.514341   1.942804   2.256118       0.422244    2.981090\n",
            "onto          3.561369   0.791028   0.000000  2.367987      0.973857  3.310527  0.204418   0.579105   0.896662       0.377583    2.902786\n",
            "along         1.286050   0.571298   0.000000  0.855106      0.000000  0.597734  2.362159   0.418243   0.647589       0.999896    2.901778\n",
            "least         4.146071   1.227865   0.753409  1.837841      0.000000  0.321171  1.348546   0.449455   2.087751       0.586099    2.835157\n",
            "un            0.000000   2.373084   0.970738  1.183994      0.649238  0.827632  0.817670   4.053736   0.896662       0.629305    2.756013\n",
            "becoming      0.000000   1.418395   0.870317  3.184534      0.291038  1.113022  0.916355   2.076791   1.607808       0.902728    2.751331\n",
            "system        2.871181   0.956592   2.934790  1.431806      0.785125  0.750643  0.865209   1.050470   0.000000       0.684918    2.740163\n",
            "everywhere    0.376405   1.003255   0.615590  0.000000      1.029279  0.787260  0.777784   4.406849   2.843076       0.478886    2.737419\n",
            "few           0.000000   1.003255   1.846770  2.252475      0.823423  1.049679  1.037045   1.836187   1.705845       0.718329    2.727336\n",
            "de            0.432690   0.576637   0.000000  0.287699      1.814225  0.703874  1.937191   0.000000   0.653642       0.856326    2.723356\n",
            "front         1.266855   0.000000   0.188352  0.000000      0.062986  0.722634  3.609344   0.337091   0.521938       0.366312    2.653317\n",
            "once          0.000000   0.472798   0.870317  0.000000      0.291038  0.618346  0.671994   1.038395   1.071872       1.993523    2.635606\n",
            "yourself      0.000000   0.894206   0.365785  2.676855      1.223201  0.155931  0.770269   3.273203   1.351491       0.901092    2.580452\n",
            "anyone        0.617304   0.822669   1.514352  0.000000      1.012811  0.645553  1.169269   0.903404   4.196380       0.719925    2.578148\n",
            "such          1.187123   0.791028   2.912215  0.000000      0.324619  0.827632  0.408835   1.158210   2.689987       1.258611    2.568502\n",
            "become        0.000000   1.674036   1.173916  1.431806      0.490703  2.001714  0.865209   1.400626   1.626504       0.837122    2.555919\n",
            "something     0.000000   1.082460   1.594054  0.972121      0.888431  1.698823  0.727296   0.792460   2.699426       0.930047    2.530026\n",
            "serious       0.812242   1.623689   0.664189  1.620202      0.444215  1.981960  0.279729   0.000000   2.454023       1.291732    2.482663\n",
            "four          2.038268   0.776103   0.000000  2.904135      0.318494  2.131542  1.103084   0.142045   0.439872       0.864404    2.381766\n",
            "someone       2.143417   0.000000   1.752722  0.855106      0.234447  1.344902  0.221452   2.091213   0.647589       1.318045    2.357532\n",
            "also          1.469771   0.000000   1.201866  2.198845      0.602864  0.768515  1.138898   0.358494   1.665230       1.090796    2.332284\n",
            "him           3.551947   1.142596   0.600933  0.366474      0.000000  1.750507  0.084363   0.776736   0.277538       1.428423    2.217671\n",
            "always        0.318198   0.212028   0.000000  0.952077      0.783101  0.665518  1.534186   2.017913   1.922740       0.910871    2.070363\n",
            "wouldn        0.593562   0.791028   1.941476  1.183994      0.000000  0.827632  0.613253   0.579105   0.896662       1.762055    2.041948\n",
            "wasn          0.964537   1.285421   1.051633  0.000000      0.175835  0.672451  0.332179   1.568410   0.485692       1.840718    1.861528\n",
            "name          0.370382   1.151737   0.000000  0.246271      0.337604  2.237916  0.680302   1.084085   0.746023       1.413671    1.837331\n",
            "full          0.000000   1.490343   0.548678  0.223071      0.305800  1.013549  0.423648   0.872854   1.351491       1.873323    1.800613\n",
            "alone         0.350741   0.934851   0.573618  0.000000      0.575461  0.489055  1.328714   2.053191   0.529846       1.264332    1.799958\n",
            "well          0.593562   0.527352   0.970738  0.394665      0.432825  1.103509  1.294645   0.386070   0.000000       1.510333    1.603044\n",
            "she           1.134311   0.318247   0.000000  0.059543      0.048975  0.520271  0.082242   1.718273   0.721492       2.272316    1.527927\n",
            "under         1.859349   0.371688   1.520433  1.298113      0.457595  0.972218  0.896482   0.453516   5.758085       0.551969    1.413945\n",
            "less          0.266079   0.531898   1.523055  4.246046      1.455188  0.278256  1.328714   1.297994   2.210736       0.423154    1.356112\n",
            "could         0.959324   0.889372   3.615344  2.163188      0.456221  0.988685  0.761317   1.383592   1.323183       0.795986    1.333621\n",
            "until         1.102329   2.448420   1.802800  0.732948      0.200955  1.793202  0.126544   2.509456   1.665230       0.857054    1.323894\n",
            "found         8.665998   0.474617   0.194148  0.591997      0.324619  0.662105  0.327068   0.463284   0.896662       0.516030    1.311653\n",
            "keep          0.701482   1.201952   2.622254  1.599160      1.534562  0.978110  0.793777   1.368794   1.513846       0.531232    1.284517\n",
            "same          1.174219   2.906169   0.274339  2.342248      0.366960  0.584740  0.462162   2.127582   1.520427       0.995944    1.275479\n",
            "our           0.517872   2.530582   0.846953  0.550941      1.963690  0.312908  0.820414   1.279991   3.233601       0.497813    1.255477\n",
            "than          0.633782   1.140250   1.554776  2.402024      0.727893  0.861621  0.709375   1.824122   1.771230       0.873533    1.249861\n",
            "move          0.881863   1.469052   1.802800  0.879538      0.723436  2.151843  0.531486   0.645289   2.664368       0.747974    1.249765\n",
            "them          1.161593   1.105738   1.221251  1.820549      1.270551  0.404917  0.828661   2.104705   1.880098       0.650959    1.244902\n",
            "can           0.473205   1.240921   1.847379  1.887831      0.926657  0.840730  0.946266   1.459505   1.937004       0.747697    1.230719\n",
            "without       0.789575   0.765274   1.291308  2.147709      1.648762  1.050900  0.815769   1.610720   1.626504       0.547935    1.229445\n",
            "many          0.636396   2.332310   1.561187  1.586795      0.696090  0.443679  1.041055   2.017913   1.201712       0.742191    1.225933\n",
            "your          0.088863   0.296066   1.852973  2.836130      1.696928  0.165209  1.522538   1.004264   2.237353       0.486776    1.218710\n",
            "its           0.244962   1.175242   3.926097  0.488632      0.348321  1.263781  0.894246   0.525791   2.146297       0.986911    1.200028\n",
            "should        0.212654   0.850200   1.639554  1.757345      0.980247  1.037798  1.422875   2.104386   1.514442       0.450920    1.197042\n",
            "why           0.246610   1.712453   1.018908  1.656993      0.731143  0.751064  0.916355   3.039206   1.078408       0.751356    1.190250\n",
            "being         1.500392   0.785535   0.876361  1.603325      0.263753  1.046035  0.498268   3.241380   1.052333       0.965809    1.183319\n",
            "don           0.413657   1.187358   1.457108  1.713739      1.078939  0.776438  0.865719   2.669854   0.913301       0.728697    1.180481\n",
            "each          0.261569   1.394355   3.422263  1.043520      1.001367  0.911798  0.270247   1.531193   0.790279       1.164748    1.179134\n",
            "against       1.515702   2.632052   1.727683  0.458093      0.125597  2.689803  0.031636   1.478786   0.069385       1.042100    1.177084\n",
            "every         0.121517   0.971657   0.596201  0.484785      1.495292  0.847182  0.857910   2.667532   3.120667       0.579754    1.174250\n",
            "fire          5.634123   0.544093   1.068326  0.325755      0.535879  0.740052  0.337451   0.398326   1.233504       0.917654    1.173516\n",
            "more          0.431681   0.791028   1.823811  2.475623      1.082063  0.601914  0.588475   1.368794   1.467266       1.086982    1.171764\n",
            "how           0.265138   0.945716   1.211583  2.131069      1.970349  0.462119  1.063509   1.483609   1.555000       0.582052    1.167014\n",
            "my            0.312012   1.503323   0.353270  1.627761      0.643179  0.368122  0.934026   4.378863   0.797653       0.748120    1.166633\n",
            "this          0.234365   1.069508   1.440248  0.424995      0.574843  1.089290  0.743542   2.057915   3.089833       0.927653    1.165219\n",
            "or            0.824643   1.517647   0.706441  2.584902      1.395944  0.793937  1.027810   1.225994   0.771175       0.699442    1.154793\n",
            "re            0.348978   0.568427   1.585376  1.237541      1.081519  0.594730  1.068313   1.361916   2.811645       0.822208    1.148065\n",
            "six           0.571578   0.761731   1.246380  4.180520      0.520993  0.929809  1.377926   0.371771   0.575635       0.929196    1.146554\n",
            "shouldn       0.226950   0.604904   1.113494  1.358110      0.992952  2.056909  0.937916   3.321338   0.342841       0.481233    1.143665\n",
            "what          0.386083   1.529284   1.017285  1.647224      1.208241  0.620580  0.816250   2.207763   1.166471       0.836858    1.143604\n",
            "then          2.849095   1.265645   0.388295  0.947195      0.389543  1.489737  0.981205   2.084778   0.358665       0.604133    1.135829\n",
            "may           1.344130   0.928820   2.361086  2.283962      0.408391  0.798264  0.411473   0.922832   0.526428       1.361735    1.134712\n",
            "former        3.572361   0.476082   1.051633  0.855106      0.039074  2.839237  0.344482   1.185021   0.107932       0.848397    1.131932\n",
            "we            0.441903   1.245782   0.806098  0.508543      1.580193  0.758359  0.474123   1.824054   2.772938       0.900988    1.131298\n",
            "have          0.728762   1.313986   0.981524  1.539192      0.773675  1.075921  0.679121   1.798443   1.424697       0.981716    1.129704\n",
            "when          0.816689   0.975794   0.921138  1.572896      0.862491  0.765710  1.028056   2.500297   1.063559       0.764353    1.127098\n",
            "their         0.579931   1.545725   1.422669  1.542405      0.299544  0.988320  0.521500   1.571684   1.508789       1.263866    1.124443\n",
            "these         0.268653   1.153646   0.927553  0.476346      1.354985  0.645137  1.274743   0.902822   3.562368       0.658275    1.122453\n",
            "do            0.341197   1.259188   0.686781  2.146492      1.076542  0.457450  1.590842   1.843682   1.229098       0.573224    1.120449\n",
            "who           3.221990   1.341839   0.508975  0.949442      0.290347  0.753017  0.334149   2.018281   0.636067       1.133496    1.118760\n",
            "but           0.350741   1.090660   1.274707  1.710213      0.639401  1.276977  0.603961   1.710992   1.412922       1.099059    1.116963\n",
            "call          1.703599   2.270354   0.983345  0.199895      0.493252  2.235681  0.345121   1.857649   0.151385       0.892469    1.113275\n",
            "much          0.535235   0.951063   1.896587  1.423530      1.268453  0.932880  0.675878   0.783298   1.617102       1.021439    1.110546\n",
            "find          2.020936   1.346631   0.450700  1.832371      1.004773  0.064043  1.486895   1.433975   0.832615       0.623312    1.109625\n",
            "not           0.736410   1.514770   1.204360  1.692472      0.586604  1.205389  0.700194   1.796187   0.604596       1.038745    1.107973\n",
            "they          0.816540   0.435275   1.135096  1.384458      0.893131  1.053151  0.632721   2.907782   0.863453       0.926311    1.104792\n",
            "are           0.324020   1.221420   1.317222  1.440395      1.053113  0.748692  0.813011   1.707092   1.426484       0.977594    1.102904\n",
            "own           1.087760   0.634216   1.778974  1.084893      1.041068  1.658910  0.538510   1.326584   0.924313       0.937027    1.101226\n",
            "some          0.610642   1.997488   1.997346  0.775132      0.637561  1.161066  0.745610   0.758253   1.174047       1.094720    1.095187\n",
            "won           0.742462   0.777437   1.561187  1.904155      0.551071  1.848662  0.438339   0.776120   1.121598       1.214494    1.093553\n",
            "be            0.758178   1.173379   1.819942  1.024502      0.508278  0.852553  0.682256   2.004383   0.979081       1.130555    1.093311\n",
            "still         0.626949   0.706981   2.050684  1.058194      0.369254  1.412147  0.631139   1.693883   1.238515       1.145336    1.093308\n",
            "into          2.384436   0.882692   1.787325  0.924836      0.597689  1.015891  0.684316   0.484659   1.050596       1.081433    1.089387\n",
            "you           0.140033   0.546988   1.381996  1.907133      1.529040  0.417441  1.318737   1.107113   1.794447       0.749496    1.089242\n",
            "by            2.349700   0.792515   1.233494  1.273016      0.904295  1.385350  0.589430   0.849064   0.525862       0.959572    1.086230\n",
            "over          1.747087   1.108719   1.632724  0.705290      0.284370  2.117042  0.487076   0.710223   0.974002       1.093736    1.086027\n",
            "get           0.596963   0.324118   1.591009  2.028734      1.027805  0.585745  1.058403   1.229561   1.336001       0.989217    1.076756\n",
            "now           0.431882   1.074382   1.600994  1.033785      0.692843  0.963512  1.041157   1.011273   1.826782       1.013463    1.069007\n",
            "anything      1.286050   0.856947   1.051633  1.282660      1.758352  0.672451  0.664357   1.254728   0.971384       0.886272    1.068483\n",
            "me            0.474039   1.193292   0.172281  1.155707      0.259252  0.550813  0.761857   4.419383   0.636538       1.049844    1.067301\n",
            "third         0.918607   0.489684   0.901400  2.931793      0.100477  3.202147  0.442905   0.179247   0.277538       1.207667    1.065147\n",
            "aren          0.324897   0.216492   0.531351  1.296161      1.688018  0.453020  1.118917   2.535871   1.717816       0.688924    1.057147\n",
            "if            0.591811   0.970701   1.563490  1.362116      0.373455  0.793452  0.815258   2.087512   0.825247       1.187326    1.057037\n",
            "put           0.857367   1.371115   0.280435  0.684085      1.688018  1.554109  0.826756   1.338376   1.295179       0.654478    1.054992\n",
            "other         0.752810   0.752441   1.744172  1.376513      1.269444  0.481103  0.929020   1.591362   0.663384       0.971074    1.053132\n",
            "were          1.673414   0.867272   0.608173  0.927224      0.508439  1.101847  0.544293   1.723361   1.404411       1.163078    1.052151\n",
            "to            0.863968   0.981852   1.186624  1.399899      0.937363  0.992199  1.077993   1.208467   0.969360       0.902656    1.052038\n",
            "from          0.997863   1.076048   0.884493  0.896469      0.737362  0.982455  0.928657   1.813348   1.219744       0.957811    1.049425\n",
            "before        1.958215   0.745622   1.220021  1.395038      0.433479  1.332712  1.011589   0.864284   0.563462       0.968864    1.049329\n",
            "it            0.479961   0.824145   1.434045  0.975803      0.989389  0.939501  0.616676   1.864081   1.227012       1.123415    1.047403\n",
            "give          0.514420   0.914077   1.121742  1.197149      0.656451  1.075921  0.767702   1.338376   1.683733       1.163516    1.043309\n",
            "for           1.115546   1.011074   0.955441  1.402621      0.948390  1.043117  0.947716   0.959422   1.066226       0.975326    1.042488\n",
            "isn           0.324897   0.757722   1.859730  0.162020      0.310951  1.528941  0.531486   2.298133   1.349713       1.222840    1.034643\n",
            "five          0.482269   0.514168   0.473235  4.040378      0.844009  0.672451  2.225597   0.188209   0.291415       0.613573    1.034530\n",
            "yet           0.164177   0.656385   1.342510  0.654975      0.179576  0.915678  0.848116   0.640712   3.472182       1.392505    1.026682\n",
            "too           0.306608   0.817221   1.170029  1.019332      0.670736  1.068796  0.791949   2.143840   1.157941       1.116079    1.026253\n",
            "between       1.286050   1.071184   1.051633  0.641330      1.142929  0.672451  1.107262   0.941046   1.457076       0.886272    1.025723\n",
            "only          0.645715   0.946586   0.422413  0.901618      1.518510  0.810317  1.156371   1.133980   1.950897       0.766752    1.025316\n",
            "two           1.774480   0.931594   1.055297  0.965347      0.823423  1.199634  1.277788   0.891862   0.568615       0.763937    1.025198\n",
            "became        0.629902   0.839458   1.545257  0.628241      0.344493  1.976182  0.650799   1.536401   0.951560       1.135318    1.023761\n",
            "that          0.378250   0.642710   0.989772  0.811094      1.422197  0.639488  0.928146   1.346987   2.099904       0.970487    1.022904\n",
            "behind        1.271918   1.469052   1.109415  0.845710      0.834734  0.709399  0.525645   1.571857   0.640473       1.240630    1.021883\n",
            "enough        0.179449   0.956592   0.586958  0.715903      1.079546  1.125964  0.803409   2.451096   1.355420       0.951275    1.020561\n",
            "bill          0.823804   0.731912   0.808373  2.081469      0.120144  0.995514  0.170227   2.357638   0.497791       1.618726    1.020560\n",
            "of            1.315098   1.493939   1.049474  0.837548      0.799382  0.856098  0.877852   1.033798   0.861680       1.074277    1.019914\n",
            "another       1.947104   0.864956   1.297342  0.143850      0.236638  2.061345  0.471880   0.633227   1.307283       1.208031    1.017166\n",
            "after         4.013680   0.802343   0.607185  0.480372      0.076828  1.951769  0.273000   0.518860   0.197056       1.231933    1.015303\n",
            "three         0.670983   1.341309   0.365785  2.007641      1.590162  1.169480  1.193917   0.545534   0.506809       0.758815    1.015043\n",
            "any           0.350741   0.934851   0.860427  1.049449      1.438652  0.978110  0.483169   0.684397   2.119384       1.227145    1.012633\n",
            "us            0.307422   1.311027   0.955268  0.674546      1.143279  0.685846  0.857577   1.079766   1.996949       1.108179    1.011986\n",
            "made          0.480766   0.768850   1.100775  0.287699      1.525001  1.072570  0.314587   1.641700   1.743045       1.162156    1.009715\n",
            "during        2.669620   1.072199   0.538277  0.802422      0.140001  2.575072  0.453400   0.428154   0.276223       1.132153    1.008752\n",
            "down          0.943478   0.493961   1.377685  1.075418      0.829266  1.339029  0.533807   1.610873   0.661729       1.200352    1.006560\n",
            "did           0.647522   1.150586   0.705991  1.076358      0.236086  1.880981  0.520336   1.052918   1.467266       1.327262    1.006531\n",
            "since         1.859349   0.495584   0.304087  1.854448      0.203376  1.944436  0.256138   0.544219   1.123529       1.458775    1.004394\n",
            "even          0.326962   0.435736   1.497240  0.652200      0.965604  2.233905  0.653097   0.829396   1.382988       1.039954    1.001708\n",
            "does          0.381995   1.425417   1.124519  0.914371      0.626739  1.171796  1.105069   1.565304   0.692472       1.004396    1.001208\n",
            "no            0.713964   1.024677   0.583825  1.150286      0.690826  1.186960  0.463395   1.875394   0.995582       1.298474    0.998338\n",
            "there         0.433196   1.082460   0.974144  0.972121      0.681130  1.019294  1.025674   1.003782   1.636016       1.125242    0.995306\n",
            "take          0.218592   0.873940   1.286984  0.872063      0.454282  1.280133  1.565850   1.108995   1.386905       0.862130    0.990988\n",
            "as            1.399969   1.185276   0.969702  1.084169      0.441371  1.079366  0.527515   0.980214   0.845944       1.389979    0.990351\n",
            "top           0.201733   0.336058   2.763114  0.754506      1.585965  0.580154  2.014783   0.221423   0.914244       0.529357    0.990134\n",
            "having        2.258429   0.250814   0.923385  0.750825      0.102928  1.049679  0.388892   2.203424   0.568615       1.396751    0.989374\n",
            "is            0.341415   0.984368   1.293905  0.713771      0.522456  0.933793  0.680609   1.239514   1.810110       1.370630    0.989057\n",
            "all           0.218239   0.914077   0.892295  0.435327      0.878110  1.315015  0.595908   1.140662   2.237127       1.249457    0.987622\n",
            "just          0.386298   0.437590   1.705778  0.423807      0.570419  1.292722  0.545455   1.262580   1.838214       1.372027    0.983489\n",
            "must          0.335491   1.676636   0.685848  0.167303      0.871531  0.877110  1.935302   1.063791   1.647130       0.569111    0.982925\n",
            "go            0.742328   0.624812   1.789107  0.701404      0.683754  0.599247  1.695372   0.952958   1.180416       0.845022    0.981442\n",
            "through       1.549458   0.908570   0.810898  1.112669      0.610127  0.302468  1.899688   0.725626   1.123529       0.762243    0.980527\n",
            "an            0.314368   1.485375   0.981524  0.826603      0.804935  0.856752  1.171237   1.505673   0.798694       1.021106    0.976627\n",
            "already       0.954594   0.424056   0.780594  0.952077      0.348045  1.441956  0.219169   0.620896   2.403425       1.619326    0.976414\n",
            "been          1.102329   0.881431   0.961493  0.879538      0.683245  0.973453  0.430250   1.433975   0.999138       1.402452    0.974730\n",
            "one           0.516332   0.866504   1.157187  0.724774      0.669350  1.119918  0.922032   1.306036   1.299994       1.163786    0.974591\n",
            "will          0.264937   1.006269   1.668170  1.083379      0.536109  0.978950  0.720813   0.775454   1.280726       1.426930    0.974174\n",
            "never         0.436772   0.452727   0.793685  0.871241      1.167811  0.642846  1.136510   1.515143   1.686176       0.998181    0.970109\n",
            "last          0.617304   0.747881   0.550673  1.343294      0.675207  1.604101  0.773070   0.383262   1.695507       1.261357    0.965166\n",
            "off           1.266265   0.246098   0.949166  1.315548      0.908933  1.360995  0.881267   0.334594   1.235401       1.146734    0.964500\n",
            "in            1.842698   0.892120   0.862300  0.753802      0.538331  0.920856  1.267361   0.784790   0.747567       1.003161    0.961299\n",
            "most          0.221521   0.418223   1.086855  1.436088      0.969197  0.785062  2.263265   0.504293   1.366445       0.555836    0.960678\n",
            "doing         0.400847   0.801301   0.983345  0.399790      0.219223  0.838380  1.104386   2.150962   1.513846       1.189959    0.960204\n",
            "about         0.473231   0.946000   0.888603  0.961448      0.565548  0.720947  0.470822   2.171726   0.913465       1.475455    0.958725\n",
            "doesn         0.270747   0.721640   1.106982  1.080134      0.148072  1.840392  0.279729   1.849073   0.715757       1.550078    0.956260\n",
            "ever          0.039878   0.637728   0.847828  0.397724      1.897385  1.251071  0.824009   0.855938   1.867467       0.938592    0.955762\n",
            "ll            0.107544   0.071661   0.263824  0.321782      2.705534  0.637305  0.851859   0.839400   2.924306       0.809545    0.953276\n",
            "on            1.086404   0.863039   1.024384  0.945892      0.358041  0.925179  0.927449   1.042681   1.047785       1.306404    0.952726\n",
            "everything    0.428683   0.457038   1.261960  0.513064      1.547350  0.597734  0.708648   0.836485   1.942768       1.218055    0.951179\n",
            "side          0.363120   0.241962   2.375453  0.362163      1.688018  0.253158  1.062972   0.708552   1.371366       1.077963    0.950473\n",
            "back          0.753545   0.482033   0.838020  1.022119      0.362660  1.597071  0.581313   0.941046   1.457076       1.425278    0.946016\n",
            "up            0.906939   0.818770   0.717702  0.904549      0.816009  0.907649  0.579345   1.127471   1.259577       1.389602    0.942761\n",
            "together      0.337940   4.053298   0.552683  0.449399      0.123213  0.314138  0.232767   0.989128   0.510508       1.863111    0.942619\n",
            "beyond        0.130785   1.220060   1.497240  1.043520      1.716628  0.455899  1.711564   0.510398   0.395139       0.721035    0.940227\n",
            "while         3.950745   0.822669   0.504784  0.123135      0.168802  0.774663  0.999193   0.542042   0.373012       1.138791    0.939784\n",
            "the           0.263883   1.024025   0.843291  0.717967      1.087082  0.868406  1.148697   1.159045   1.220340       1.051778    0.938451\n",
            "next          0.310723   0.276064   1.693906  1.342919      0.849673  0.866514  1.355467   0.555785   0.938787       1.120079    0.930992\n",
            "across        0.505987   1.348638   0.413757  1.513959      0.691811  0.176381  2.962380   0.987327   0.382184       0.321874    0.930430\n",
            "everyone      0.182634   0.243393   1.642788  0.364306      0.649238  1.018624  0.912017   1.158210   1.793325       1.316700    0.928123\n",
            "almost        0.890342   0.593271   1.698792  0.295998      0.649238  0.724178  0.255522   1.158210   1.344994       1.667659    0.927820\n",
            "nothing       0.197854   0.791028   0.647159  0.394665      0.216413  2.344957  0.340696   1.351245   1.494437       1.468379    0.924683\n",
            "else          0.440931   0.587621   0.721120  1.759076      0.482291  1.229624  1.366678   0.860385   0.666092       1.121961    0.923578\n",
            "ve            0.259371   0.777734   0.318141  0.776063      1.524890  0.406861  1.161229   1.644853   1.371366       0.989966    0.923047\n",
            "out           0.718492   0.658295   0.930252  0.806172      0.458434  1.460999  0.613451   0.861637   1.266286       1.444167    0.921818\n",
            "would         0.508069   0.846368   0.830920  1.266824      0.798856  1.062638  0.393693   1.301199   0.671574       1.535194    0.921534\n",
            "co            0.876852   0.233713   2.294472  1.049449      0.479551  0.855847  0.060396   0.855496   0.529846       1.896497    0.913212\n",
            "at            1.420278   0.797722   0.658569  0.651280      0.419624  1.248160  0.687783   0.599933   1.224848       1.421573    0.912977\n",
            "here          0.180381   0.641041   1.409461  0.679643      0.339796  0.978110  0.517681   0.997264   1.695507       1.674442    0.911333\n",
            "might         0.222586   0.395514   2.426845  0.295998      0.730392  0.775905  0.741014   0.796270   1.232911       1.494600    0.911203\n",
            "and           0.508821   1.224524   0.815992  0.689779      1.026643  0.721529  0.825981   0.906103   1.074617       1.316707    0.911069\n",
            "so            0.252402   0.528584   0.766611  0.503474      1.025431  0.930119  0.583641   1.512709   1.579634       1.391529    0.907414\n",
            "was           2.253244   0.566577   0.451941  0.254412      0.116255  1.259688  0.219622   1.306576   0.931244       1.640701    0.900026\n",
            "with          1.206995   0.795804   0.879632  0.566003      1.002898  0.927111  0.627165   0.718955   0.895678       1.376666    0.899691\n",
            "has           0.588875   0.730660   0.830237  0.526566      0.399794  1.245804  0.412601   1.030198   1.595115       1.631888    0.899174\n",
            "because       1.008160   0.206701   0.760981  0.618770      0.466538  0.973195  0.480741   1.891549   0.937215       1.545751    0.888960\n",
            "those         0.886931   1.891194   0.870317  0.353837      0.291038  0.494676  0.610903   1.038395   0.535936       1.692614    0.866584\n",
            "had           2.379192   0.342779   0.210327  0.128266      0.140668  1.479392  0.110726   1.505673   0.679969       1.677099    0.865409\n",
            "didn          0.853718   0.525108   0.644405  0.654975      0.861967  0.869894  0.565410   0.961068   0.892847       1.573531    0.840292\n",
            "which         0.154326   0.205667   0.504784  1.539192      1.772419  0.645553  2.125943   0.301135   0.466264       0.654478    0.836976\n",
            "very          0.097060   0.646753   0.952422  0.774436      0.424659  1.015020  0.635109   1.231054   0.879744       1.687646    0.834390\n",
            "he            1.916629   0.796132   0.366375  0.148954      0.013613  2.238611  0.051434   0.777122   0.188010       1.762867    0.825975\n",
            "where         0.566734   0.697177   0.570377  0.695680      0.524525  0.212753  3.017758   0.935729   0.526852       0.489934    0.823752\n",
            "again         0.541495   0.902050   0.221396  0.405050      0.444215  1.321307  0.349662   0.924536   1.329263       1.765367    0.820434\n",
            "his           1.375182   0.875613   0.374840  0.335269      0.083565  1.981400  0.126294   0.313061   0.738637       1.872713    0.807657\n",
            "see           0.124456   0.774017   0.542778  0.248257      0.204196  0.723065  1.471587   0.930927   1.441409       1.416275    0.787697\n",
            "part          0.538346   0.558012   0.391305  0.477269      0.621557  0.583833  2.595628   0.583594   0.813252       0.710286    0.787308\n",
            "around        0.238895   1.400830   0.546979  0.285918      0.888431  0.299792  3.307388   0.419537   0.144354       0.314068    0.784619\n",
            "first         0.252698   0.649476   0.649430  0.252031      0.236915  1.736575  0.478648   0.616358   1.036143       1.810338    0.771861\n",
            "her           1.094596   0.176332   0.118032  0.119968      0.065784  0.561861  0.078708   1.373061   1.835257       2.183292    0.760689\n",
            "show          0.347702   0.784173   0.306195  0.213406      0.219413  0.466170  0.303969   0.704561   1.171722       2.279896    0.679721\n"
          ],
          "name": "stdout"
        }
      ]
    },
    {
      "cell_type": "code",
      "metadata": {
        "colab": {
          "base_uri": "https://localhost:8080/",
          "height": 595
        },
        "id": "aYy77_TqEJZz",
        "outputId": "62f1944a-0c4c-4ab3-8f82-2d6dc6dd0c8f"
      },
      "source": [
        "labelsize = 12\n",
        "plt.rcParams['xtick.labelsize'] = labelsize\n",
        "plt.rcParams['ytick.labelsize'] = labelsize \n",
        "\n",
        "stopword_plot = plt.boxplot(PMI_stopwords['PMIScore'])\n",
        "plt.xticks([1], ['stopwords'])\n",
        "plt.show()"
      ],
      "execution_count": null,
      "outputs": [
        {
          "output_type": "display_data",
          "data": {
            "image/png": "[encoded data removed]",
            "text/plain": [
              "<Figure size 720x720 with 1 Axes>"
            ]
          },
          "metadata": {
            "tags": [],
            "needs_background": "light"
          }
        }
      ]
    },
    {
      "cell_type": "code",
      "metadata": {
        "colab": {
          "base_uri": "https://localhost:8080/",
          "height": 115
        },
        "id": "vQmGi7ejEjnV",
        "outputId": "7e31aed5-19a6-4fbe-e221-c97f6f5c688f"
      },
      "source": [
        "low_PMIScore = np.percentile(PMI_stopwords['PMIScore'], 0.25)\n",
        "PMI_stopwords[PMI_stopwords['PMIScore'] <= low_PMIScore]"
      ],
      "execution_count": null,
      "outputs": [
        {
          "output_type": "execute_result",
          "data": {
            "text/html": [
              "<div>\n",
              "<style scoped>\n",
              "    .dataframe tbody tr th:only-of-type {\n",
              "        vertical-align: middle;\n",
              "    }\n",
              "\n",
              "    .dataframe tbody tr th {\n",
              "        vertical-align: top;\n",
              "    }\n",
              "\n",
              "    .dataframe thead th {\n",
              "        text-align: right;\n",
              "    }\n",
              "</style>\n",
              "<table border=\"1\" class=\"dataframe\">\n",
              "  <thead>\n",
              "    <tr style=\"text-align: right;\">\n",
              "      <th></th>\n",
              "      <th>CRIME</th>\n",
              "      <th>RELIGION</th>\n",
              "      <th>TECH</th>\n",
              "      <th>MONEY</th>\n",
              "      <th>FOOD &amp; DRINK</th>\n",
              "      <th>SPORTS</th>\n",
              "      <th>TRAVEL</th>\n",
              "      <th>WOMEN</th>\n",
              "      <th>STYLE</th>\n",
              "      <th>ENTERTAINMENT</th>\n",
              "      <th>PMIScore</th>\n",
              "    </tr>\n",
              "  </thead>\n",
              "  <tbody>\n",
              "    <tr>\n",
              "      <th>show</th>\n",
              "      <td>0.347702</td>\n",
              "      <td>0.784173</td>\n",
              "      <td>0.306195</td>\n",
              "      <td>0.213406</td>\n",
              "      <td>0.219413</td>\n",
              "      <td>0.46617</td>\n",
              "      <td>0.303969</td>\n",
              "      <td>0.704561</td>\n",
              "      <td>1.171722</td>\n",
              "      <td>2.279896</td>\n",
              "      <td>0.679721</td>\n",
              "    </tr>\n",
              "  </tbody>\n",
              "</table>\n",
              "</div>"
            ],
            "text/plain": [
              "         CRIME  RELIGION      TECH  ...     STYLE  ENTERTAINMENT  PMIScore\n",
              "show  0.347702  0.784173  0.306195  ...  1.171722       2.279896  0.679721\n",
              "\n",
              "[1 rows x 11 columns]"
            ]
          },
          "metadata": {
            "tags": []
          },
          "execution_count": 49
        }
      ]
    },
    {
      "cell_type": "markdown",
      "metadata": {
        "id": "xpG3Ql2vr9G_"
      },
      "source": [
        "## Lemmatization?"
      ]
    },
    {
      "cell_type": "code",
      "metadata": {
        "colab": {
          "base_uri": "https://localhost:8080/"
        },
        "id": "lOMyWkUgsT3s",
        "outputId": "286d0af2-ecf7-4e55-8931-0b458ed89d60"
      },
      "source": [
        "text = \"Apple Has Already Patched Many Of The WikiLeaks Exploits\"\n",
        "tokens = nltk.word_tokenize(text)\n",
        "lem = nltk.stem.wordnet.WordNetLemmatizer()\n",
        "lem_tokens = [lem.lemmatize(t.lower()) for t in tokens]\n",
        "lem_tokens"
      ],
      "execution_count": null,
      "outputs": [
        {
          "output_type": "execute_result",
          "data": {
            "text/plain": [
              "['apple',\n",
              " 'ha',\n",
              " 'already',\n",
              " 'patched',\n",
              " 'many',\n",
              " 'of',\n",
              " 'the',\n",
              " 'wikileaks',\n",
              " 'exploit']"
            ]
          },
          "metadata": {
            "tags": []
          },
          "execution_count": 23
        }
      ]
    },
    {
      "cell_type": "code",
      "metadata": {
        "colab": {
          "base_uri": "https://localhost:8080/"
        },
        "id": "SgfxqMBsLOup",
        "outputId": "64008749-6fb2-4ed0-9b36-876a7e56dad4"
      },
      "source": [
        "PMI_stopwords.loc['has']"
      ],
      "execution_count": null,
      "outputs": [
        {
          "output_type": "execute_result",
          "data": {
            "text/plain": [
              "CRIME            0.588875\n",
              "RELIGION         0.730660\n",
              "TECH             0.830237\n",
              "MONEY            0.526566\n",
              "FOOD & DRINK     0.399794\n",
              "SPORTS           1.245804\n",
              "TRAVEL           0.412601\n",
              "WOMEN            1.030198\n",
              "STYLE            1.595115\n",
              "ENTERTAINMENT    1.631888\n",
              "PMIScore         0.899174\n",
              "Name: has, dtype: float64"
            ]
          },
          "metadata": {
            "tags": []
          },
          "execution_count": 24
        }
      ]
    },
    {
      "cell_type": "markdown",
      "metadata": {
        "id": "jHZOZ-WQsFiv"
      },
      "source": [
        "## Tokenization"
      ]
    },
    {
      "cell_type": "markdown",
      "metadata": {
        "id": "TllVCkfAsfRX"
      },
      "source": [
        "### Breaking Hashtags"
      ]
    },
    {
      "cell_type": "code",
      "metadata": {
        "colab": {
          "base_uri": "https://localhost:8080/"
        },
        "id": "_uh_NDoizPyc",
        "outputId": "1325e129-1a83-41e0-a499-56ef85923502"
      },
      "source": [
        "dataset['has_hashtag'] = dataset['headline'].apply(lambda x: True if re.search(r'#\\w+', x) else False)\n",
        "print(len(dataset[dataset['has_hashtag']]))\n",
        "print(dataset[dataset['has_hashtag']].to_string())\n",
        "dataset = dataset.drop(['has_hashtag'], axis=1)"
      ],
      "execution_count": null,
      "outputs": [
        {
          "output_type": "stream",
          "text": [
            "217\n",
            "                                                                                                      headline       category  has_hashtag\n",
            "21                                        Twitter #PutStarWarsInOtherFilms And It Was Universally Entertaining  ENTERTAINMENT         True\n",
            "2644                                          Molly Ringwald Unloads On 'The Breakfast Club' In The #MeToo Era  ENTERTAINMENT         True\n",
            "3407                                    Elon Musk Pulls Tesla, SpaceX Facebook Pages In Nod To #DeleteFacebook           TECH         True\n",
            "3858                                   Jenna Jameson Calls On Women To #DropTheCover And Celebrates Motherhood          WOMEN         True\n",
            "5537                            Female Journalists Tweet #MoreThanABabe To Protest Radio Bracket Ranking Women          WOMEN         True\n",
            "6193                                                                     South Korea Joins The #MeToo Movement          WOMEN         True\n",
            "6306                                     All The Amusing #WinterOlympicsTV Shows You Need For Pyeongchang 2018         SPORTS         True\n",
            "6321                                           Maggie Gyllenhaal Isn't Here To Provide Easy #MeToo Sound Bites  ENTERTAINMENT         True\n",
            "6597                             Kesha's #MeToo Grammys Moment Praised By Sony, Sparking Social Media Backlash  ENTERTAINMENT         True\n",
            "6623                                                  Wendy Williams Says She’s ‘Sick Of This #MeToo Movement’  ENTERTAINMENT         True\n",
            "6856                                                 Casey Affleck Is Skipping The Oscars Amid #MeToo Backlash  ENTERTAINMENT         True\n",
            "7029                                      Left Out Of #MeToo, Strippers Fight For More Rights In The Workplace          WOMEN         True\n",
            "7314                   Cheryl Burke Says #MeToo, Shows Solidarity With Olympians Speaking Against Larry Nassar  ENTERTAINMENT         True\n",
            "7427                                                    A TV Series About The #MeToo Movement Is Coming To PBS          WOMEN         True\n",
            "7549                             Shawn Colvin Discusses Her New Album And Sounds Off About The #MeToo Movement  ENTERTAINMENT         True\n",
            "7652                                             Liam Neeson Calls The #MeToo Movement A 'Bit Of A Witch Hunt'  ENTERTAINMENT         True\n",
            "7685                                   Congresswoman Invites #MeToo Creator Tarana Burke To State of The Union          WOMEN         True\n",
            "7767                                                           #BlackHogwarts Magically Takes Twitter By Storm  ENTERTAINMENT         True\n",
            "7781                                        Floyd Mayweather Confuses #MeToo Movement In The Most Ignorant Way          WOMEN         True\n",
            "7795                                                    #TimesUp: Moving Forward In The Age Of Branded Protest          WOMEN         True\n",
            "7973                        Legendary French Actress Catherine Deneuve Decries #MeToo Movement As 'Puritanism'          WOMEN         True\n",
            "8126                               Watch The Trailer For Rose McGowan's New Docuseries About Life After #MeToo  ENTERTAINMENT         True\n",
            "8138                                  How E! Tried, And Failed, To Bring The #MeToo Movement To The Red Carpet  ENTERTAINMENT         True\n",
            "8165                                              Dylan Farrow Hopes #TimesUp Movement Won't Spare Woody Allen  ENTERTAINMENT         True\n",
            "8274                                   Powerful New York Times Ad About #MeToo Set To Air During Golden Globes  ENTERTAINMENT         True\n",
            "8400                            Meryl Streep Wonders Why Melania And Ivanka Trump Won't Speak Out About #MeToo          WOMEN         True\n",
            "8550                              The #MeToo Movement Looks Different For Women Of Color. Here Are 10 Stories.          WOMEN         True\n",
            "8655                                                     The Modeling Industry’s #MeToo Moment Is Long Overdue          WOMEN         True\n",
            "8776                        Topless Femen Activists Stage #MeToo Protest Against The Patriarchy At The Vatican          WOMEN         True\n",
            "9157                                           Men Try To Guess If These Situations Are Porn Or #MeToo Stories          WOMEN         True\n",
            "9260                               #MeToo Creator Will Push Button To Drop New Year's Eve Ball In Times Square          WOMEN         True\n",
            "9518                                                       Russell Simmons Denies Rape Accusations With #NotMe  ENTERTAINMENT         True\n",
            "9750                                       Jose Canseco's Icky Tweets Prove Some People Still Don't Get #MeToo          WOMEN         True\n",
            "10026                                   #MeToo Is Currently Playing Like A Partisan Revolution. Let's Fix That          WOMEN         True\n",
            "11094                                            Uma Thurman Issues Ominous #MeToo Warning To Harvey Weinstein  ENTERTAINMENT         True\n",
            "11450                                                    The Political World Is Still Failing To #BelieveWomen          WOMEN         True\n",
            "11531   Native American Child Gunned Down By Ashland County Sheriff Deputy Brock Mrdjenovich: #JusticeForJason          CRIME         True\n",
            "11537                                                            Trevor Noah Asks: #YouToo, Al? Blames All Men  ENTERTAINMENT         True\n",
            "11551                                                                         Men, #MeToo and the Bare Minimum          WOMEN         True\n",
            "11742                                                                             #MeToo and \"Legitimate rape\"          WOMEN         True\n",
            "11815                            Watch Anita Hill And Aly Raisman Share Their #MeToo Stories On Stage Together          WOMEN         True\n",
            "11951                                                                      The Beautiful Bravery Behind #MeToo          WOMEN         True\n",
            "12194                                 The Patriarchal Stigma Of Periods, And How #Bloodnormal Is Changing That          WOMEN         True\n",
            "12340                                            During This Month Of Thanks, Let's Be #ThankfulForMuslimWomen          WOMEN         True\n",
            "12749                            After #MeToo, New Campaign Offers Resources To Survivors Struggling With PTSD          WOMEN         True\n",
            "13085                                                      'Stranger Things' Season 2 Delivers #JusticeForBarb  ENTERTAINMENT         True\n",
            "13206                                                                            On Speaking Our #MeToo Truths          WOMEN         True\n",
            "13340                  The #MeToo Campaign Is An Important Step In Ending Patriarchy, But It Cannot Work Alone          WOMEN         True\n",
            "13562                           Donald Trump's 2012 Yankees Tweet Proves There Really Is A #TweetForEverything         SPORTS         True\n",
            "13798                     #MeToo: Exposing The Heresy Of Twisting Scripture To Encourage Women To Endure Abuse       RELIGION         True\n",
            "13815                     Here's How To Reply To All Those Irritating, Ignorant Responses To Your #MeToo Posts          WOMEN         True\n",
            "13820                                     #MeToo: In Directing 'ProtectHer,' I Found Peace In My Broken Pieces          WOMEN         True\n",
            "13824                                                     #MeToo And Sexual Violence In The U. S. Fire Service          WOMEN         True\n",
            "13913                           On (White) #WomenBoycottTwitter  And #MeToo, From A White Woman To White Women          WOMEN         True\n",
            "13961                                                           #MeToo: It Took Me Three Years To Unfriend Him          WOMEN         True\n",
            "14025                                                                              #MeToo Has Made Me Speak Up          WOMEN         True\n",
            "14057                                               It Will Take More Than #MeToo To Get Our Experiences Heard          WOMEN         True\n",
            "14085                                                                           #MeToo: See Beyond The Hashtag          WOMEN         True\n",
            "15582                                18 #MenForChoice On Why They're Standing Up For A Woman's Right To Choose          WOMEN         True\n",
            "18967                                                                 Human Nature Unleashed: #Charlottesville       RELIGION         True\n",
            "19019                                                      Confronting #WhiteSupremacy With #RevolutionaryLove       RELIGION         True\n",
            "19541                                         #BadPictureMonday Is The Hashtag We All Should Embrace Right Now          STYLE         True\n",
            "21509             #NeverthelessShePersisted: Rev. Jennifer Butler And The Power Of Nonviolent Resistance Today       RELIGION         True\n",
            "23315                                 #WeDoBelongHere: Why I’m Still Proud To Be American, Despite Stereotypes          WOMEN         True\n",
            "24123                                                                   7 Ways To Become Your Own #WonderWoman          WOMEN         True\n",
            "27588                                                  #FireColbert Demonstrates The Problem With The Internet  ENTERTAINMENT         True\n",
            "29931                                    These Besties Put A Hilarious Spin On The #FollowMeTo Instagram Trend         TRAVEL         True\n",
            "30525                                                               Watch: #StandForRights To Support The ACLU  ENTERTAINMENT         True\n",
            "30859                                      #MuslimWomensDay Takes Off On Twitter Amid Celebration And Backlash          WOMEN         True\n",
            "32117                                                       #NotTheNanny: A Very Good Lesson In How Bias Works          WOMEN         True\n",
            "32485                                 The BOSS Network Redefines Perspectives Of #WomenInTech Across The Globe          WOMEN         True\n",
            "32599                                       26 Tweets Prove #WhatFeministsWear Is ‘Anything They F*cking Want'          WOMEN         True\n",
            "32659                                     Women Leaders Of The Resistance Share 5 Different Ways To #StopTrump          WOMEN         True\n",
            "34171                                    'The View' Shows Support For #ADayWithoutImmigrants With Empty Studio  ENTERTAINMENT         True\n",
            "34629                                How John Cena's Wrestlemania 33 Opponent Is Chosen... | WrestleSketch #12         SPORTS         True\n",
            "34841                                                         Tom Hiddleston Is So Much More Than #Hiddleswift  ENTERTAINMENT         True\n",
            "35565                              Teens Asking An Older Woman To Take Selfies With Them Are True #Squad Goals          WOMEN         True\n",
            "35597                              Dove Deodorant's #AlternativeFacts Campaign Trolls The Trump Administration          STYLE         True\n",
            "35976                                   Celebrities React To Trump's #MuslimBan With Anger And Calls To Action  ENTERTAINMENT         True\n",
            "36098                                                                                            #WhyWeMarched          WOMEN         True\n",
            "36460                                 The 'Pitch Perfect 3' Ladies Are #SquadGoals At The Atlanta Falcons Game  ENTERTAINMENT         True\n",
            "36620                             When Women Pound The Streets, They Carry The Best Protest Signs #Womensmarch          WOMEN         True\n",
            "36716                                                  Women's Photos Of Their #MarchingShoes Will Fire You Up          STYLE         True\n",
            "36790               #117-Ranked Denis Istomin Defeats 6-Times Champion Novak Djokovic In Australian Open Upset         SPORTS         True\n",
            "37759                  #DearBetsy Campaign Implores Donald Trump's Education Pick To Protect Campus Rape Rules          WOMEN         True\n",
            "38196                         Justin Timberlake And Jessica Biel Are #CoupleGoals At Grizzlies vs. Lakers Game  ENTERTAINMENT         True\n",
            "40827                                          Why I'm Still #TeamLogan Even After The 'Gilmore Girls' Revival  ENTERTAINMENT         True\n",
            "41542                                         People Are Shunning Black Friday So They Can #OptOutside Instead         TRAVEL         True\n",
            "43068                                  #IslamophobiaAtPolls Proves There's Much Work To Be Done To Combat Hate       RELIGION         True\n",
            "43256                    Collecting Important, Suspcious Activity From The Primary Sources #MuslimsReportStuff       RELIGION         True\n",
            "45390                                            The #WomenStopTrumpParty Is The Hashtag We Desperately Needed          WOMEN         True\n",
            "47761                                                    Hugh Jackman Has Mastered The Art Of The Perfect #TBT  ENTERTAINMENT         True\n",
            "50534                                The Most Hilarious Twitter Reactions To The #JustinBieberDeactivatedParty  ENTERTAINMENT         True\n",
            "51170                                                    All The Hilarious #OlympicSongs You Need For Rio 2016         SPORTS         True\n",
            "52646                                   Leaked Emails Show White House Rejected Ariana Grande After #DonutGate  ENTERTAINMENT         True\n",
            "53109                                                 #TrumpHair Is The Hilarious Hashtag Our Country Deserves          STYLE         True\n",
            "53684                                 New York Liberty Players Wear #BlackLivesMatter Shirts Before Their Game         SPORTS         True\n",
            "56472                                                              17 Flawless Reactions To #DeleteYourAccount          WOMEN         True\n",
            "56576                                 Ben Affleck And Matt Damon Revel In Guy Love For #NationalBestFriendsDay  ENTERTAINMENT         True\n",
            "60164                                                  Khloe Kardashian Is Adorably Awkward In This Tween #TBT  ENTERTAINMENT         True\n",
            "61119                                Amber Heard And Johnny Depp Record Somber Apology Following #WarOnTerrier  ENTERTAINMENT         True\n",
            "61783                                           Chris Pratt Reached Peak #HusbandGoals At The MTV Movie Awards  ENTERTAINMENT         True\n",
            "62592                                                Sorry Donald, Women #WontBePunished For Seeking Abortions          WOMEN         True\n",
            "62662                                                       Eva Longoria Meets The Pope, Is Literally #Blessed       RELIGION         True\n",
            "65284                                          Chris Rock's Monologue Totally Nails #OscarsSoWhite Controversy  ENTERTAINMENT         True\n",
            "65295                                         The Real Winner At This Year’s Academy Awards Was #OscarsSoWhite  ENTERTAINMENT         True\n",
            "65483                                                           Chris Rock Promises A #Blackout For The Oscars  ENTERTAINMENT         True\n",
            "66183                           This Week In Normalization: A Top Exec Gets #OscarsSoWhite But America Doesn't  ENTERTAINMENT         True\n",
            "66394                                   Kristen Bell's First Instagram Photo Is The Definition Of #CoupleGoals  ENTERTAINMENT         True\n",
            "66872                                      Voters Are Urging Democratic Debate Moderators To #AskAboutAbortion          WOMEN         True\n",
            "67084                                                    This One Photo Sums Up The Whole #OscarsSoWhite Issue  ENTERTAINMENT         True\n",
            "67544                                    Helen Mirren Believes #OscarsSoWhite Begins Long Before Awards Season  ENTERTAINMENT         True\n",
            "67816                                              Our Daily Guide To The #30Up Look Good, Feel Good Challenge          STYLE         True\n",
            "69210                                      #NRAFairyTales Is Perfect Reply To NRA's Gun-Toting Red Riding Hood          CRIME         True\n",
            "69527                                                              This Is What It Means To Be #FaithfullyLGBT       RELIGION         True\n",
            "70044                              #DearDebbie, Millennial Women Aren't 'Complacent' About Reproductive Rights          WOMEN         True\n",
            "70220                             Blake Lively Proves Why 'Sisterhood Of The Traveling Pants' Is The OG #Squad  ENTERTAINMENT         True\n",
            "70555                                                                                #inthegridmusic: 12.30.15  ENTERTAINMENT         True\n",
            "74738                                             Thousands Use #MuslimsAreNotTerrorist To Combat Islamophobia       RELIGION         True\n",
            "75061                            Daniel Fleetwood, Terminally Ill 'Star Wars' Fan Of #ForceForDaniel, Has Died  ENTERTAINMENT         True\n",
            "76477                                15 Photos Of Hot Dudes Supporting Bernie Sanders To Make You #FeelTheBern          WOMEN         True\n",
            "77826                                   Jennifer Lawrence And Aziz Ansari Give New Meaning To #FriendshipGoals  ENTERTAINMENT         True\n",
            "78280                                     #Batgate Is Just The Latest Proof That NFL Rules Are Too Complicated         SPORTS         True\n",
            "78608                                         #IAmNotAFruit Promotes Women Wearing Whatever The Hell They Want          STYLE         True\n",
            "79463                                                            Use These Special Pope Emojis And Be #Blessed           TECH         True\n",
            "81178                                                      Young Amy Schumer Gets Her Dance On In Perfect #TBT  ENTERTAINMENT         True\n",
            "81374                                   Kylie Jenner Launches #IAmMoreThan Anti-Bullying Campaign On Instagram  ENTERTAINMENT         True\n",
            "81438                                                     Taylor Swift After-Parties With Her #Squad Post-VMAs  ENTERTAINMENT         True\n",
            "83226                                             #TotalHonestyTuesday Lets You Be Your True Self On Instagram           TECH         True\n",
            "83372                                           How #BlackLivesMatter Inspires People To Put Faith Into Action       RELIGION         True\n",
            "83755                                                                Lenny Kravitz Seems Unfazed By #Penisgate  ENTERTAINMENT         True\n",
            "83849                                                   #ILookLikeAnEngineer Destroys The Tech Nerd Stereotype           TECH         True\n",
            "84358                                              Tina Fey Lip Syncs To Beyoncé And It's #Flawless, Obviously  ENTERTAINMENT         True\n",
            "84546                                                               After Outcry, Instagram Brings #Curvy Back          WOMEN         True\n",
            "84617                                                      Trump Is #1 In The Polls, And So Was The 'Macarena'  ENTERTAINMENT         True\n",
            "85611                                       This Guy's Instagram Account Is The Definition Of #ThirdWheelGoals          WOMEN         True\n",
            "86056                               #BlackMuslimRamadan Aims To Celebrate A Vibrant, Often-Neglected Community       RELIGION         True\n",
            "86124                                 Which Nail Polish Color Matches #TheShoe? It's #TheDress All Over Again.          STYLE         True\n",
            "86193                  #YouLookDisgusting Blogger Em Ford Responds To Internet Haters: 'Perfection Isn't Real'          STYLE         True\n",
            "86196                                                      Matt McGorry Has Joined The #FreeTheNipple Movement          WOMEN         True\n",
            "87636                                                                       More Salt in the Wound #Charleston       RELIGION         True\n",
            "87662                                     A Serious Thank You Note to Jon Stewart & The Daily Show #Charleston       RELIGION         True\n",
            "88645                                                                            The Month in Metamodernism #2  ENTERTAINMENT         True\n",
            "88987                                                  Caitlyn Jenner Shares Inspiring #TransIsBeautiful Photo  ENTERTAINMENT         True\n",
            "90677                                        Brighten Up This #ManicureMonday With These Amazing Nail Art GIFs          STYLE         True\n",
            "91821                                     Why I Do Not Support The #ImNoAngel and the Love Your Body Campaigns          WOMEN         True\n",
            "93247                                                     Dear Maria - Open Letter to #LillyForTarget Employee          STYLE         True\n",
            "93466                                                                Disney Duo Character Countdown: Who's #1?  ENTERTAINMENT         True\n",
            "93534                                                                This Nun Wants You To Have #TaxPayerPride       RELIGION         True\n",
            "93781                                       #1 Thing To Know When Leaving A Relationship If It Becomes Abusive  ENTERTAINMENT         True\n",
            "94313                                       Peaked at #11: Iconic Pop Hits That Missed the Top 10 by One Notch  ENTERTAINMENT         True\n",
            "96136                                               #FatisNotaFeeling Activists Are Getting Harassed Like Whoa          WOMEN         True\n",
            "97419                                                                 Reason #4,572 To Go To Cuba? This Beach.         TRAVEL         True\n",
            "97482                                                          #KellyOnMyMind: Reflecting on Kelly Gissendaner       RELIGION         True\n",
            "97571                            Why Plus-Size Model Tess Munster's #effyourbeautystandards Is A Contradiction          WOMEN         True\n",
            "98802                                                                    Get the Love You Want -- #emergingnow          WOMEN         True\n",
            "99095            Exclusive Interview: Rock City on the 57th #GRAMMYs, Growing Up Poor and #WhatDreamsAreMadeOf  ENTERTAINMENT         True\n",
            "99438                                      #VaccinesWork: Open Letter to Parents & Families From Faith Leaders       RELIGION         True\n",
            "99968                                                          10 Super Bowl Facts Not Related to #DeflateGate         SPORTS         True\n",
            "100506                                                   #CurlPower Encourages Women To Put Down The Flat Iron          STYLE         True\n",
            "101129                                                          Podcast Review: The Bugle #263: #JeSuisCharlie  ENTERTAINMENT         True\n",
            "101435                                                             J*Labs Releases Her Debut EP Titled #TRUNK!  ENTERTAINMENT         True\n",
            "103200                               #12DaysOfChristmasHair Is The Instagram Hashtag You Never Knew You Needed          STYLE         True\n",
            "103498                               'Not Our Vision Of Justice': #BlackLivesMatter Condemns NYPD Cop Killings          CRIME         True\n",
            "104524                                                     Stars Autograph Ornaments for #celebritiesforsmiles  ENTERTAINMENT         True\n",
            "105398                                              How #Christian Hashtags Rally The Faithful And Lure Trolls       RELIGION         True\n",
            "105403                                                           9 Things I Am Thankful for Because of #Travel         TRAVEL         True\n",
            "105626                                                                 HuffPost Readers #ThankASpiritualMentor       RELIGION         True\n",
            "107570                                                      #GamerGate, Victimization, and the Role of the FBI          CRIME         True\n",
            "108744                                          #Muslims4Ferguson Takes To Twitter To Protest Police Brutality       RELIGION         True\n",
            "109719                           New York Film Festival 2014 #5: Edward Snowden Documentary Citizenfour Debuts  ENTERTAINMENT         True\n",
            "110240                                       New York Film Festival 2014 #4: PTA's 'Inherent Vice' Stumbles In  ENTERTAINMENT         True\n",
            "110309                                         Should You Be Planning a Trip to the Caribbean #OneHappyIsland?         TRAVEL         True\n",
            "112052                       #NoFilter Skin, Baby Hairs & More Major Beauty Moments From New York Fashion Week          STYLE         True\n",
            "113533                                                     Beyonce Holds A Chanel #Surfbort In CR Fashion Book          STYLE         True\n",
            "115801                                                    NBA Players #PrayForPaulGeorge After Horrific Injury         SPORTS         True\n",
            "116526                                Progress on Nobody's Timeline but Yours: Corinn's #LaunchLikeABoss Story          WOMEN         True\n",
            "116633                                 Ramadan Reflection Day #25: Yesterday I Met One of the Children of Gaza       RELIGION         True\n",
            "116868                      Meet the 8 Artists You'd Never Guess Were in the Rock Hall of Fame (#6: Lady Gaga)  ENTERTAINMENT         True\n",
            "117055                  Ramadan Reflection Day #20: Selfless Worship -- What Have I Done This Ramadan? (Video)       RELIGION         True\n",
            "117154                    #AOLBUILD Welcomes Jason Segel, Cameron Diaz and @SexTapeMovie Director, Jake Kasdan  ENTERTAINMENT         True\n",
            "117339                 Meet the 8 Artists You'd Never Guess Were in the Rock Hall of Fame (#2: The Black Keys)  ENTERTAINMENT         True\n",
            "117564                                                     'Transformers' Just Became The #1 Movie Of The Year  ENTERTAINMENT         True\n",
            "118404                                Ramadan Reflection Day #6: Bringing Life Back Into Our Work/Life Balance       RELIGION         True\n",
            "118552                                        Ramadan Reflection Day 5: Change it to #EyalGiladNaftaliMuhammed       RELIGION         True\n",
            "118586                                                                    Customized Costume Jewelry (#ArtofY)          STYLE         True\n",
            "118925                                       USA Fan Gets Tim Howard's Face Shaved Into His Head Because #1N1T         SPORTS         True\n",
            "119037                                              #AOLBUILD Welcomes '22 Jump Street' Directors and Ice Cube  ENTERTAINMENT         True\n",
            "120077                                                                      #WorldsMostTalkedAboutBaby Turns 1  ENTERTAINMENT         True\n",
            "120222                                                                 Are You Joining The #Cozygirl Movement?          STYLE         True\n",
            "120454                                         Dear George Will, Here Are A Few Words On My #SurvivorPrivilege          WOMEN         True\n",
            "120901                                                                            Spike Lee Stars at #AOLBUILD  ENTERTAINMENT         True\n",
            "130585               #TwitpicYourDunkContestReaction Was Way More Impressive Than Actual Dunk Contest (PHOTOS)         SPORTS         True\n",
            "137213     Miley Cyrus' Jingle Ball Performance Of '#Getitright' Features Santa Twerking And Plenty Of Glitter  ENTERTAINMENT         True\n",
            "137816                                                      8 Days of Thanksgivvukah in Picture Quotes: Day #3  ENTERTAINMENT         True\n",
            "137817                                               Mundial Montréal #3: (Part Deux) 'Along Boul. St-Laurent'  ENTERTAINMENT         True\n",
            "141121                                                                               Confessions of an #Addict           TECH         True\n",
            "142877                                                                        There's No Shame in a #LaterGram         TRAVEL         True\n",
            "143884                     Jose Canseco Wants To Succeed Bud Selig As MLB Commissioner With  #CansecoCare Plan         SPORTS         True\n",
            "150375                                    Theater: NYMF #2: Stardom, Spirits and Suicide in Three New Musicals  ENTERTAINMENT         True\n",
            "150495                                                              July's #1 Reason to Whoop It up in Wyoming         TRAVEL         True\n",
            "150937                                   6 Weeks in the English Lakes #5: At Opposite Ends of the Coffin Route         TRAVEL         True\n",
            "151547                                      6 Weeks in the English Lakes #4: Beatrix Potter on England's Fells         TRAVEL         True\n",
            "152373             Young Jeezy's '#Beautiful' Remix Debuts As Latest Spin On Mariah Carey's Single With Miguel  ENTERTAINMENT         True\n",
            "152842                                         6 Weeks in the English Lakes #3: Beatrix Potter's Hill Top Farm         TRAVEL         True\n",
            "174300    The Ethical Investor: Wall Street Ripoff #10 - Recommending Products With Enormous Sales Commissions          MONEY         True\n",
            "174781                                                              Relying on Twitter During Hurricane #Sandy           TECH         True\n",
            "174874                                                                       #GreatTimes: My New Election Song  ENTERTAINMENT         True\n",
            "175588         The Ethical Investor: Wall Street Ripoff #9 - Convincing You That Their Bank Is Stable and Safe          MONEY         True\n",
            "176905                The Ethical Investor: Wall Street Ripoff #7 - In the Long Run, Equities Outperform Bonds          MONEY         True\n",
            "177558            The Ethical Investor: Wall Street Ripoff #6 - Telling You That Bonds Are Safer Than Equities          MONEY         True\n",
            "178917                      The Ethical Investor: Wall Street Ripoff #4 -- Turning You Into a Passive Investor          MONEY         True\n",
            "179571                                  The Ethical Investor: Wall Street Ripoff #3 - Hiding Fees and Expenses          MONEY         True\n",
            "180142                      The Ethical Investor: Wall Street Ripoff #2 - Encouraging Too Much Diversification          MONEY         True\n",
            "180901               The Ethical Investor: Wall Street Ripoff #1 - Providing Nominal Returns, Not Real Returns          MONEY         True\n",
            "182677                                   Marissa Mayer Is Right: Product Focus Has to be Priority #1 at Yahoo!           TECH         True\n",
            "187019                                                                         USA #1: In NOT Taking Vacations         TRAVEL         True\n"
          ],
          "name": "stdout"
        }
      ]
    },
    {
      "cell_type": "code",
      "metadata": {
        "id": "xXOL7tYxNF0J"
      },
      "source": [
        "def break_hashtag(text):\n",
        "    text_words = re.split(r'(#\\w+)', text)\n",
        "    texts = []\n",
        "    for text_word in text_words:\n",
        "      if re.match(r'#\\w+', text_word):\n",
        "          words = []\n",
        "          i = 1\n",
        "          word = ''\n",
        "          while i < len(text_word):\n",
        "              if text_word[i].isupper():\n",
        "                  words.append(word)\n",
        "                  word = text_word[i]\n",
        "              else:\n",
        "                  word += text_word[i]\n",
        "              i += 1\n",
        "          words.append(word)\n",
        "          texts.append(' '.join(words).strip())\n",
        "      else:\n",
        "          texts.append(text_word)\n",
        "\n",
        "    return ' '.join(texts)\n",
        "\n",
        "def tokenize(text):\n",
        "    text = break_hashtag(text)\n",
        "    text = re.sub(r'[^\\w]', ' ', text)\n",
        "    tokens = nltk.word_tokenize(text)\n",
        "    tokens = [t.lower() for t in tokens]\n",
        "    return tokens"
      ],
      "execution_count": null,
      "outputs": []
    },
    {
      "cell_type": "code",
      "metadata": {
        "colab": {
          "base_uri": "https://localhost:8080/"
        },
        "id": "vNEOzR-qnEzm",
        "outputId": "1c2d657e-465f-4087-902d-bd9e371bec5f"
      },
      "source": [
        "text = \"#TrumpHair Is The Hilarious Hashtag Our Country Deserves\"\n",
        "tokenize(text)"
      ],
      "execution_count": null,
      "outputs": [
        {
          "output_type": "execute_result",
          "data": {
            "text/plain": [
              "['trump',\n",
              " 'hair',\n",
              " 'is',\n",
              " 'the',\n",
              " 'hilarious',\n",
              " 'hashtag',\n",
              " 'our',\n",
              " 'country',\n",
              " 'deserves']"
            ]
          },
          "metadata": {
            "tags": []
          },
          "execution_count": 27
        }
      ]
    },
    {
      "cell_type": "markdown",
      "metadata": {
        "id": "jJMG_Abwsj9h"
      },
      "source": [
        "### Tokenize with Bigrams"
      ]
    },
    {
      "cell_type": "code",
      "metadata": {
        "id": "sLaXP-0ZzQVQ"
      },
      "source": [
        "dataset = get_dataset()\n",
        "dataset['tokens'] = dataset['headline'].apply(tokenize)\n",
        "dataset['length'] = dataset['tokens'].apply(lambda x: len(x))\n",
        "dataset = dataset.reset_index()\n",
        "\n",
        "flatdata = pd.DataFrame([( index, value) for ( index, values)\n",
        "                         in dataset['tokens'].iteritems() for value in values],\n",
        "                             columns = [ 'index', 'tokens']).set_index( 'index' )\n",
        "\n",
        "tokens = flatdata['tokens'].to_numpy()"
      ],
      "execution_count": null,
      "outputs": []
    },
    {
      "cell_type": "code",
      "metadata": {
        "id": "urwjPkbXQ6lF"
      },
      "source": [
        "bigrams = nltk.collocations.BigramAssocMeasures()\n",
        "trigrams = nltk.collocations.TrigramAssocMeasures()\n",
        "bigramFinder = nltk.collocations.BigramCollocationFinder.from_words(tokens)\n",
        "trigramFinder = nltk.collocations.TrigramCollocationFinder.from_words(tokens)"
      ],
      "execution_count": null,
      "outputs": []
    },
    {
      "cell_type": "code",
      "metadata": {
        "colab": {
          "base_uri": "https://localhost:8080/"
        },
        "id": "juJUhr5wQ9Un",
        "outputId": "f6f33634-47a6-470a-8faa-04ca8fcbb4a6"
      },
      "source": [
        "# Find bigrams and trigrams by PMI\n",
        "bigramFinder.apply_freq_filter(20)\n",
        "trigramFinder.apply_freq_filter(10)\n",
        "bigramPMITable = pd.DataFrame(list(bigramFinder.score_ngrams(bigrams.pmi)), columns=['ngram','PMI']).sort_values(by='PMI', ascending=False)\n",
        "trigramPMITable = pd.DataFrame(list(trigramFinder.score_ngrams(trigrams.pmi)), columns=['ngram','PMI']).sort_values(by='PMI', ascending=False)\n",
        "\n",
        "bigram_vocab_df = bigramPMITable[bigramPMITable['PMI'] > 6]\n",
        "bigram_vocab_df['ngram'] = bigram_vocab_df['ngram'].apply(lambda x: ' '.join(x))\n",
        "\n",
        "trigram_vocab_df = trigramPMITable[trigramPMITable['PMI'] > 6]\n",
        "trigram_vocab_df['ngram'] = trigram_vocab_df['ngram'].apply(lambda x: ' '.join(x))\n"
      ],
      "execution_count": null,
      "outputs": [
        {
          "output_type": "stream",
          "text": [
            "/usr/local/lib/python3.7/dist-packages/ipykernel_launcher.py:8: SettingWithCopyWarning: \n",
            "A value is trying to be set on a copy of a slice from a DataFrame.\n",
            "Try using .loc[row_indexer,col_indexer] = value instead\n",
            "\n",
            "See the caveats in the documentation: https://pandas.pydata.org/pandas-docs/stable/user_guide/indexing.html#returning-a-view-versus-a-copy\n",
            "  \n",
            "/usr/local/lib/python3.7/dist-packages/ipykernel_launcher.py:11: SettingWithCopyWarning: \n",
            "A value is trying to be set on a copy of a slice from a DataFrame.\n",
            "Try using .loc[row_indexer,col_indexer] = value instead\n",
            "\n",
            "See the caveats in the documentation: https://pandas.pydata.org/pandas-docs/stable/user_guide/indexing.html#returning-a-view-versus-a-copy\n",
            "  # This is added back by InteractiveShellApp.init_path()\n"
          ],
          "name": "stderr"
        }
      ]
    },
    {
      "cell_type": "code",
      "metadata": {
        "colab": {
          "base_uri": "https://localhost:8080/"
        },
        "id": "_Nzhu2jqRW58",
        "outputId": "0fbd3082-5bb7-4c08-df30-96d0101f1aff"
      },
      "source": [
        "bigram_vocab = bigram_vocab_df['ngram'].values\n",
        "trigram_vocab = trigram_vocab_df['ngram'].values\n",
        "vocab = list(bigram_vocab) + list(trigram_vocab)\n",
        "\n",
        "frequency_of_bigram_trigram_vocab = get_frequent_ngrams_for_categories(dataset, (2,3), tokenizer=tokenize, v=vocab, n=len(vocab))"
      ],
      "execution_count": null,
      "outputs": [
        {
          "output_type": "stream",
          "text": [
            "/usr/local/lib/python3.7/dist-packages/sklearn/feature_extraction/text.py:507: UserWarning: The parameter 'token_pattern' will not be used since 'tokenizer' is not None'\n",
            "  warnings.warn(\"The parameter 'token_pattern' will not be used\"\n",
            "/usr/local/lib/python3.7/dist-packages/sklearn/feature_extraction/text.py:507: UserWarning: The parameter 'token_pattern' will not be used since 'tokenizer' is not None'\n",
            "  warnings.warn(\"The parameter 'token_pattern' will not be used\"\n",
            "/usr/local/lib/python3.7/dist-packages/sklearn/feature_extraction/text.py:507: UserWarning: The parameter 'token_pattern' will not be used since 'tokenizer' is not None'\n",
            "  warnings.warn(\"The parameter 'token_pattern' will not be used\"\n",
            "/usr/local/lib/python3.7/dist-packages/sklearn/feature_extraction/text.py:507: UserWarning: The parameter 'token_pattern' will not be used since 'tokenizer' is not None'\n",
            "  warnings.warn(\"The parameter 'token_pattern' will not be used\"\n",
            "/usr/local/lib/python3.7/dist-packages/sklearn/feature_extraction/text.py:507: UserWarning: The parameter 'token_pattern' will not be used since 'tokenizer' is not None'\n",
            "  warnings.warn(\"The parameter 'token_pattern' will not be used\"\n",
            "/usr/local/lib/python3.7/dist-packages/sklearn/feature_extraction/text.py:507: UserWarning: The parameter 'token_pattern' will not be used since 'tokenizer' is not None'\n",
            "  warnings.warn(\"The parameter 'token_pattern' will not be used\"\n",
            "/usr/local/lib/python3.7/dist-packages/sklearn/feature_extraction/text.py:507: UserWarning: The parameter 'token_pattern' will not be used since 'tokenizer' is not None'\n",
            "  warnings.warn(\"The parameter 'token_pattern' will not be used\"\n",
            "/usr/local/lib/python3.7/dist-packages/sklearn/feature_extraction/text.py:507: UserWarning: The parameter 'token_pattern' will not be used since 'tokenizer' is not None'\n",
            "  warnings.warn(\"The parameter 'token_pattern' will not be used\"\n",
            "/usr/local/lib/python3.7/dist-packages/sklearn/feature_extraction/text.py:507: UserWarning: The parameter 'token_pattern' will not be used since 'tokenizer' is not None'\n",
            "  warnings.warn(\"The parameter 'token_pattern' will not be used\"\n",
            "/usr/local/lib/python3.7/dist-packages/sklearn/feature_extraction/text.py:507: UserWarning: The parameter 'token_pattern' will not be used since 'tokenizer' is not None'\n",
            "  warnings.warn(\"The parameter 'token_pattern' will not be used\"\n"
          ],
          "name": "stderr"
        }
      ]
    },
    {
      "cell_type": "code",
      "metadata": {
        "colab": {
          "base_uri": "https://localhost:8080/",
          "height": 592
        },
        "id": "p-_ZWuESTbnu",
        "outputId": "be018632-3e01-4a2f-aefd-35dd84de29bb"
      },
      "source": [
        "frequency_of_bigram_trigram_vocab"
      ],
      "execution_count": null,
      "outputs": [
        {
          "output_type": "execute_result",
          "data": {
            "text/html": [
              "<div>\n",
              "<style scoped>\n",
              "    .dataframe tbody tr th:only-of-type {\n",
              "        vertical-align: middle;\n",
              "    }\n",
              "\n",
              "    .dataframe tbody tr th {\n",
              "        vertical-align: top;\n",
              "    }\n",
              "\n",
              "    .dataframe thead th {\n",
              "        text-align: right;\n",
              "    }\n",
              "</style>\n",
              "<table border=\"1\" class=\"dataframe\">\n",
              "  <thead>\n",
              "    <tr style=\"text-align: right;\">\n",
              "      <th></th>\n",
              "      <th>CRIME</th>\n",
              "      <th>RELIGION</th>\n",
              "      <th>TECH</th>\n",
              "      <th>MONEY</th>\n",
              "      <th>FOOD &amp; DRINK</th>\n",
              "      <th>SPORTS</th>\n",
              "      <th>TRAVEL</th>\n",
              "      <th>WOMEN</th>\n",
              "      <th>STYLE</th>\n",
              "      <th>ENTERTAINMENT</th>\n",
              "    </tr>\n",
              "  </thead>\n",
              "  <tbody>\n",
              "    <tr>\n",
              "      <th>photos huffpost tastemakers</th>\n",
              "      <td>0.000000</td>\n",
              "      <td>0.000000</td>\n",
              "      <td>0.000000</td>\n",
              "      <td>0.000000</td>\n",
              "      <td>0.000000</td>\n",
              "      <td>0.000000</td>\n",
              "      <td>0.000000</td>\n",
              "      <td>0.000000</td>\n",
              "      <td>0.000000</td>\n",
              "      <td>0.000000</td>\n",
              "    </tr>\n",
              "    <tr>\n",
              "      <th>photos top 10</th>\n",
              "      <td>0.000000</td>\n",
              "      <td>0.000000</td>\n",
              "      <td>0.000000</td>\n",
              "      <td>0.000000</td>\n",
              "      <td>0.000000</td>\n",
              "      <td>0.000000</td>\n",
              "      <td>0.000000</td>\n",
              "      <td>0.000000</td>\n",
              "      <td>0.000000</td>\n",
              "      <td>0.000000</td>\n",
              "    </tr>\n",
              "    <tr>\n",
              "      <th>photos recipe of</th>\n",
              "      <td>0.000000</td>\n",
              "      <td>0.000000</td>\n",
              "      <td>0.000000</td>\n",
              "      <td>0.000000</td>\n",
              "      <td>0.000000</td>\n",
              "      <td>0.000000</td>\n",
              "      <td>0.000000</td>\n",
              "      <td>0.000000</td>\n",
              "      <td>0.000000</td>\n",
              "      <td>0.000000</td>\n",
              "    </tr>\n",
              "    <tr>\n",
              "      <th>photos america s</th>\n",
              "      <td>0.000000</td>\n",
              "      <td>0.000000</td>\n",
              "      <td>0.000000</td>\n",
              "      <td>0.000000</td>\n",
              "      <td>0.000000</td>\n",
              "      <td>0.000000</td>\n",
              "      <td>0.000000</td>\n",
              "      <td>0.000000</td>\n",
              "      <td>0.000000</td>\n",
              "      <td>0.000000</td>\n",
              "    </tr>\n",
              "    <tr>\n",
              "      <th>photos how to</th>\n",
              "      <td>0.000000</td>\n",
              "      <td>0.000000</td>\n",
              "      <td>0.000000</td>\n",
              "      <td>0.000000</td>\n",
              "      <td>0.000000</td>\n",
              "      <td>0.000000</td>\n",
              "      <td>0.000000</td>\n",
              "      <td>0.000000</td>\n",
              "      <td>0.000000</td>\n",
              "      <td>0.000000</td>\n",
              "    </tr>\n",
              "    <tr>\n",
              "      <th>...</th>\n",
              "      <td>...</td>\n",
              "      <td>...</td>\n",
              "      <td>...</td>\n",
              "      <td>...</td>\n",
              "      <td>...</td>\n",
              "      <td>...</td>\n",
              "      <td>...</td>\n",
              "      <td>...</td>\n",
              "      <td>...</td>\n",
              "      <td>...</td>\n",
              "    </tr>\n",
              "    <tr>\n",
              "      <th>police officer</th>\n",
              "      <td>0.012628</td>\n",
              "      <td>0.000000</td>\n",
              "      <td>0.000000</td>\n",
              "      <td>0.000000</td>\n",
              "      <td>0.000000</td>\n",
              "      <td>0.000205</td>\n",
              "      <td>0.000000</td>\n",
              "      <td>0.000287</td>\n",
              "      <td>0.000000</td>\n",
              "      <td>0.000125</td>\n",
              "    </tr>\n",
              "    <tr>\n",
              "      <th>new york</th>\n",
              "      <td>0.014391</td>\n",
              "      <td>0.004697</td>\n",
              "      <td>0.008165</td>\n",
              "      <td>0.004101</td>\n",
              "      <td>0.004337</td>\n",
              "      <td>0.009419</td>\n",
              "      <td>0.009811</td>\n",
              "      <td>0.002292</td>\n",
              "      <td>0.011091</td>\n",
              "      <td>0.003612</td>\n",
              "    </tr>\n",
              "    <tr>\n",
              "      <th>charged with</th>\n",
              "      <td>0.015272</td>\n",
              "      <td>0.000391</td>\n",
              "      <td>0.000000</td>\n",
              "      <td>0.001172</td>\n",
              "      <td>0.000000</td>\n",
              "      <td>0.001843</td>\n",
              "      <td>0.000000</td>\n",
              "      <td>0.000860</td>\n",
              "      <td>0.000000</td>\n",
              "      <td>0.000747</td>\n",
              "    </tr>\n",
              "    <tr>\n",
              "      <th>police say</th>\n",
              "      <td>0.018502</td>\n",
              "      <td>0.000391</td>\n",
              "      <td>0.000480</td>\n",
              "      <td>0.000586</td>\n",
              "      <td>0.000000</td>\n",
              "      <td>0.000205</td>\n",
              "      <td>0.000000</td>\n",
              "      <td>0.000000</td>\n",
              "      <td>0.000000</td>\n",
              "      <td>0.000125</td>\n",
              "    </tr>\n",
              "    <tr>\n",
              "      <th>year old</th>\n",
              "      <td>0.042584</td>\n",
              "      <td>0.001957</td>\n",
              "      <td>0.002402</td>\n",
              "      <td>0.002929</td>\n",
              "      <td>0.000482</td>\n",
              "      <td>0.008804</td>\n",
              "      <td>0.001011</td>\n",
              "      <td>0.004585</td>\n",
              "      <td>0.004880</td>\n",
              "      <td>0.004920</td>\n",
              "    </tr>\n",
              "  </tbody>\n",
              "</table>\n",
              "<p>1592 rows × 10 columns</p>\n",
              "</div>"
            ],
            "text/plain": [
              "                                CRIME  RELIGION  ...     STYLE  ENTERTAINMENT\n",
              "photos huffpost tastemakers  0.000000  0.000000  ...  0.000000       0.000000\n",
              "photos top 10                0.000000  0.000000  ...  0.000000       0.000000\n",
              "photos recipe of             0.000000  0.000000  ...  0.000000       0.000000\n",
              "photos america s             0.000000  0.000000  ...  0.000000       0.000000\n",
              "photos how to                0.000000  0.000000  ...  0.000000       0.000000\n",
              "...                               ...       ...  ...       ...            ...\n",
              "police officer               0.012628  0.000000  ...  0.000000       0.000125\n",
              "new york                     0.014391  0.004697  ...  0.011091       0.003612\n",
              "charged with                 0.015272  0.000391  ...  0.000000       0.000747\n",
              "police say                   0.018502  0.000391  ...  0.000000       0.000125\n",
              "year old                     0.042584  0.001957  ...  0.004880       0.004920\n",
              "\n",
              "[1592 rows x 10 columns]"
            ]
          },
          "metadata": {
            "tags": []
          },
          "execution_count": 84
        }
      ]
    },
    {
      "cell_type": "code",
      "metadata": {
        "id": "DyNuzELJVu9P"
      },
      "source": [
        "frequency_of_bigram_trigram_vocab['std'] = frequency_of_bigram_trigram_vocab.to_numpy().std(axis=1)\n",
        "vocab_to_remove = frequency_of_bigram_trigram_vocab.loc[frequency_of_bigram_trigram_vocab['std'] == 0].index"
      ],
      "execution_count": null,
      "outputs": []
    },
    {
      "cell_type": "code",
      "metadata": {
        "colab": {
          "base_uri": "https://localhost:8080/"
        },
        "id": "ELMsHPbGV-Fb",
        "outputId": "d2141b2d-b3c1-435c-fc36-25f9a22e3555"
      },
      "source": [
        "vocab_to_remove"
      ],
      "execution_count": null,
      "outputs": [
        {
          "output_type": "execute_result",
          "data": {
            "text/plain": [
              "Index(['photos huffpost tastemakers', 'photos top 10', 'photos recipe of',\n",
              "       'photos america s', 'photos how to', 'photos the best',\n",
              "       'photos the most', 'photos world s'],\n",
              "      dtype='object')"
            ]
          },
          "metadata": {
            "tags": []
          },
          "execution_count": 87
        }
      ]
    },
    {
      "cell_type": "code",
      "metadata": {
        "id": "9AyibXexWER1"
      },
      "source": [
        "vocab_df = pd.concat([bigram_vocab_df, trigram_vocab_df])\n",
        "for word in vocab_to_remove:\n",
        "    vocab_df = vocab_df[vocab_df['ngram']  != word]\n",
        "\n",
        "vocab_df['token'] = vocab_df['ngram'].apply(lambda x: '_'.join(x.split(' ')))\n",
        "vocab_df.to_csv(BIGRAM_TRIGRAM_VOCAB, index=False)"
      ],
      "execution_count": null,
      "outputs": []
    },
    {
      "cell_type": "code",
      "metadata": {
        "id": "knQSf5qIWY_6"
      },
      "source": [
        "class Bigram_Trigram_Tokenizer:\n",
        "    def __init__(self):\n",
        "        self.bigram_trigram_vocab = pd.read_csv(BIGRAM_TRIGRAM_VOCAB)\n",
        "\n",
        "    def get_PMI_for_word(self, word):\n",
        "        pmi = self.bigram_trigram_vocab[self.bigram_trigram_vocab['ngram']==word]['PMI'].values\n",
        "        if len(pmi) == 0:\n",
        "            return 0\n",
        "\n",
        "        return pmi[0]\n",
        "\n",
        "    def tokenize_with_bigrams(self, text):\n",
        "        unigrams = tokenize(text)\n",
        "        bigrams = [' '.join(t)\n",
        "                   for t in list(zip(unigrams, unigrams[1:]+[\" \"]))]\n",
        "        bigrams_pmi = [self.get_PMI_for_word(word) for word in bigrams]\n",
        "\n",
        "        def helper(left_start, right_end):\n",
        "            if left_start >= right_end:\n",
        "                return ''\n",
        "            max_bigram_arg = np.argmax(\n",
        "                bigrams_pmi[left_start:right_end]) + left_start\n",
        "            if bigrams_pmi[max_bigram_arg] > 0:\n",
        "                left = helper(left_start, max_bigram_arg)\n",
        "                right = helper(max_bigram_arg+2, right_end)\n",
        "                bi_unigram = '_'.join(bigrams[max_bigram_arg].split(' '))\n",
        "                return ' '.join([left, bi_unigram, right])\n",
        "            else:\n",
        "                return ' '.join(unigrams[left_start:right_end])\n",
        "\n",
        "        ret = helper(0, len(unigrams))\n",
        "        return nltk.word_tokenize(ret)\n",
        "\n",
        "    def get_bigram_trigram_token_list(self):\n",
        "        return self.bigram_trigram_vocab['token'].values\n",
        "\n",
        "    def get_bigram_token_list(self):\n",
        "        df = self.bigram_trigram_vocab.copy()\n",
        "        df['len'] = df['ngram'].apply(lambda x: len(x.split(' ')))\n",
        "        bigrams = df[df['len'] == 2]\n",
        "        return bigrams['token'].values\n",
        "\n",
        "    def get_bigram_glove_embeddings(self):\n",
        "        embeddings = pickle.load(open(BIGRAM_VOCAB_EMBEDDINGS, 'rb'))\n",
        "        return embeddings"
      ],
      "execution_count": null,
      "outputs": []
    },
    {
      "cell_type": "code",
      "metadata": {
        "colab": {
          "base_uri": "https://localhost:8080/"
        },
        "id": "NCbAfem6w3fA",
        "outputId": "eb27fe11-dcb6-42b6-936e-be92daed5e27"
      },
      "source": [
        "bigram_tokenizer = Bigram_Trigram_Tokenizer()\n",
        "text = 'Kylie Jenner Launches #IAmMoreThan Anti-Bullying Campaign On Instagram'\n",
        "bigram_tokenizer.tokenize_with_bigrams(text)"
      ],
      "execution_count": null,
      "outputs": [
        {
          "output_type": "execute_result",
          "data": {
            "text/plain": [
              "['kylie_jenner',\n",
              " 'launches',\n",
              " 'i_am',\n",
              " 'more_than',\n",
              " 'anti',\n",
              " 'bullying',\n",
              " 'campaign',\n",
              " 'on',\n",
              " 'instagram']"
            ]
          },
          "metadata": {
            "tags": []
          },
          "execution_count": 30
        }
      ]
    },
    {
      "cell_type": "markdown",
      "metadata": {
        "id": "jYKaZqxqk-jJ"
      },
      "source": [
        "### Compute Bigram Glove Embeddings"
      ]
    },
    {
      "cell_type": "code",
      "metadata": {
        "id": "4seCMqczlEZQ"
      },
      "source": [
        "def glove2dict(glove_filename):\n",
        "    with open(glove_filename, encoding='utf-8') as f:\n",
        "        reader = csv.reader(f, delimiter=' ',quoting=csv.QUOTE_NONE)\n",
        "        embed = {line[0]: np.array(list(map(float, line[1:])))\n",
        "                for line in reader}\n",
        "    return embed\n",
        "pre_glove = glove2dict(GLOVE_50D_TXT)"
      ],
      "execution_count": null,
      "outputs": []
    },
    {
      "cell_type": "code",
      "metadata": {
        "id": "InlTX8a1lYc_"
      },
      "source": [
        "oov = get_bigram_token_list()\n",
        "corp_vocab = {}\n",
        "for i in range(len(oov)):\n",
        "    corp_vocab[oov[i]] = i\n",
        "\n",
        "def is_in_bigram_vocab(word): \n",
        "    try:\n",
        "        a = corp_vocab[word]\n",
        "    except:\n",
        "        return False\n",
        "    return True"
      ],
      "execution_count": null,
      "outputs": []
    },
    {
      "cell_type": "markdown",
      "metadata": {
        "id": "HyjYpQD0mLdp"
      },
      "source": [
        "Compute co-occurrence matrix of the bigrams in the precomputed bigram_vocab"
      ]
    },
    {
      "cell_type": "code",
      "metadata": {
        "id": "AvguoRJ4lfAd"
      },
      "source": [
        "cv = CountVectorizer(tokenizer=tokenize_with_bigrams, vocabulary=corp_vocab)\n",
        "X = cv.fit_transform(train_data['headline'])\n",
        "Xc = (X.T * X)\n",
        "Xc.setdiag(0)\n",
        "coocc_ar = Xc.toarray()"
      ],
      "execution_count": null,
      "outputs": []
    },
    {
      "cell_type": "markdown",
      "metadata": {
        "id": "mbFeKqNhmCda"
      },
      "source": [
        "If you need to take a look at the RAM in case the co-occurrence array is huge..."
      ]
    },
    {
      "cell_type": "code",
      "metadata": {
        "id": "7JzYEqadmBta"
      },
      "source": [
        "import psutil\n",
        "# gives a single float value\n",
        "print(psutil.cpu_percent())\n",
        "# gives an object with many fields\n",
        "print(psutil.virtual_memory())\n",
        "# you can convert that object to a dictionary \n",
        "print(dict(psutil.virtual_memory()._asdict()))\n",
        "# you can have the percentage of used RAM\n",
        "print(psutil.virtual_memory().percent)\n",
        "# you can calculate percentage of available memory\n",
        "print(psutil.virtual_memory().available * 100 / psutil.virtual_memory().total)"
      ],
      "execution_count": null,
      "outputs": []
    },
    {
      "cell_type": "markdown",
      "metadata": {
        "id": "2Dpp1YyDmmjp"
      },
      "source": [
        "Train the mittens model on the co-occurrence array to get the glove vectors of the bigrams"
      ]
    },
    {
      "cell_type": "code",
      "metadata": {
        "id": "ez_CObNKmOkN"
      },
      "source": [
        "from mittens import Mittens\n",
        "\n",
        "dim = 50\n",
        "iter = 10000\n",
        "size = len(coocc_ar)\n",
        "\n",
        "mittens_model = Mittens(n=dim, max_iter=iter)\n",
        "new_embeddings = mittens_model.fit(\n",
        "      coocc_ar,\n",
        "      vocab=bigram_unigram_vocab,\n",
        "      initial_embedding_dict= pre_glove)"
      ],
      "execution_count": null,
      "outputs": []
    },
    {
      "cell_type": "code",
      "metadata": {
        "id": "xFWgfgbSmbJq"
      },
      "source": [
        "newglove = dict(zip(corp_vocab, new_embeddings))\n",
        "pickle.dump(newglove, open(os.path.join(WORKING_DIR, f\"mitten_bigram_dict_{dim}d_{size}_{iter}.pkl\"), \"wb\"))"
      ],
      "execution_count": null,
      "outputs": []
    },
    {
      "cell_type": "markdown",
      "metadata": {
        "id": "4OgXKk5HnPaR"
      },
      "source": [
        "Sanity check using k-nearest neighbors: the bigrams that are \"similar\" in meaning should be \"close\" to each other"
      ]
    },
    {
      "cell_type": "code",
      "metadata": {
        "id": "e6zgBs0Dmzbz"
      },
      "source": [
        "newglove_word2ind = {}\n",
        "newglove_ind2word = []\n",
        "for ind, key in enumerate(newglove):\n",
        "    newglove_word2ind[key] = ind \n",
        "    newglove_ind2word.append(key)\n",
        "\n",
        "newglove_arr = []\n",
        "for k in newglove_ind2word:\n",
        "    newglove_arr.append(newglove[k])\n",
        "\n",
        "newglove_arr = np.array(newglove_arr)"
      ],
      "execution_count": null,
      "outputs": []
    },
    {
      "cell_type": "code",
      "metadata": {
        "id": "tSyVQME0nA0-"
      },
      "source": [
        "from sklearn.neighbors import NearestNeighbors\n",
        "\n",
        "X = newglove_arr\n",
        "nbrs = NearestNeighbors(n_neighbors=3, algorithm='ball_tree').fit(X)\n",
        "distances, indices = nbrs.kneighbors(X)\n",
        "\n",
        "for i in indices:\n",
        "    print(newglove_ind2word[i[0]], newglove_ind2word[i[1]], newglove_ind2word[i[2]])"
      ],
      "execution_count": null,
      "outputs": []
    },
    {
      "cell_type": "markdown",
      "metadata": {
        "id": "BFO5jb_izH95"
      },
      "source": [
        "### Tokenize with Synonyms and Hypernyms"
      ]
    },
    {
      "cell_type": "code",
      "metadata": {
        "id": "CZYAjlMlzQ6Q"
      },
      "source": [
        "def tokenize_synonyms(text):\n",
        "    synsets = []\n",
        "    tokens = tokenize(text)\n",
        "    for token in tokens:\n",
        "        synsetss = wn.synsets(token)\n",
        "        s_set = []\n",
        "        for s in synsetss:\n",
        "            s_set.append(s.lemmas()[0].name().lower())\n",
        "        s_set.sort()\n",
        "        if len(s_set) > 0:\n",
        "            synsets += s_set[0].split(\"_\")\n",
        "\n",
        "    return synsets\n",
        "\n",
        "def tokenize_hypernyms(text):\n",
        "    synsets = []\n",
        "    tokens = tokenize(text)\n",
        "    for token in tokens:\n",
        "        synsetss = wn.synsets(token)\n",
        "        h_set = []\n",
        "        for s in synsetss:\n",
        "            for h in s.hypernyms():\n",
        "                h_set.append(h.lemmas()[0].name().lower())\n",
        "\n",
        "        h_set.sort()\n",
        "        if len(h_set) > 0:\n",
        "            synsets += h_set[0].split(\"_\")\n",
        "            \n",
        "    return synsets"
      ],
      "execution_count": null,
      "outputs": []
    },
    {
      "cell_type": "code",
      "metadata": {
        "colab": {
          "base_uri": "https://localhost:8080/"
        },
        "id": "r6tpHJ4AvwM4",
        "outputId": "0a5fe59c-d01c-4221-ddb4-d75349a21311"
      },
      "source": [
        "text = \"Eating Healthy Just Got Easy With These 20 Recipes (PHOTOS)\"\n",
        "print(tokenize_synonyms(text))"
      ],
      "execution_count": null,
      "outputs": [
        {
          "output_type": "stream",
          "text": [
            "['consume', 'goodly', 'barely', 'arrive', 'comfortable', 'twenty', 'recipe', 'photograph']\n"
          ],
          "name": "stdout"
        }
      ]
    },
    {
      "cell_type": "code",
      "metadata": {
        "colab": {
          "base_uri": "https://localhost:8080/"
        },
        "id": "WUFwr5le03FZ",
        "outputId": "f2a9990f-0b89-4f3c-899b-52078638b65d"
      },
      "source": [
        "tokenize_hypernyms(text)"
      ],
      "execution_count": null,
      "outputs": [
        {
          "output_type": "execute_result",
          "data": {
            "text/plain": [
              "['consume', 'annoy', 'large', 'integer', 'direction', 'representation']"
            ]
          },
          "metadata": {
            "tags": []
          },
          "execution_count": 195
        }
      ]
    },
    {
      "cell_type": "code",
      "metadata": {
        "colab": {
          "base_uri": "https://localhost:8080/"
        },
        "id": "vQZXv6sNwbJ8",
        "outputId": "4bab4e18-282b-4607-d40a-b59c511a3779"
      },
      "source": [
        "text = \"Nigeria And Jamaica Just Made Winter Olympics History\"\n",
        "tokenize_synonyms(text)"
      ],
      "execution_count": null,
      "outputs": [
        {
          "output_type": "execute_result",
          "data": {
            "text/plain": [
              "['nigeria',\n",
              " 'jamaica',\n",
              " 'barely',\n",
              " 'cause',\n",
              " 'winter',\n",
              " 'olympic',\n",
              " 'games',\n",
              " 'history']"
            ]
          },
          "metadata": {
            "tags": []
          },
          "execution_count": 196
        }
      ]
    },
    {
      "cell_type": "code",
      "metadata": {
        "colab": {
          "base_uri": "https://localhost:8080/"
        },
        "id": "kMe3JxVO8ITi",
        "outputId": "4c92938f-2c25-41b0-9edc-aae9d92915e9"
      },
      "source": [
        "tokenize_hypernyms(text)"
      ],
      "execution_count": null,
      "outputs": [
        {
          "output_type": "execute_result",
          "data": {
            "text/plain": [
              "['achieve', 'season', 'athletic', 'contest', 'cognition']"
            ]
          },
          "metadata": {
            "tags": []
          },
          "execution_count": 197
        }
      ]
    },
    {
      "cell_type": "code",
      "metadata": {
        "id": "sSjGMATqXCD8"
      },
      "source": [
        "def get_hypernyms_for_text(text):\n",
        "  hypersets = {}\n",
        "  tokens = tokenize(text)\n",
        "  for token in tokens:\n",
        "    synsetss = wn.synsets(token)\n",
        "    for s in synsetss:\n",
        "      for h in s.hypernyms():\n",
        "        if h in hypersets:\n",
        "          hypersets[h] += 1\n",
        "        else:\n",
        "          hypersets[h] = 1\n",
        "  return hypersets\n",
        "\n",
        "def get_synonyms_for_text(text):\n",
        "  synsets = {}\n",
        "  tokens = tokenize(text)\n",
        "  for token in tokens:\n",
        "    synsetss = wn.synsets(token)\n",
        "    for s in synsetss:\n",
        "      if s in synsets:\n",
        "        synsets[s] += 1\n",
        "      else:\n",
        "        synsets[s] = 1\n",
        "\n",
        "  return synsets\n",
        "\n",
        "def get_all_synsets(synset_dict_lst, count_limit=None):\n",
        "  all_synsets = {}\n",
        "  for synset_dict in synset_dict_lst:\n",
        "    for _, key in enumerate(synset_dict):\n",
        "      if key in all_synsets:\n",
        "        all_synsets[key] += synset_dict[key]\n",
        "      else:\n",
        "        all_synsets[key] = synset_dict[key]\n",
        "\n",
        "  if count_limit is not None and count_limit > 0:\n",
        "    key_to_remove = []\n",
        "    for _, key in enumerate(all_synsets):\n",
        "      if all_synsets[key] < count_limit:\n",
        "        key_to_remove.append(key)\n",
        "\n",
        "    for key in key_to_remove:\n",
        "      all_synsets.pop(key, None)\n",
        "  return all_synsets"
      ],
      "execution_count": null,
      "outputs": []
    },
    {
      "cell_type": "code",
      "metadata": {
        "id": "yV_n5t6nXINV"
      },
      "source": [
        "category_hypernym_dict_lst = []\n",
        "category_synonym_dict_lst = []\n",
        "\n",
        "for cat in CATEGORY_SUBSET:\n",
        "  cat_data = dataset[dataset['category']==cat]\n",
        "  cat_data['hypernyms'] = cat_data['headline'].apply(lambda x: get_hypernyms_for_text(x))\n",
        "  cat_data['synonyms'] = cat_data['headline'].apply(lambda x: get_synonyms_for_text(x))\n",
        "  all_hypernym_synsets = get_all_synsets(cat_data['hypernyms'].values, count_limit=len(cat_data)*0.005)\n",
        "  all_synonym_synsets = get_all_synsets(cat_data['synonyms'].values, count_limit=len(cat_data)*0.005)\n",
        "  category_hypernym_dict_lst.append(all_hypernym_synsets)\n",
        "  category_synonym_dict_lst.append(all_synonym_synsets)"
      ],
      "execution_count": null,
      "outputs": []
    },
    {
      "cell_type": "code",
      "metadata": {
        "id": "4wd8tFyTXYvY"
      },
      "source": [
        "for i in range(10):\n",
        "  print(len(category_synonym_dict_lst[i]), CATEGORY_SUBSET[i])"
      ],
      "execution_count": null,
      "outputs": []
    },
    {
      "cell_type": "code",
      "metadata": {
        "id": "kfNrlUp7XRAP"
      },
      "source": [
        "for i in range(10):\n",
        "  print(len(category_hypernym_dict_lst[i]), CATEGORY_SUBSET[i])"
      ],
      "execution_count": null,
      "outputs": []
    },
    {
      "cell_type": "code",
      "metadata": {
        "id": "mQdOmugEXT-E"
      },
      "source": [
        "all_hypernym_synsets = get_all_synsets(category_hypernym_dict_lst)\n",
        "all_synonym_synsets = get_all_synsets(category_synonym_dict_lst)\n",
        "\n",
        "print(len(all_synonym_synsets))\n",
        "print(len(all_hypernym_synsets))"
      ],
      "execution_count": null,
      "outputs": []
    },
    {
      "cell_type": "code",
      "metadata": {
        "id": "B90i2ZgNMnSk"
      },
      "source": [
        "train_data = train_test_split()\n",
        "train_data = train_data[train_data['phase'] == 'train']"
      ],
      "execution_count": null,
      "outputs": []
    },
    {
      "cell_type": "code",
      "metadata": {
        "id": "__sC_bsQXkOG"
      },
      "source": [
        "PMI_unigram = get_PMIScore(train_data, tokenizer=tokenize)\n",
        "PMI_bigram = get_PMIScore(train_data, tokenizer=bigram_tokenizer.tokenize_with_bigrams)\n",
        "PMI_synonym = get_PMIScore(train_data, tokenizer=tokenize_synonyms)\n",
        "PMI_hypernym = get_PMIScore(train_data, tokenizer=tokenize_hypernyms)"
      ],
      "execution_count": null,
      "outputs": []
    },
    {
      "cell_type": "code",
      "metadata": {
        "id": "U53zzJeyXnHC",
        "colab": {
          "base_uri": "https://localhost:8080/",
          "height": 648
        },
        "outputId": "160911c8-d044-4dbe-b348-c484d335ac47"
      },
      "source": [
        "plt.rcParams[\"figure.figsize\"] = (10,10)\n",
        "labelsize = 10\n",
        "plt.rcParams['xtick.labelsize'] = labelsize\n",
        "plt.rcParams['ytick.labelsize'] = labelsize \n",
        "plt.boxplot([PMI_unigram['PMIScore'], PMI_bigram['PMIScore'], PMI_synonym['PMIScore'], PMI_hypernym['PMIScore']])\n",
        "plt.xticks([1, 2, 3, 4], [f'unigram: {len(PMI_unigram)} tokens', f'bigram: {len(PMI_bigram)} tokens', f'synonym: {len(PMI_synonym)} tokens', f'hypernym: {len(PMI_hypernym)} tokens'])\n",
        "plt.show()"
      ],
      "execution_count": null,
      "outputs": [
        {
          "output_type": "stream",
          "text": [
            "/usr/local/lib/python3.7/dist-packages/numpy/core/_asarray.py:83: VisibleDeprecationWarning: Creating an ndarray from ragged nested sequences (which is a list-or-tuple of lists-or-tuples-or ndarrays with different lengths or shapes) is deprecated. If you meant to do this, you must specify 'dtype=object' when creating the ndarray\n",
            "  return array(a, dtype, copy=False, order=order)\n"
          ],
          "name": "stderr"
        },
        {
          "output_type": "display_data",
          "data": {
            "image/png": "[encoded data removed]",
            "text/plain": [
              "<Figure size 720x720 with 1 Axes>"
            ]
          },
          "metadata": {
            "tags": [],
            "needs_background": "light"
          }
        }
      ]
    },
    {
      "cell_type": "code",
      "metadata": {
        "id": "4h96CkbzOntM"
      },
      "source": [
        ""
      ],
      "execution_count": null,
      "outputs": []
    }
  ]
}