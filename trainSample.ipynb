{
 "metadata": {
  "language_info": {
   "codemirror_mode": {
    "name": "ipython",
    "version": 3
   },
   "file_extension": ".py",
   "mimetype": "text/x-python",
   "name": "python",
   "nbconvert_exporter": "python",
   "pygments_lexer": "ipython3",
   "version": "3.7.8"
  },
  "orig_nbformat": 2,
  "kernelspec": {
   "name": "python378jvsc74a57bd00f891fb4abc7e5b7925564c7fc55f147423425570aa5a97acbb1dd5ff2003f14",
   "display_name": "Python 3.7.8 64-bit"
  }
 },
 "nbformat": 4,
 "nbformat_minor": 2,
 "cells": [
  {
   "source": [
    "## LSTM with attention"
   ],
   "cell_type": "markdown",
   "metadata": {}
  },
  {
   "cell_type": "code",
   "execution_count": null,
   "metadata": {},
   "outputs": [],
   "source": [
    "from proj.data.data import *\n",
    "from proj.main import *\n",
    "from proj.constants import *\n",
    "from proj.models import all_tokenizers\n",
    "import os\n",
    "import pandas as pd\n",
    "\n",
    "subset_df = pd.read_csv(os.path.join(DATA_DIR, \"train_test_split_dataset.csv\"))\n",
    "\n",
    "dfs = split_col(subset_df)\n",
    "dls = []\n",
    "bs = 256\n",
    "model = \"lstmAttention\"\n",
    "tokenizer = None\n",
    "\n",
    "if model in all_tokenizers:\n",
    "    tokenizer = all_tokenizers[model]()\n",
    "\n",
    "for i, d in enumerate(dfs):\n",
    "    ds = NewsDataset(d, tokenizer=tokenizer)\n",
    "    sampler = get_weighted_sampler(ds.labels()) if i == 0 else None\n",
    "    dl = to_dataloader(ds, bs, sampler=sampler, drop_last=True)\n",
    "    dls.append(dl)\n",
    "\n",
    "hp = {**DEFAULT_HP, \"model\": model, \"lr\":2e-4, \"epochs\":10}\n",
    "trainer = Trainer(\"sample\", \"lstm_attn\", dls, hp, bs)"
   ]
  },
  {
   "cell_type": "code",
   "execution_count": null,
   "metadata": {},
   "outputs": [],
   "source": [
    "trainer.one_cycle()"
   ]
  },
  {
   "source": [
    "### Balanced LSTM Training"
   ],
   "cell_type": "markdown",
   "metadata": {}
  },
  {
   "cell_type": "code",
   "execution_count": 1,
   "metadata": {},
   "outputs": [
    {
     "output_type": "stream",
     "name": "stderr",
     "text": [
      "C:\\Users\\ngbra\\AppData\\Local\\Programs\\Python\\Python37\\lib\\site-packages\\torch\\nn\\modules\\rnn.py:63: UserWarning: dropout option adds dropout after all but last recurrent layer, so non-zero dropout expects num_layers greater than 1, but got dropout=0.2 and num_layers=1\n  \"num_layers={}\".format(dropout, num_layers))\n"
     ]
    }
   ],
   "source": [
    "from proj.data.data import *\n",
    "from proj.main import *\n",
    "from proj.constants import *\n",
    "from proj.models import all_tokenizers\n",
    "import os\n",
    "import pandas as pd\n",
    "\n",
    "subset_df = pd.read_csv(os.path.join(DATA_DIR, \"train_test_split_dataset.csv\"))\n",
    "\n",
    "dfs = split_col(subset_df)\n",
    "dls = []\n",
    "bs = 256\n",
    "model = \"lstm\"\n",
    "tokenizer = None\n",
    "\n",
    "if model in all_tokenizers:\n",
    "    tokenizer = all_tokenizers[model]()\n",
    "\n",
    "for i, d in enumerate(dfs):\n",
    "    ds = NewsDataset(d, tokenizer=tokenizer)\n",
    "    sampler = get_weighted_sampler(ds.labels()) if i == 0 else None\n",
    "    dl = to_dataloader(ds, bs, sampler=sampler, drop_last=True)\n",
    "    dls.append(dl)\n",
    "\n",
    "hp = {**DEFAULT_HP, \"model\": model, \"lr\":2e-4}\n",
    "trainer = Trainer(\"sample\", \"lstm_balanced\", dls, hp, bs)"
   ]
  },
  {
   "cell_type": "code",
   "execution_count": 2,
   "metadata": {},
   "outputs": [
    {
     "output_type": "stream",
     "name": "stderr",
     "text": [
      "  0%|          | 0/143 [00:00<?, ?it/s]epoch number: 0\n",
      "100%|██████████| 143/143 [00:23<00:00,  6.18it/s]\n",
      "C:\\Users\\ngbra\\AppData\\Local\\Programs\\Python\\Python37\\lib\\site-packages\\sklearn\\metrics\\classification.py:1437: UndefinedMetricWarning: F-score is ill-defined and being set to 0.0 in labels with no predicted samples.\n",
      "  'precision', 'predicted', average, warn_for)\n",
      "  0%|          | 0/20 [00:00<?, ?it/s]\n",
      "epoch train info: loss:2.2423973083496094, acc:0.2589324737762238, f1Score:0.2165338470572784\n",
      "100%|██████████| 20/20 [00:14<00:00,  1.41it/s]\n",
      "\n",
      "epoch val info: loss:2.1422784328460693, acc:0.3578125, f1Score:0.2834490829340389\n",
      "100%|██████████| 41/41 [00:16<00:00,  2.54it/s]\n",
      "epoch test info: loss:2.139155149459839, acc:0.3514672256097561, f1Score:0.2803514585058598\n",
      "\n"
     ]
    }
   ],
   "source": [
    "trainer.one_cycle()"
   ]
  },
  {
   "source": [
    "## Bert Training"
   ],
   "cell_type": "markdown",
   "metadata": {}
  },
  {
   "cell_type": "code",
   "execution_count": 3,
   "metadata": {},
   "outputs": [
    {
     "output_type": "stream",
     "name": "stderr",
     "text": [
      "Some weights of the model checkpoint at distilbert-base-uncased were not used when initializing DistilBertForSequenceClassification: ['vocab_transform.weight', 'vocab_transform.bias', 'vocab_layer_norm.weight', 'vocab_layer_norm.bias', 'vocab_projector.weight', 'vocab_projector.bias']\n",
      "- This IS expected if you are initializing DistilBertForSequenceClassification from the checkpoint of a model trained on another task or with another architecture (e.g. initializing a BertForSequenceClassification model from a BertForPretraining model).\n",
      "- This IS NOT expected if you are initializing DistilBertForSequenceClassification from the checkpoint of a model that you expect to be exactly identical (initializing a BertForSequenceClassification model from a BertForSequenceClassification model).\n",
      "Some weights of DistilBertForSequenceClassification were not initialized from the model checkpoint at distilbert-base-uncased and are newly initialized: ['pre_classifier.weight', 'pre_classifier.bias', 'classifier.weight', 'classifier.bias']\n",
      "You should probably TRAIN this model on a down-stream task to be able to use it for predictions and inference.\n"
     ]
    }
   ],
   "source": [
    "from proj.data.data import *\n",
    "from proj.main import *\n",
    "from proj.constants import *\n",
    "from proj.models import all_tokenizers\n",
    "import os\n",
    "import pandas as pd\n",
    "\n",
    "subset_df = pd.read_csv(os.path.join(DATA_DIR, \"train_test_split_dataset.csv\"))\n",
    "\n",
    "dfs = split_col(subset_df)\n",
    "dls = []\n",
    "bs = 256\n",
    "model = \"distilBert\"\n",
    "tokenizer = None\n",
    "\n",
    "if model in all_tokenizers:\n",
    "    tokenizer = all_tokenizers[model]()\n",
    "\n",
    "for i, d in enumerate(dfs):\n",
    "    ds = NewsDataset(d, tokenizer=tokenizer)\n",
    "    sampler = get_weighted_sampler(ds.labels()) if i == 0 else None\n",
    "    dl = to_dataloader(ds, bs, sampler=sampler, drop_last=False)\n",
    "    dls.append(dl)\n",
    "\n",
    "hp = {**DEFAULT_HP, \"model\": model, \"lr\":2e-4}\n",
    "trainer = Trainer(\"sample\", \"distilBert_og\", dls, hp, bs)"
   ]
  },
  {
   "cell_type": "code",
   "execution_count": null,
   "metadata": {},
   "outputs": [],
   "source": [
    "trainer.one_cycle()"
   ]
  }
 ]
}