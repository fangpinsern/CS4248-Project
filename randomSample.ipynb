{
 "metadata": {
  "language_info": {
   "codemirror_mode": {
    "name": "ipython",
    "version": 3
   },
   "file_extension": ".py",
   "mimetype": "text/x-python",
   "name": "python",
   "nbconvert_exporter": "python",
   "pygments_lexer": "ipython3",
   "version": "3.7.8-final"
  },
  "orig_nbformat": 2,
  "kernelspec": {
   "name": "python378jvsc74a57bd00f891fb4abc7e5b7925564c7fc55f147423425570aa5a97acbb1dd5ff2003f14",
   "display_name": "Python 3.7.8 64-bit"
  }
 },
 "nbformat": 4,
 "nbformat_minor": 2,
 "cells": [
  {
   "source": [
    "### Random sampling"
   ],
   "cell_type": "markdown",
   "metadata": {}
  },
  {
   "cell_type": "code",
   "execution_count": 12,
   "metadata": {},
   "outputs": [],
   "source": [
    "from proj.data.data import *\n",
    "from proj.main import *\n",
    "from proj.constants import *\n",
    "from proj.models import all_tokenizers\n",
    "import os\n",
    "import pandas as pd\n",
    "import random\n",
    "import numpy as np\n",
    "import torch\n",
    "\n",
    "# To standardize the samples polled across experiments\n",
    "np.random.seed(SEED)\n",
    "torch.manual_seed(SEED)\n",
    "random.seed(SEED)\n",
    "\n",
    "subset_df = pd.read_csv(os.path.join(DATA_DIR, \"train_test_split_dataset.csv\"))\n",
    "\n",
    "def split_col(df):\n",
    "    train = df[df['phase'] == 'train']\n",
    "    val = df[df['phase'] == 'dev']\n",
    "    test = df[df['phase'] == 'test']\n",
    "    return train, val, test\n",
    "\n",
    "dfs = split_col(subset_df)\n",
    "dls = []\n",
    "bs = 256\n",
    "\n",
    "# Only randomly samples for training phase when i == 0\n",
    "for i, d in enumerate(dfs):\n",
    "    ds = NewsDataset(d)\n",
    "    sampler = get_weighted_sampler(ds.labels()) if i == 0 else None\n",
    "    dl = to_dataloader(ds, bs, sampler=sampler, drop_last=False)\n",
    "    dls.append(dl)"
   ]
  },
  {
   "cell_type": "code",
   "execution_count": 8,
   "metadata": {},
   "outputs": [],
   "source": [
    "import torch\n",
    "temp, labels = [], []\n",
    "# you can go through the dls as many times as you need\n",
    "# we have [train, dev, test] for the dls\n",
    "for xb, yb in dls[0]:\n",
    "    temp.append(xb)\n",
    "    labels.append(yb)\n",
    "temp = torch.cat(temp)\n",
    "labels = torch.cat(labels)"
   ]
  },
  {
   "cell_type": "code",
   "execution_count": 10,
   "metadata": {},
   "outputs": [],
   "source": [
    "xDataNumpy = temp.numpy()"
   ]
  },
  {
   "cell_type": "code",
   "execution_count": 11,
   "metadata": {},
   "outputs": [
    {
     "output_type": "execute_result",
     "data": {
      "text/plain": [
       "(5254, 16)"
      ]
     },
     "metadata": {},
     "execution_count": 11
    }
   ],
   "source": [
    "xDataNumpy.shape"
   ]
  }
 ]
}