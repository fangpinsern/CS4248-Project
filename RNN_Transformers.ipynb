{
 "metadata": {
  "language_info": {
   "codemirror_mode": {
    "name": "ipython",
    "version": 3
   },
   "file_extension": ".py",
   "mimetype": "text/x-python",
   "name": "python",
   "nbconvert_exporter": "python",
   "pygments_lexer": "ipython3",
   "version": "3.7.8"
  },
  "orig_nbformat": 2,
  "kernelspec": {
   "name": "python378jvsc74a57bd00f891fb4abc7e5b7925564c7fc55f147423425570aa5a97acbb1dd5ff2003f14",
   "display_name": "Python 3.7.8 64-bit"
  }
 },
 "nbformat": 4,
 "nbformat_minor": 2,
 "cells": [
  {
   "source": [
    "## Small tfmer"
   ],
   "cell_type": "markdown",
   "metadata": {}
  },
  {
   "cell_type": "code",
   "execution_count": 1,
   "metadata": {},
   "outputs": [
    {
     "output_type": "stream",
     "name": "stderr",
     "text": [
      "Some weights of the model checkpoint at distilbert-base-uncased were not used when initializing DistilBertForSequenceClassification: ['vocab_transform.weight', 'vocab_transform.bias', 'vocab_layer_norm.weight', 'vocab_layer_norm.bias', 'vocab_projector.weight', 'vocab_projector.bias', 'distilbert.transformer.layer.2.attention.q_lin.weight', 'distilbert.transformer.layer.2.attention.q_lin.bias', 'distilbert.transformer.layer.2.attention.k_lin.weight', 'distilbert.transformer.layer.2.attention.k_lin.bias', 'distilbert.transformer.layer.2.attention.v_lin.weight', 'distilbert.transformer.layer.2.attention.v_lin.bias', 'distilbert.transformer.layer.2.attention.out_lin.weight', 'distilbert.transformer.layer.2.attention.out_lin.bias', 'distilbert.transformer.layer.2.sa_layer_norm.weight', 'distilbert.transformer.layer.2.sa_layer_norm.bias', 'distilbert.transformer.layer.2.ffn.lin1.weight', 'distilbert.transformer.layer.2.ffn.lin1.bias', 'distilbert.transformer.layer.2.ffn.lin2.weight', 'distilbert.transformer.layer.2.ffn.lin2.bias', 'distilbert.transformer.layer.2.output_layer_norm.weight', 'distilbert.transformer.layer.2.output_layer_norm.bias', 'distilbert.transformer.layer.3.attention.q_lin.weight', 'distilbert.transformer.layer.3.attention.q_lin.bias', 'distilbert.transformer.layer.3.attention.k_lin.weight', 'distilbert.transformer.layer.3.attention.k_lin.bias', 'distilbert.transformer.layer.3.attention.v_lin.weight', 'distilbert.transformer.layer.3.attention.v_lin.bias', 'distilbert.transformer.layer.3.attention.out_lin.weight', 'distilbert.transformer.layer.3.attention.out_lin.bias', 'distilbert.transformer.layer.3.sa_layer_norm.weight', 'distilbert.transformer.layer.3.sa_layer_norm.bias', 'distilbert.transformer.layer.3.ffn.lin1.weight', 'distilbert.transformer.layer.3.ffn.lin1.bias', 'distilbert.transformer.layer.3.ffn.lin2.weight', 'distilbert.transformer.layer.3.ffn.lin2.bias', 'distilbert.transformer.layer.3.output_layer_norm.weight', 'distilbert.transformer.layer.3.output_layer_norm.bias', 'distilbert.transformer.layer.4.attention.q_lin.weight', 'distilbert.transformer.layer.4.attention.q_lin.bias', 'distilbert.transformer.layer.4.attention.k_lin.weight', 'distilbert.transformer.layer.4.attention.k_lin.bias', 'distilbert.transformer.layer.4.attention.v_lin.weight', 'distilbert.transformer.layer.4.attention.v_lin.bias', 'distilbert.transformer.layer.4.attention.out_lin.weight', 'distilbert.transformer.layer.4.attention.out_lin.bias', 'distilbert.transformer.layer.4.sa_layer_norm.weight', 'distilbert.transformer.layer.4.sa_layer_norm.bias', 'distilbert.transformer.layer.4.ffn.lin1.weight', 'distilbert.transformer.layer.4.ffn.lin1.bias', 'distilbert.transformer.layer.4.ffn.lin2.weight', 'distilbert.transformer.layer.4.ffn.lin2.bias', 'distilbert.transformer.layer.4.output_layer_norm.weight', 'distilbert.transformer.layer.4.output_layer_norm.bias', 'distilbert.transformer.layer.5.attention.q_lin.weight', 'distilbert.transformer.layer.5.attention.q_lin.bias', 'distilbert.transformer.layer.5.attention.k_lin.weight', 'distilbert.transformer.layer.5.attention.k_lin.bias', 'distilbert.transformer.layer.5.attention.v_lin.weight', 'distilbert.transformer.layer.5.attention.v_lin.bias', 'distilbert.transformer.layer.5.attention.out_lin.weight', 'distilbert.transformer.layer.5.attention.out_lin.bias', 'distilbert.transformer.layer.5.sa_layer_norm.weight', 'distilbert.transformer.layer.5.sa_layer_norm.bias', 'distilbert.transformer.layer.5.ffn.lin1.weight', 'distilbert.transformer.layer.5.ffn.lin1.bias', 'distilbert.transformer.layer.5.ffn.lin2.weight', 'distilbert.transformer.layer.5.ffn.lin2.bias', 'distilbert.transformer.layer.5.output_layer_norm.weight', 'distilbert.transformer.layer.5.output_layer_norm.bias']\n",
      "- This IS expected if you are initializing DistilBertForSequenceClassification from the checkpoint of a model trained on another task or with another architecture (e.g. initializing a BertForSequenceClassification model from a BertForPretraining model).\n",
      "- This IS NOT expected if you are initializing DistilBertForSequenceClassification from the checkpoint of a model that you expect to be exactly identical (initializing a BertForSequenceClassification model from a BertForSequenceClassification model).\n",
      "Some weights of DistilBertForSequenceClassification were not initialized from the model checkpoint at distilbert-base-uncased and are newly initialized: ['pre_classifier.weight', 'pre_classifier.bias', 'classifier.weight', 'classifier.bias']\n",
      "You should probably TRAIN this model on a down-stream task to be able to use it for predictions and inference.\n"
     ]
    }
   ],
   "source": [
    "from proj.data.data import *\n",
    "from proj.main import *\n",
    "from proj.models import all_tokenizers\n",
    "import os\n",
    "import pandas as pd\n",
    "\n",
    "subset_df = pd.read_csv(os.path.join(\n",
    "    DATA_DIR, \"train_test_split_dataset.csv\"))\n",
    "dfs = split_col(subset_df)\n",
    "dls = []\n",
    "bs = 256\n",
    "model = \"distilBertSmall\"\n",
    "tokenizer = None\n",
    "sampler = None\n",
    "\n",
    "if model in all_tokenizers:\n",
    "    tokenizer = all_tokenizers[model]()\n",
    "\n",
    "for i, d in enumerate(dfs):\n",
    "    ds = NewsDataset(d, tokenizer=tokenizer)\n",
    "    sampler = get_weighted_sampler(ds.labels()) if i == 0 else None\n",
    "    dl = to_dataloader(ds, bs, sampler=sampler, drop_last=False)\n",
    "    dls.append(dl)\n",
    "model_name = \"distilBertSmall\"\n",
    "hp = {**DEFAULT_HP, \"model\": model, \"lr\":2e-4}\n",
    "trainer = Trainer(\"sample\", model_name, dls, hp, bs)"
   ]
  },
  {
   "cell_type": "code",
   "execution_count": 2,
   "metadata": {},
   "outputs": [
    {
     "output_type": "stream",
     "name": "stderr",
     "text": [
      "  0%|          | 0/144 [00:00<?, ?it/s]epoch number: 0\n",
      "100%|██████████| 144/144 [01:02<00:00,  2.30it/s]\n",
      "  0%|          | 0/21 [00:00<?, ?it/s]\n",
      "epoch train info: loss:0.7920868396759033, acc:0.7520887586805556, f1Score:0.7540512654236601\n",
      "100%|██████████| 21/21 [00:28<00:00,  1.38s/it]\n",
      "\n",
      "epoch val info: loss:0.7086666822433472, acc:0.7581845238095238, f1Score:0.7435032223008167\n",
      "100%|██████████| 42/42 [00:31<00:00,  1.35it/s]\n",
      "epoch test info: loss:0.7283691167831421, acc:0.7575334821428571, f1Score:0.7447117224687013\n",
      "\n"
     ]
    }
   ],
   "source": [
    "trainer.one_cycle()"
   ]
  },
  {
   "source": [
    "## Embed training"
   ],
   "cell_type": "markdown",
   "metadata": {}
  },
  {
   "cell_type": "code",
   "execution_count": 3,
   "metadata": {},
   "outputs": [
    {
     "output_type": "stream",
     "name": "stderr",
     "text": [
      "Some weights of the model checkpoint at distilbert-base-uncased were not used when initializing DistilBertForSequenceClassification: ['vocab_transform.weight', 'vocab_transform.bias', 'vocab_layer_norm.weight', 'vocab_layer_norm.bias', 'vocab_projector.weight', 'vocab_projector.bias']\n",
      "- This IS expected if you are initializing DistilBertForSequenceClassification from the checkpoint of a model trained on another task or with another architecture (e.g. initializing a BertForSequenceClassification model from a BertForPretraining model).\n",
      "- This IS NOT expected if you are initializing DistilBertForSequenceClassification from the checkpoint of a model that you expect to be exactly identical (initializing a BertForSequenceClassification model from a BertForSequenceClassification model).\n",
      "Some weights of DistilBertForSequenceClassification were not initialized from the model checkpoint at distilbert-base-uncased and are newly initialized: ['pre_classifier.weight', 'pre_classifier.bias', 'classifier.weight', 'classifier.bias']\n",
      "You should probably TRAIN this model on a down-stream task to be able to use it for predictions and inference.\n"
     ]
    }
   ],
   "source": [
    "from proj.data.data import *\n",
    "from proj.main import *\n",
    "from proj.models import all_tokenizers\n",
    "import os\n",
    "import pandas as pd\n",
    "\n",
    "subset_df = pd.read_csv(os.path.join(\n",
    "    DATA_DIR, \"train_test_split_dataset.csv\"))\n",
    "dfs = split(subset_df)\n",
    "dls = []\n",
    "bs = 256\n",
    "model = \"distilBertEmbed\"\n",
    "tokenizer = None\n",
    "sampler = None\n",
    "\n",
    "if model in all_tokenizers:\n",
    "    tokenizer = all_tokenizers[model]()\n",
    "\n",
    "for i, d in enumerate(dfs):\n",
    "    # ds = NewsDataset(d, tokenizer=tokenizer, useBigram=True)\n",
    "    ds = NewsDataset(d, tokenizer=tokenizer, embed=True)\n",
    "    sampler = get_weighted_sampler(ds.labels()) if i == 0 else None\n",
    "    dl = to_dataloader(ds, bs, sampler=sampler, drop_last=False)\n",
    "    dls.append(dl)\n",
    "model_name = \"distilBertEmbed\"\n",
    "hp = {**DEFAULT_HP, \"model\": model, \"lr\":2e-4}\n",
    "trainer = Trainer(\"sample\", model_name, dls, hp, bs)"
   ]
  },
  {
   "cell_type": "code",
   "execution_count": 4,
   "metadata": {},
   "outputs": [
    {
     "output_type": "stream",
     "name": "stderr",
     "text": [
      "  0%|          | 0/144 [00:00<?, ?it/s]epoch number: 0\n",
      "100%|██████████| 144/144 [02:08<00:00,  1.12it/s]\n",
      "  0%|          | 0/42 [00:00<?, ?it/s]\n",
      "epoch train info: loss:0.7116206884384155, acc:0.7864854600694444, f1Score:0.7886716787179994\n",
      "100%|██████████| 42/42 [00:39<00:00,  1.06it/s]\n",
      "\n",
      "epoch val info: loss:0.7599450945854187, acc:0.7571614583333334, f1Score:0.741459375744873\n",
      "100%|██████████| 21/21 [00:33<00:00,  1.57s/it]\n",
      "epoch test info: loss:0.762154757976532, acc:0.7488839285714286, f1Score:0.7385742547457019\n",
      "\n"
     ]
    }
   ],
   "source": [
    "trainer.one_cycle()"
   ]
  },
  {
   "source": [
    "## POS Tagging"
   ],
   "cell_type": "markdown",
   "metadata": {}
  },
  {
   "cell_type": "code",
   "execution_count": 5,
   "metadata": {},
   "outputs": [
    {
     "output_type": "stream",
     "name": "stderr",
     "text": [
      "Some weights of the model checkpoint at distilbert-base-uncased were not used when initializing DistilBertForSequenceClassification: ['vocab_transform.weight', 'vocab_transform.bias', 'vocab_layer_norm.weight', 'vocab_layer_norm.bias', 'vocab_projector.weight', 'vocab_projector.bias']\n",
      "- This IS expected if you are initializing DistilBertForSequenceClassification from the checkpoint of a model trained on another task or with another architecture (e.g. initializing a BertForSequenceClassification model from a BertForPretraining model).\n",
      "- This IS NOT expected if you are initializing DistilBertForSequenceClassification from the checkpoint of a model that you expect to be exactly identical (initializing a BertForSequenceClassification model from a BertForSequenceClassification model).\n",
      "Some weights of DistilBertForSequenceClassification were not initialized from the model checkpoint at distilbert-base-uncased and are newly initialized: ['pre_classifier.weight', 'pre_classifier.bias', 'classifier.weight', 'classifier.bias']\n",
      "You should probably TRAIN this model on a down-stream task to be able to use it for predictions and inference.\n"
     ]
    }
   ],
   "source": [
    "from proj.data.data import *\n",
    "from proj.main import *\n",
    "from proj.models import all_tokenizers\n",
    "import os\n",
    "import pandas as pd\n",
    "\n",
    "subset_df = pd.read_csv(os.path.join(\n",
    "    DATA_DIR, \"train_test_split_dataset.csv\"))\n",
    "dfs = split_col(subset_df)\n",
    "dls = []\n",
    "bs = 256\n",
    "model = \"distilBertPOS\"\n",
    "tokenizer = None\n",
    "sampler = None\n",
    "\n",
    "if model in all_tokenizers:\n",
    "    tokenizer = all_tokenizers[model]()\n",
    "\n",
    "for i, d in enumerate(dfs):\n",
    "    # ds = NewsDataset(d, tokenizer=tokenizer, useBigram=True)\n",
    "    ds = NewsDataset(d, tokenizer=tokenizer)\n",
    "    sampler = get_weighted_sampler(ds.labels()) if i == 0 else None\n",
    "    dl = to_dataloader(ds, bs, sampler=sampler, drop_last=False)\n",
    "    dls.append(dl)\n",
    "model_name = \"distilBertPOS\"\n",
    "hp = {**DEFAULT_HP, \"model\": model, \"lr\":2e-4}\n",
    "trainer = Trainer(\"sample\", model_name, dls, hp, bs)"
   ]
  },
  {
   "cell_type": "code",
   "execution_count": 6,
   "metadata": {},
   "outputs": [
    {
     "output_type": "stream",
     "name": "stderr",
     "text": [
      "  0%|          | 0/144 [00:00<?, ?it/s]epoch number: 0\n",
      "100%|██████████| 144/144 [02:09<00:00,  1.11it/s]\n",
      "  0%|          | 0/21 [00:00<?, ?it/s]\n",
      "epoch train info: loss:0.5826069712638855, acc:0.8328450520833334, f1Score:0.8346159827698816\n",
      "100%|██████████| 21/21 [00:32<00:00,  1.57s/it]\n",
      "\n",
      "epoch val info: loss:0.5334272384643555, acc:0.8186383928571429, f1Score:0.7988540561426876\n",
      "100%|██████████| 42/42 [00:38<00:00,  1.10it/s]\n",
      "epoch test info: loss:0.5638772249221802, acc:0.8135230654761905, f1Score:0.793736358623337\n",
      "\n"
     ]
    }
   ],
   "source": [
    "trainer.one_cycle()"
   ]
  },
  {
   "source": [
    "## Training augmentation"
   ],
   "cell_type": "markdown",
   "metadata": {}
  },
  {
   "cell_type": "code",
   "execution_count": 7,
   "metadata": {},
   "outputs": [
    {
     "output_type": "stream",
     "name": "stderr",
     "text": [
      "Some weights of the model checkpoint at distilbert-base-uncased were not used when initializing DistilBertForSequenceClassification: ['vocab_transform.weight', 'vocab_transform.bias', 'vocab_layer_norm.weight', 'vocab_layer_norm.bias', 'vocab_projector.weight', 'vocab_projector.bias']\n",
      "- This IS expected if you are initializing DistilBertForSequenceClassification from the checkpoint of a model trained on another task or with another architecture (e.g. initializing a BertForSequenceClassification model from a BertForPretraining model).\n",
      "- This IS NOT expected if you are initializing DistilBertForSequenceClassification from the checkpoint of a model that you expect to be exactly identical (initializing a BertForSequenceClassification model from a BertForSequenceClassification model).\n",
      "Some weights of DistilBertForSequenceClassification were not initialized from the model checkpoint at distilbert-base-uncased and are newly initialized: ['pre_classifier.weight', 'pre_classifier.bias', 'classifier.weight', 'classifier.bias']\n",
      "You should probably TRAIN this model on a down-stream task to be able to use it for predictions and inference.\n"
     ]
    }
   ],
   "source": [
    "from proj.data.data import *\n",
    "from proj.main import *\n",
    "from proj.models import all_tokenizers\n",
    "import os\n",
    "import pandas as pd\n",
    "\n",
    "subset_df = pd.read_csv(os.path.join(\n",
    "    DATA_DIR, \"train_test_split_dataset.csv\"))\n",
    "dfs = split_col(subset_df)\n",
    "dls = []\n",
    "bs = 256\n",
    "model = \"distilBert\"\n",
    "tokenizer = None\n",
    "sampler = None\n",
    "\n",
    "if model in all_tokenizers:\n",
    "    tokenizer = all_tokenizers[model]()\n",
    "\n",
    "for i, d in enumerate(dfs):\n",
    "    ds = NewsDataset(d, tokenizer=tokenizer, augment= (i==0))\n",
    "    sampler = get_weighted_sampler(ds.labels()) if i == 0 else None\n",
    "    dl = to_dataloader(ds, bs, sampler=sampler, drop_last=False)\n",
    "    dls.append(dl)\n",
    "model_name = \"distilBert_synAugment_0.3prob_2\"\n",
    "hp = {**DEFAULT_HP, \"model\": model, \"lr\":2e-4}\n",
    "trainer = Trainer(\"sample\", model_name, dls, hp, bs)"
   ]
  },
  {
   "cell_type": "code",
   "execution_count": 8,
   "metadata": {},
   "outputs": [
    {
     "output_type": "stream",
     "name": "stderr",
     "text": [
      "  0%|          | 0/144 [00:00<?, ?it/s]epoch number: 0\n",
      "100%|██████████| 144/144 [02:10<00:00,  1.10it/s]\n",
      "  0%|          | 0/21 [00:00<?, ?it/s]\n",
      "epoch train info: loss:0.5890942811965942, acc:0.831787109375, f1Score:0.8333016245855435\n",
      "100%|██████████| 21/21 [00:33<00:00,  1.58s/it]\n",
      "\n",
      "epoch val info: loss:0.5576439499855042, acc:0.8134300595238095, f1Score:0.8098246217196339\n",
      "100%|██████████| 42/42 [00:39<00:00,  1.06it/s]\n",
      "epoch test info: loss:0.5971502661705017, acc:0.8026413690476191, f1Score:0.7906081968750714\n",
      "\n"
     ]
    }
   ],
   "source": [
    "trainer.one_cycle()"
   ]
  },
  {
   "source": [
    "## LSTM Attention"
   ],
   "cell_type": "markdown",
   "metadata": {}
  },
  {
   "cell_type": "code",
   "execution_count": 9,
   "metadata": {},
   "outputs": [
    {
     "output_type": "stream",
     "name": "stderr",
     "text": [
      "C:\\Users\\ngbra\\AppData\\Local\\Programs\\Python\\Python37\\lib\\site-packages\\torch\\nn\\modules\\rnn.py:63: UserWarning: dropout option adds dropout after all but last recurrent layer, so non-zero dropout expects num_layers greater than 1, but got dropout=0.2 and num_layers=1\n  \"num_layers={}\".format(dropout, num_layers))\n"
     ]
    }
   ],
   "source": [
    "from proj.data.data import *\n",
    "from proj.main import *\n",
    "from proj.models import all_tokenizers\n",
    "import os\n",
    "import pandas as pd\n",
    "from torch.nn.utils.rnn import pad_packed_sequence\n",
    "\n",
    "subset_df = pd.read_csv(os.path.join(\n",
    "    DATA_DIR, \"train_test_split_dataset.csv\"))\n",
    "dfs = split_col(subset_df)\n",
    "dls = []\n",
    "bs = 128\n",
    "model = \"lstmAttention\"\n",
    "tokenizer = None\n",
    "sampler = None\n",
    "\n",
    "if model in all_tokenizers:\n",
    "    tokenizer = all_tokenizers[model]()\n",
    "\n",
    "for i, d in enumerate(dfs):\n",
    "    ds = NewsDataset(d, tokenizer=tokenizer)\n",
    "    sampler = get_weighted_sampler(ds.labels()) if i == 0 else None\n",
    "    dl = to_dataloader(ds, bs, sampler=sampler, drop_last=True)\n",
    "    dls.append(dl)\n",
    "model_name = \"lstmAttention_embed_train\"\n",
    "hp = {**DEFAULT_HP, \"model\": model, \"lr\":2e-4}\n",
    "trainer = Trainer(\"sample\", model_name, dls, hp, bs)"
   ]
  },
  {
   "cell_type": "code",
   "execution_count": 10,
   "metadata": {},
   "outputs": [
    {
     "output_type": "stream",
     "name": "stderr",
     "text": [
      "  0%|          | 0/287 [00:00<?, ?it/s]epoch number: 0\n",
      "100%|██████████| 287/287 [00:21<00:00, 13.33it/s]\n",
      "C:\\Users\\ngbra\\AppData\\Local\\Programs\\Python\\Python37\\lib\\site-packages\\sklearn\\metrics\\classification.py:1437: UndefinedMetricWarning: F-score is ill-defined and being set to 0.0 in labels with no predicted samples.\n",
      "  'precision', 'predicted', average, warn_for)\n",
      "  0%|          | 0/41 [00:00<?, ?it/s]\n",
      "epoch train info: loss:2.2157368659973145, acc:0.264944468641115, f1Score:0.21777944265762045\n",
      "100%|██████████| 41/41 [00:13<00:00,  3.09it/s]\n",
      "\n",
      "epoch val info: loss:2.1126227378845215, acc:0.4350228658536585, f1Score:0.35339602897685074\n",
      "100%|██████████| 82/82 [00:14<00:00,  5.63it/s]\n",
      "epoch test info: loss:2.1089248657226562, acc:0.4337842987804878, f1Score:0.35029982762697653\n",
      "\n"
     ]
    }
   ],
   "source": [
    "trainer.one_cycle()"
   ]
  },
  {
   "cell_type": "code",
   "execution_count": 11,
   "metadata": {},
   "outputs": [],
   "source": [
    "from proj.data.data import *\n",
    "from proj.main import *\n",
    "from proj.models import all_tokenizers\n",
    "import os\n",
    "import pandas as pd\n",
    "\n",
    "subset_df = pd.read_csv(os.path.join(\n",
    "    DATA_DIR, \"train_test_split_dataset.csv\"))\n",
    "dfs = split_col(subset_df)\n",
    "dls = []\n",
    "bs = 128\n",
    "model = \"lstm\"\n",
    "tokenizer = None\n",
    "sampler = None\n",
    "\n",
    "if model in all_tokenizers:\n",
    "    tokenizer = all_tokenizers[model]()\n",
    "\n",
    "for i, d in enumerate(dfs):\n",
    "    ds = NewsDataset(d, tokenizer=tokenizer)\n",
    "    sampler = get_weighted_sampler(ds.labels()) if i == 0 else None\n",
    "    dl = to_dataloader(ds, bs, sampler=sampler, drop_last=True)\n",
    "    dls.append(dl)\n",
    "model_name = \"lstm_balanced\"\n",
    "hp = {**DEFAULT_HP, \"model\": model, \"lr\":2e-2}\n",
    "trainer = Trainer(\"sample\", model_name, dls, hp, bs)"
   ]
  },
  {
   "cell_type": "code",
   "execution_count": 12,
   "metadata": {},
   "outputs": [
    {
     "output_type": "stream",
     "name": "stderr",
     "text": [
      "  0%|          | 0/287 [00:00<?, ?it/s]epoch number: 0\n",
      "100%|██████████| 287/287 [00:21<00:00, 13.34it/s]\n",
      "  0%|          | 0/41 [00:00<?, ?it/s]\n",
      "epoch train info: loss:1.7613226175308228, acc:0.7035877613240418, f1Score:0.7008427661354133\n",
      "100%|██████████| 41/41 [00:12<00:00,  3.16it/s]\n",
      "\n",
      "epoch val info: loss:1.704470157623291, acc:0.756859756097561, f1Score:0.7181391136658499\n",
      "100%|██████████| 82/82 [00:14<00:00,  5.52it/s]\n",
      "epoch test info: loss:1.704953908920288, acc:0.7550495426829268, f1Score:0.7142780651623054\n",
      "\n"
     ]
    }
   ],
   "source": [
    "trainer.one_cycle()"
   ]
  },
  {
   "source": [
    "## LSTM Bigram"
   ],
   "cell_type": "markdown",
   "metadata": {}
  },
  {
   "cell_type": "code",
   "execution_count": 13,
   "metadata": {},
   "outputs": [],
   "source": [
    "from proj.data.data import *\n",
    "from proj.main import *\n",
    "from proj.models import all_tokenizers\n",
    "import os\n",
    "import pandas as pd\n",
    "\n",
    "subset_df = pd.read_csv(os.path.join(\n",
    "    DATA_DIR, \"train_test_split_dataset.csv\"))\n",
    "dfs = split_col(subset_df)\n",
    "dls = []\n",
    "bs = 256\n",
    "model = \"lstmBigram\"\n",
    "tokenizer = None\n",
    "\n",
    "if model in all_tokenizers:\n",
    "    tokenizer = all_tokenizers[model]()\n",
    "\n",
    "for i, d in enumerate(dfs):\n",
    "    ds = NewsDataset(d, tokenizer=tokenizer)\n",
    "    sampler = get_weighted_sampler(ds.labels()) if i == 0 else None\n",
    "    dl = to_dataloader(ds, bs, sampler=sampler, drop_last=True)\n",
    "    dls.append(dl)\n",
    "\n",
    "hp = {**DEFAULT_HP, \"model\": model, \"lr\":2e-4}\n",
    "trainer = Trainer(\"sample\", \"lstm_bigram\", dls, hp, bs)"
   ]
  },
  {
   "cell_type": "code",
   "execution_count": 14,
   "metadata": {},
   "outputs": [
    {
     "output_type": "stream",
     "name": "stderr",
     "text": [
      "  0%|          | 0/143 [00:00<?, ?it/s]epoch number: 0\n",
      "100%|██████████| 143/143 [00:21<00:00,  6.70it/s]\n",
      "  0%|          | 0/20 [00:00<?, ?it/s]\n",
      "epoch train info: loss:2.2415928840637207, acc:0.314767263986014, f1Score:0.27286364189383144\n",
      "100%|██████████| 20/20 [00:13<00:00,  1.51it/s]\n",
      "\n",
      "epoch val info: loss:2.147268056869507, acc:0.3396484375, f1Score:0.28185633857560716\n",
      "100%|██████████| 41/41 [00:14<00:00,  2.78it/s]\n",
      "epoch test info: loss:2.1416852474212646, acc:0.3407012195121951, f1Score:0.28451958096045316\n",
      "\n"
     ]
    }
   ],
   "source": [
    "trainer.one_cycle()"
   ]
  }
 ]
}