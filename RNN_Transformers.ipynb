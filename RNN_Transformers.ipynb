{
 "metadata": {
  "language_info": {
   "codemirror_mode": {
    "name": "ipython",
    "version": 3
   },
   "file_extension": ".py",
   "mimetype": "text/x-python",
   "name": "python",
   "nbconvert_exporter": "python",
   "pygments_lexer": "ipython3",
   "version": "3.7.8"
  },
  "orig_nbformat": 2,
  "kernelspec": {
   "name": "python378jvsc74a57bd00f891fb4abc7e5b7925564c7fc55f147423425570aa5a97acbb1dd5ff2003f14",
   "display_name": "Python 3.7.8 64-bit"
  }
 },
 "nbformat": 4,
 "nbformat_minor": 2,
 "cells": [
  {
   "source": [
    "## Small tfmer"
   ],
   "cell_type": "markdown",
   "metadata": {}
  },
  {
   "cell_type": "code",
   "execution_count": null,
   "metadata": {},
   "outputs": [],
   "source": [
    "from proj.data.data import *\n",
    "from proj.main import *\n",
    "from proj.models import all_tokenizers\n",
    "import os\n",
    "import pandas as pd\n",
    "\n",
    "subset_df = pd.read_csv(os.path.join(\n",
    "    DATA_DIR, \"train_test_split_dataset.csv\"))\n",
    "dfs = split_col(subset_df)\n",
    "dls = []\n",
    "bs = 256\n",
    "model = \"distilBertSmall\"\n",
    "tokenizer = None\n",
    "sampler = None\n",
    "\n",
    "if model in all_tokenizers:\n",
    "    tokenizer = all_tokenizers[model]()\n",
    "\n",
    "for i, d in enumerate(dfs):\n",
    "    ds = NewsDataset(d, tokenizer=tokenizer)\n",
    "    sampler = get_weighted_sampler(ds.labels()) if i == 0 else None\n",
    "    dl = to_dataloader(ds, bs, sampler=sampler, drop_last=False)\n",
    "    dls.append(dl)\n",
    "model_name = \"distilBertSmall\"\n",
    "hp = {**DEFAULT_HP, \"model\": model, \"lr\":2e-4, \"epochs\":5}\n",
    "trainer = Trainer(\"sample\", model_name, dls, hp, bs)"
   ]
  },
  {
   "cell_type": "code",
   "execution_count": null,
   "metadata": {},
   "outputs": [],
   "source": [
    "trainer.one_cycle()"
   ]
  },
  {
   "source": [
    "## Embed training"
   ],
   "cell_type": "markdown",
   "metadata": {}
  },
  {
   "cell_type": "code",
   "execution_count": null,
   "metadata": {},
   "outputs": [],
   "source": [
    "from proj.data.data import *\n",
    "from proj.main import *\n",
    "from proj.models import all_tokenizers\n",
    "import os\n",
    "import pandas as pd\n",
    "\n",
    "subset_df = pd.read_csv(os.path.join(\n",
    "    DATA_DIR, \"train_test_split_dataset.csv\"))\n",
    "dfs = split(subset_df)\n",
    "dls = []\n",
    "bs = 256\n",
    "model = \"distilBertEmbed\"\n",
    "tokenizer = None\n",
    "sampler = None\n",
    "\n",
    "if model in all_tokenizers:\n",
    "    tokenizer = all_tokenizers[model]()\n",
    "\n",
    "for i, d in enumerate(dfs):\n",
    "    # ds = NewsDataset(d, tokenizer=tokenizer, useBigram=True)\n",
    "    ds = NewsDataset(d, tokenizer=tokenizer, embed=True)\n",
    "    sampler = get_weighted_sampler(ds.labels()) if i == 0 else None\n",
    "    dl = to_dataloader(ds, bs, sampler=sampler, drop_last=False)\n",
    "    dls.append(dl)\n",
    "model_name = \"distilBertEmbed\"\n",
    "hp = {**DEFAULT_HP, \"model\": model, \"lr\":2e-4, \"epochs\":5}\n",
    "trainer = Trainer(\"sample\", model_name, dls, hp, bs)"
   ]
  },
  {
   "cell_type": "code",
   "execution_count": null,
   "metadata": {},
   "outputs": [],
   "source": [
    "trainer.one_cycle()"
   ]
  },
  {
   "source": [
    "## POS Tagging"
   ],
   "cell_type": "markdown",
   "metadata": {}
  },
  {
   "cell_type": "code",
   "execution_count": null,
   "metadata": {},
   "outputs": [],
   "source": [
    "from proj.data.data import *\n",
    "from proj.main import *\n",
    "from proj.models import all_tokenizers\n",
    "import os\n",
    "import pandas as pd\n",
    "\n",
    "subset_df = pd.read_csv(os.path.join(\n",
    "    DATA_DIR, \"train_test_split_dataset.csv\"))\n",
    "dfs = split_col(subset_df)\n",
    "dls = []\n",
    "bs = 256\n",
    "model = \"distilBertPOS\"\n",
    "tokenizer = None\n",
    "sampler = None\n",
    "\n",
    "if model in all_tokenizers:\n",
    "    tokenizer = all_tokenizers[model]()\n",
    "\n",
    "for i, d in enumerate(dfs):\n",
    "    # ds = NewsDataset(d, tokenizer=tokenizer, useBigram=True)\n",
    "    ds = NewsDataset(d, tokenizer=tokenizer)\n",
    "    sampler = get_weighted_sampler(ds.labels()) if i == 0 else None\n",
    "    dl = to_dataloader(ds, bs, sampler=sampler, drop_last=False)\n",
    "    dls.append(dl)\n",
    "model_name = \"distilBertPOS\"\n",
    "hp = {**DEFAULT_HP, \"model\": model, \"lr\":2e-4, \"epochs\":5}\n",
    "trainer = Trainer(\"sample\", model_name, dls, hp, bs)"
   ]
  },
  {
   "cell_type": "code",
   "execution_count": null,
   "metadata": {},
   "outputs": [],
   "source": [
    "trainer.one_cycle()"
   ]
  },
  {
   "source": [
    "## Training augmentation"
   ],
   "cell_type": "markdown",
   "metadata": {}
  },
  {
   "cell_type": "code",
   "execution_count": null,
   "metadata": {},
   "outputs": [],
   "source": [
    "from proj.data.data import *\n",
    "from proj.main import *\n",
    "from proj.models import all_tokenizers\n",
    "import os\n",
    "import pandas as pd\n",
    "\n",
    "subset_df = pd.read_csv(os.path.join(\n",
    "    DATA_DIR, \"train_test_split_dataset.csv\"))\n",
    "dfs = split_col(subset_df)\n",
    "dls = []\n",
    "bs = 256\n",
    "model = \"distilBert\"\n",
    "tokenizer = None\n",
    "sampler = None\n",
    "\n",
    "if model in all_tokenizers:\n",
    "    tokenizer = all_tokenizers[model]()\n",
    "\n",
    "for i, d in enumerate(dfs):\n",
    "    ds = NewsDataset(d, tokenizer=tokenizer, augment= (i==0))\n",
    "    sampler = get_weighted_sampler(ds.labels()) if i == 0 else None\n",
    "    dl = to_dataloader(ds, bs, sampler=sampler, drop_last=False)\n",
    "    dls.append(dl)\n",
    "model_name = \"distilBert_synAugment_0.3prob_2\"\n",
    "hp = {**DEFAULT_HP, \"model\": model, \"lr\":2e-4, \"epochs\":5}\n",
    "trainer = Trainer(\"sample\", model_name, dls, hp, bs)"
   ]
  },
  {
   "cell_type": "code",
   "execution_count": null,
   "metadata": {},
   "outputs": [],
   "source": [
    "trainer.one_cycle()"
   ]
  },
  {
   "source": [
    "## LSTM Attention"
   ],
   "cell_type": "markdown",
   "metadata": {}
  },
  {
   "cell_type": "code",
   "execution_count": null,
   "metadata": {},
   "outputs": [],
   "source": [
    "from proj.data.data import *\n",
    "from proj.main import *\n",
    "from proj.models import all_tokenizers\n",
    "import os\n",
    "import pandas as pd\n",
    "from torch.nn.utils.rnn import pad_packed_sequence\n",
    "\n",
    "subset_df = pd.read_csv(os.path.join(\n",
    "    DATA_DIR, \"train_test_split_dataset.csv\"))\n",
    "dfs = split_col(subset_df)\n",
    "dls = []\n",
    "bs = 128\n",
    "model = \"lstmAttention\"\n",
    "tokenizer = None\n",
    "sampler = None\n",
    "\n",
    "if model in all_tokenizers:\n",
    "    tokenizer = all_tokenizers[model]()\n",
    "\n",
    "for i, d in enumerate(dfs):\n",
    "    ds = NewsDataset(d, tokenizer=tokenizer)\n",
    "    sampler = get_weighted_sampler(ds.labels()) if i == 0 else None\n",
    "    dl = to_dataloader(ds, bs, sampler=sampler, drop_last=True)\n",
    "    dls.append(dl)\n",
    "model_name = \"lstmAttention_embed_train\"\n",
    "hp = {**DEFAULT_HP, \"model\": model, \"lr\":2e-4, \"epochs\":10}\n",
    "trainer = Trainer(\"sample\", model_name, dls, hp, bs)"
   ]
  },
  {
   "cell_type": "code",
   "execution_count": null,
   "metadata": {},
   "outputs": [],
   "source": [
    "trainer.one_cycle()"
   ]
  },
  {
   "cell_type": "code",
   "execution_count": null,
   "metadata": {},
   "outputs": [],
   "source": [
    "from proj.data.data import *\n",
    "from proj.main import *\n",
    "from proj.models import all_tokenizers\n",
    "import os\n",
    "import pandas as pd\n",
    "\n",
    "subset_df = pd.read_csv(os.path.join(\n",
    "    DATA_DIR, \"train_test_split_dataset.csv\"))\n",
    "dfs = split_col(subset_df)\n",
    "dls = []\n",
    "bs = 128\n",
    "model = \"lstm\"\n",
    "tokenizer = None\n",
    "sampler = None\n",
    "\n",
    "if model in all_tokenizers:\n",
    "    tokenizer = all_tokenizers[model]()\n",
    "\n",
    "for i, d in enumerate(dfs):\n",
    "    ds = NewsDataset(d, tokenizer=tokenizer)\n",
    "    sampler = get_weighted_sampler(ds.labels()) if i == 0 else None\n",
    "    dl = to_dataloader(ds, bs, sampler=sampler, drop_last=True)\n",
    "    dls.append(dl)\n",
    "model_name = \"lstm_balanced\"\n",
    "hp = {**DEFAULT_HP, \"model\": model, \"lr\":2e-2, \"epochs\":10}\n",
    "trainer = Trainer(\"sample\", model_name, dls, hp, bs)"
   ]
  },
  {
   "cell_type": "code",
   "execution_count": null,
   "metadata": {},
   "outputs": [],
   "source": [
    "trainer.one_cycle()"
   ]
  },
  {
   "source": [
    "## LSTM Bigram"
   ],
   "cell_type": "markdown",
   "metadata": {}
  },
  {
   "cell_type": "code",
   "execution_count": null,
   "metadata": {},
   "outputs": [],
   "source": [
    "from proj.data.data import *\n",
    "from proj.main import *\n",
    "from proj.models import all_tokenizers\n",
    "import os\n",
    "import pandas as pd\n",
    "\n",
    "subset_df = pd.read_csv(os.path.join(\n",
    "    DATA_DIR, \"train_test_split_dataset.csv\"))\n",
    "dfs = split_col(subset_df)\n",
    "dls = []\n",
    "bs = 256\n",
    "model = \"lstmBigram\"\n",
    "tokenizer = None\n",
    "\n",
    "if model in all_tokenizers:\n",
    "    tokenizer = all_tokenizers[model]()\n",
    "\n",
    "for i, d in enumerate(dfs):\n",
    "    ds = NewsDataset(d, tokenizer=tokenizer)\n",
    "    sampler = get_weighted_sampler(ds.labels()) if i == 0 else None\n",
    "    dl = to_dataloader(ds, bs, sampler=sampler, drop_last=True)\n",
    "    dls.append(dl)\n",
    "\n",
    "hp = {**DEFAULT_HP, \"model\": model, \"lr\":2e-4, \"epochs\":10}\n",
    "trainer = Trainer(\"sample\", \"lstm_bigram\", dls, hp, bs)"
   ]
  },
  {
   "cell_type": "code",
   "execution_count": null,
   "metadata": {},
   "outputs": [],
   "source": [
    "trainer.one_cycle()"
   ]
  },
  {
   "cell_type": "code",
   "execution_count": null,
   "metadata": {},
   "outputs": [],
   "source": [
    "weights_path = os.path.join(WEIGHTS_DIR, \"deep learning\", \"lstm_balanced.pkl\")\n",
    "sd = torch.load(weights_path)\n",
    "del sd['embedding.weight']\n",
    "trainer.model.load_state_dict(sd, strict=False)\n",
    "trainer.model.to(trainer.device)"
   ]
  }
 ]
}